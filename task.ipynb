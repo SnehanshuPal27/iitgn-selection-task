{
 "cells": [
  {
   "cell_type": "code",
   "execution_count": 32,
   "metadata": {},
   "outputs": [],
   "source": [
    "import os\n",
    "import numpy as np\n",
    "import matplotlib.pyplot as plt\n",
    "import pandas as pd\n",
    "import rasterio"
   ]
  },
  {
   "cell_type": "code",
   "execution_count": 33,
   "metadata": {},
   "outputs": [],
   "source": [
    "LABELS_DIR = \"/fab3/btech/2022/snehanshu.pal22b/SolarPanel/labels/labels_native\"\n",
    "IMAGES_DIR = \"/fab3/btech/2022/snehanshu.pal22b/SolarPanel/image_chips_native-20250212T103727Z-001/image_chips_native\"\n",
    "\n",
    "\n",
    "DEFAULT_METERS_PER_PIXEL = 0.31  \n",
    "\n",
    "def get_meters_per_pixel(tiff_path):\n",
    "    \n",
    "    try:\n",
    "        with rasterio.open(tiff_path) as src:\n",
    "            transform = src.transform\n",
    "            meters_per_pixel = abs(transform.a)  \n",
    "            return meters_per_pixel\n",
    "    except Exception as e:\n",
    "        print(f\"Could not read {tiff_path}: {e}\")\n",
    "        return DEFAULT_METERS_PER_PIXEL  \n",
    "\n",
    "def match_labels_to_images():\n",
    "   \n",
    "    \n",
    "    label_files = sorted([f for f in os.listdir(LABELS_DIR) if f.endswith(\".txt\")])\n",
    "    image_files = sorted([f for f in os.listdir(IMAGES_DIR) if f.endswith(\".tif\")])\n",
    "    \n",
    "    \n",
    "    label_map = {os.path.splitext(f)[0]: f for f in label_files}\n",
    "    image_map = {os.path.splitext(f)[0]: f for f in image_files}\n",
    "\n",
    "    \n",
    "    matched_pairs = []\n",
    "    for base_name in label_map:\n",
    "        if base_name in image_map:  \n",
    "            matched_pairs.append((label_map[base_name], image_map[base_name]))\n",
    "            # print(f\"Matched: {base_name}\")\n",
    "\n",
    "    return matched_pairs\n"
   ]
  },
  {
   "cell_type": "code",
   "execution_count": 34,
   "metadata": {},
   "outputs": [],
   "source": [
    "def analyze_label_distribution(matched_pairs):\n",
    "    \n",
    "    label_counts = []\n",
    "    \n",
    "    \n",
    "    for label_file, _ in matched_pairs:\n",
    "        with open(os.path.join(LABELS_DIR, label_file), \"r\") as file:\n",
    "            num_labels = len(file.readlines())\n",
    "            label_counts.append(num_labels)\n",
    "    \n",
    "    \n",
    "    min_labels = min(label_counts)\n",
    "    max_labels = max(label_counts)\n",
    "    \n",
    "    \n",
    "    distribution = {}\n",
    "    for count in range(min_labels, max_labels + 1):\n",
    "        num_images = label_counts.count(count)\n",
    "        if num_images > 0:  \n",
    "            distribution[count] = num_images\n",
    "    \n",
    "    \n",
    "    df = pd.DataFrame.from_dict(distribution, orient='index', columns=['Number of Images'])\n",
    "    df.index.name = 'Number of Labels'\n",
    "    \n",
    "    return df\n",
    "\n",
    "def count_solar_panels(matched_pairs):\n",
    "    \"\"\"Counts total instances of solar panels and label distribution per image.\"\"\"\n",
    "    total_instances = 0\n",
    "    label_counts = []\n",
    "\n",
    "    for label_file, _ in matched_pairs:\n",
    "        with open(os.path.join(LABELS_DIR, label_file), \"r\") as file:\n",
    "            lines = file.readlines()\n",
    "            count = sum(1 for line in lines if line.split()[0] == '0')  # Count only instances with class label 0\n",
    "            total_instances += count\n",
    "            label_counts.append(count)\n",
    "\n",
    "    return total_instances, label_counts\n"
   ]
  },
  {
   "cell_type": "code",
   "execution_count": 35,
   "metadata": {},
   "outputs": [],
   "source": [
    "matched_pairs = match_labels_to_images()\n",
    "\n",
    "total_instances, label_counts = count_solar_panels(matched_pairs)\n",
    "\n",
    "label_distribution = analyze_label_distribution(matched_pairs)"
   ]
  },
  {
   "cell_type": "code",
   "execution_count": 36,
   "metadata": {},
   "outputs": [],
   "source": [
    "with open('Q1_results.txt', 'w') as f:\n",
    "    \n",
    "    f.write(f\"Total number of solar panel instances: {total_instances}\\n\\n\")\n",
    "    \n",
    "    \n",
    "    f.write(\"Distribution of labels per image:\\n\")\n",
    "    f.write(\"--------------------------------\\n\")\n",
    "    f.write(label_distribution.to_string())"
   ]
  },
  {
   "cell_type": "code",
   "execution_count": 37,
   "metadata": {},
   "outputs": [],
   "source": [
    "def compute_area_statistics(matched_pairs):\n",
    "\n",
    "    areas = []\n",
    "\n",
    "    for label_file, image_file in matched_pairs:\n",
    "        image_path = os.path.join(IMAGES_DIR, image_file)\n",
    "        meters_per_pixel = get_meters_per_pixel(image_path)\n",
    "\n",
    "        with open(os.path.join(LABELS_DIR, label_file), \"r\") as file:\n",
    "            for line in file:\n",
    "                parts = line.strip().split()\n",
    "                class_label = int(parts[0])  \n",
    "                \n",
    "            \n",
    "                if class_label == 0:\n",
    "                    _, _, _, width, height = map(float, parts)  \n",
    "                    \n",
    "                   \n",
    "                    width_m = width * meters_per_pixel\n",
    "                    height_m = height * meters_per_pixel\n",
    "                    \n",
    "                    area = width_m * height_m  \n",
    "                    areas.append(area)\n",
    "\n",
    "    \n",
    "    mean_area = np.mean(areas) if areas else 0\n",
    "    std_area = np.std(areas) if areas else 0\n",
    "\n",
    "    return areas, mean_area, std_area\n",
    "\n",
    "def plot_area_histogram(areas):\n",
    "    \"\"\"Plots the histogram of computed areas.\"\"\"\n",
    "    plt.figure(figsize=(8, 5))\n",
    "    plt.hist(areas, bins=30, color='skyblue', edgecolor='black', alpha=0.7)\n",
    "    plt.xlabel(\"Area (sq. meters)\")\n",
    "    plt.ylabel(\"Frequency\")\n",
    "    plt.title(\"Histogram of Solar Panel Areas\")\n",
    "    plt.grid(axis=\"y\", linestyle=\"--\", alpha=0.7)\n",
    "    plt.show()\n",
    "\n",
    "    "
   ]
  },
  {
   "cell_type": "code",
   "execution_count": 38,
   "metadata": {},
   "outputs": [
    {
     "name": "stderr",
     "output_type": "stream",
     "text": [
      "NotGeoreferencedWarning: Dataset has no geotransform, gcps, or rpcs. The identity matrix will be returned.\n"
     ]
    },
    {
     "name": "stdout",
     "output_type": "stream",
     "text": [
      "\n",
      "Mean Area: 0.01 sq. meters\n",
      "Standard Deviation: 0.04 sq. meters\n"
     ]
    },
    {
     "data": {
      "image/png": "[encoded data removed]",
      "text/plain": [
       "<Figure size 800x500 with 1 Axes>"
      ]
     },
     "metadata": {},
     "output_type": "display_data"
    }
   ],
   "source": [
    "areas, mean_area, std_area = compute_area_statistics(matched_pairs)\n",
    "print(f\"\\nMean Area: {mean_area:.2f} sq. meters\")\n",
    "print(f\"Standard Deviation: {std_area:.2f} sq. meters\")\n",
    "\n",
    "\n",
    "plot_area_histogram(areas)"
   ]
  },
  {
   "cell_type": "markdown",
   "metadata": {},
   "source": [
    "# Observations from the Histogram of Solar Panel Areas\n",
    "\n",
    "- **Highly Skewed Distribution**: The histogram is heavily right-skewed, indicating that most solar panel areas are very small.  \n",
    "- **Majority of Areas are Small**: A large number of data points fall within the smallest bin, suggesting that most panels in the dataset have very small surface areas.  \n",
    "- **Few Large Panels**: There are very few instances of larger panel areas (above 0.1 square meters), as seen in the long right tail of the distribution.  \n",
    "- **Possible Data Issues**: The extreme concentration near zero might indicate:\n",
    "  - Measurement precision issues.\n",
    "  - The dataset including many small or partial solar panel installations.\n",
    "  - Potential data entry inconsistencies."
   ]
  },
  {
   "cell_type": "code",
   "execution_count": 39,
   "metadata": {},
   "outputs": [],
   "source": [
    "from shapely.geometry import box\n",
    "from sklearn.metrics import auc\n",
    "import random\n",
    "from shapely.geometry import box "
   ]
  },
  {
   "cell_type": "code",
   "execution_count": 40,
   "metadata": {},
   "outputs": [],
   "source": [
    "def compute_iou(box1, box2):\n",
    "    \n",
    "    polygon1 = box(*box1)\n",
    "    polygon2 = box(*box2)\n",
    "    \n",
    "    if not polygon1.intersects(polygon2):\n",
    "        return 0.0\n",
    "    \n",
    "    intersection_area = polygon1.intersection(polygon2).area\n",
    "    union_area = polygon1.union(polygon2).area\n",
    "    \n",
    "    return intersection_area / union_area\n",
    "\n",
    "def pascal_voc_11_point_ap(recalls, precisions):\n",
    "    \n",
    "    ap = 0.0\n",
    "    for t in np.linspace(0, 1, 11):\n",
    "        p = np.max(precisions[recalls >= t]) if np.sum(recalls >= t) != 0 else 0\n",
    "        ap += p / 11.0\n",
    "    return ap\n",
    "\n",
    "def coco_101_point_ap(recalls, precisions):\n",
    "   \n",
    "    ap = 0.0\n",
    "    for t in np.linspace(0, 1, 101):\n",
    "        p = np.max(precisions[recalls >= t]) if np.sum(recalls >= t) != 0 else 0\n",
    "        ap += p / 101.0\n",
    "    return ap\n",
    "\n",
    "def auc_pr_ap(recalls, precisions):\n",
    "    \n",
    "    return auc(recalls, precisions)\n",
    "\n",
    "def compute_precision_recall(gt_boxes, pred_boxes, iou_threshold=0.5):\n",
    "    \n",
    "    tp = 0\n",
    "    fp = 0\n",
    "    fn = len(gt_boxes)\n",
    "    \n",
    "    for pred_box in pred_boxes:\n",
    "        ious = [compute_iou(pred_box, gt_box) for gt_box in gt_boxes]\n",
    "        if max(ious) >= iou_threshold:\n",
    "            tp += 1\n",
    "            fn -= 1\n",
    "        else:\n",
    "            fp += 1\n",
    "    \n",
    "    precision = tp / (tp + fp) if (tp + fp) > 0 else 0\n",
    "    recall = tp / (tp + fn) if (tp + fn) > 0 else 0\n",
    "    \n",
    "    return precision, recall\n",
    "\n",
    "\n"
   ]
  },
  {
   "cell_type": "code",
   "execution_count": 41,
   "metadata": {},
   "outputs": [],
   "source": [
    "def generate_random_boxes(image_size, box_size, num_boxes):\n",
    "    \"\"\"Generate random bounding boxes within the given image size.\"\"\"\n",
    "    boxes = []\n",
    "    for _ in range(num_boxes):\n",
    "        x_min = random.randint(0, image_size - box_size)\n",
    "        y_min = random.randint(0, image_size - box_size)\n",
    "        x_max = x_min + box_size\n",
    "        y_max = y_min + box_size\n",
    "        boxes.append((x_min, y_min, x_max, y_max))\n",
    "    return boxes\n"
   ]
  },
  {
   "cell_type": "code",
   "execution_count": 42,
   "metadata": {},
   "outputs": [
    {
     "name": "stdout",
     "output_type": "stream",
     "text": [
      "Pascal VOC 11-point AP: 0.0818\n",
      "COCO 101-point AP: 0.0921\n",
      "AUC-PR AP: 0.0450\n"
     ]
    }
   ],
   "source": [
    "image_size = 100\n",
    "box_size = 20\n",
    "num_images = 10\n",
    "num_boxes = 10\n",
    "iou_threshold = 0.5\n",
    "\n",
    "precisions = []\n",
    "recalls = []\n",
    "\n",
    "for _ in range(num_images):\n",
    "    gt_boxes = generate_random_boxes(image_size, box_size, num_boxes)\n",
    "    pred_boxes = generate_random_boxes(image_size, box_size, num_boxes)\n",
    "    \n",
    "    precision, recall = compute_precision_recall(gt_boxes, pred_boxes, iou_threshold)\n",
    "    precisions.append(precision)\n",
    "    recalls.append(recall)\n",
    "\n",
    "precisions = np.array(precisions)\n",
    "recalls = np.array(recalls)\n",
    "\n",
    "# Sort by recall\n",
    "sorted_indices = np.argsort(recalls)\n",
    "recalls = recalls[sorted_indices]\n",
    "precisions = precisions[sorted_indices]\n",
    "\n",
    "ap_voc = pascal_voc_11_point_ap(recalls, precisions)\n",
    "ap_coco = coco_101_point_ap(recalls, precisions)\n",
    "ap_auc = auc_pr_ap(recalls, precisions)\n",
    "\n",
    "print(f\"Pascal VOC 11-point AP: {ap_voc:.4f}\")\n",
    "print(f\"COCO 101-point AP: {ap_coco:.4f}\")\n",
    "print(f\"AUC-PR AP: {ap_auc:.4f}\")"
   ]
  },
  {
   "cell_type": "code",
   "execution_count": null,
   "metadata": {},
   "outputs": [],
   "source": [
    "from sklearn.model_selection import train_test_split\n",
    "from ultralytics import YOLO\n",
    "import shutil\n",
    "\n",
    "dataset_dir = os.path.abspath(\"yolo_dataset\")  \n",
    "  "
   ]
  },
  {
   "cell_type": "code",
   "execution_count": null,
   "metadata": {},
   "outputs": [
    {
     "name": "stdout",
     "output_type": "stream",
     "text": [
      "Total images with class 0 labels: 2527\n"
     ]
    },
    {
     "ename": "KeyboardInterrupt",
     "evalue": "",
     "output_type": "error",
     "traceback": [
      "\u001b[0;31m---------------------------------------------------------------------------\u001b[0m",
      "\u001b[0;31mKeyboardInterrupt\u001b[0m                         Traceback (most recent call last)",
      "Cell \u001b[0;32mIn[44], line 55\u001b[0m\n\u001b[1;32m     51\u001b[0m         \u001b[38;5;66;03m# Copy filtered label\u001b[39;00m\n\u001b[1;32m     52\u001b[0m         shutil\u001b[38;5;241m.\u001b[39mcopy(os\u001b[38;5;241m.\u001b[39mpath\u001b[38;5;241m.\u001b[39mjoin(dataset_dir, \u001b[38;5;124m'\u001b[39m\u001b[38;5;124mtemp_labels\u001b[39m\u001b[38;5;124m'\u001b[39m, label),\n\u001b[1;32m     53\u001b[0m                    os\u001b[38;5;241m.\u001b[39mpath\u001b[38;5;241m.\u001b[39mjoin(dataset_dir, \u001b[38;5;124m'\u001b[39m\u001b[38;5;124mlabels\u001b[39m\u001b[38;5;124m'\u001b[39m, split_name, label))\n\u001b[0;32m---> 55\u001b[0m \u001b[43mmove_files\u001b[49m\u001b[43m(\u001b[49m\u001b[43mtrain_data\u001b[49m\u001b[43m,\u001b[49m\u001b[43m \u001b[49m\u001b[38;5;124;43m'\u001b[39;49m\u001b[38;5;124;43mtrain\u001b[39;49m\u001b[38;5;124;43m'\u001b[39;49m\u001b[43m)\u001b[49m\n\u001b[1;32m     56\u001b[0m move_files(val_data, \u001b[38;5;124m'\u001b[39m\u001b[38;5;124mval\u001b[39m\u001b[38;5;124m'\u001b[39m)\n\u001b[1;32m     57\u001b[0m move_files(test_data, \u001b[38;5;124m'\u001b[39m\u001b[38;5;124mtest\u001b[39m\u001b[38;5;124m'\u001b[39m)\n",
      "Cell \u001b[0;32mIn[44], line 49\u001b[0m, in \u001b[0;36mmove_files\u001b[0;34m(data_split, split_name)\u001b[0m\n\u001b[1;32m     46\u001b[0m \u001b[38;5;28;01mdef\u001b[39;00m \u001b[38;5;21mmove_files\u001b[39m(data_split, split_name):\n\u001b[1;32m     47\u001b[0m     \u001b[38;5;28;01mfor\u001b[39;00m img, label \u001b[38;5;129;01min\u001b[39;00m data_split:\n\u001b[1;32m     48\u001b[0m         \u001b[38;5;66;03m# Copy image\u001b[39;00m\n\u001b[0;32m---> 49\u001b[0m         \u001b[43mshutil\u001b[49m\u001b[38;5;241;43m.\u001b[39;49m\u001b[43mcopy\u001b[49m\u001b[43m(\u001b[49m\u001b[43mos\u001b[49m\u001b[38;5;241;43m.\u001b[39;49m\u001b[43mpath\u001b[49m\u001b[38;5;241;43m.\u001b[39;49m\u001b[43mjoin\u001b[49m\u001b[43m(\u001b[49m\u001b[43mIMAGES_DIR\u001b[49m\u001b[43m,\u001b[49m\u001b[43m \u001b[49m\u001b[43mimg\u001b[49m\u001b[43m)\u001b[49m\u001b[43m,\u001b[49m\u001b[43m \u001b[49m\n\u001b[1;32m     50\u001b[0m \u001b[43m                   \u001b[49m\u001b[43mos\u001b[49m\u001b[38;5;241;43m.\u001b[39;49m\u001b[43mpath\u001b[49m\u001b[38;5;241;43m.\u001b[39;49m\u001b[43mjoin\u001b[49m\u001b[43m(\u001b[49m\u001b[43mdataset_dir\u001b[49m\u001b[43m,\u001b[49m\u001b[43m \u001b[49m\u001b[38;5;124;43m'\u001b[39;49m\u001b[38;5;124;43mimages\u001b[39;49m\u001b[38;5;124;43m'\u001b[39;49m\u001b[43m,\u001b[49m\u001b[43m \u001b[49m\u001b[43msplit_name\u001b[49m\u001b[43m,\u001b[49m\u001b[43m \u001b[49m\u001b[43mimg\u001b[49m\u001b[43m)\u001b[49m\u001b[43m)\u001b[49m\n\u001b[1;32m     51\u001b[0m         \u001b[38;5;66;03m# Copy filtered label\u001b[39;00m\n\u001b[1;32m     52\u001b[0m         shutil\u001b[38;5;241m.\u001b[39mcopy(os\u001b[38;5;241m.\u001b[39mpath\u001b[38;5;241m.\u001b[39mjoin(dataset_dir, \u001b[38;5;124m'\u001b[39m\u001b[38;5;124mtemp_labels\u001b[39m\u001b[38;5;124m'\u001b[39m, label),\n\u001b[1;32m     53\u001b[0m                    os\u001b[38;5;241m.\u001b[39mpath\u001b[38;5;241m.\u001b[39mjoin(dataset_dir, \u001b[38;5;124m'\u001b[39m\u001b[38;5;124mlabels\u001b[39m\u001b[38;5;124m'\u001b[39m, split_name, label))\n",
      "File \u001b[0;32m~/anaconda3/envs/iitgn/lib/python3.8/shutil.py:418\u001b[0m, in \u001b[0;36mcopy\u001b[0;34m(src, dst, follow_symlinks)\u001b[0m\n\u001b[1;32m    416\u001b[0m \u001b[38;5;28;01mif\u001b[39;00m os\u001b[38;5;241m.\u001b[39mpath\u001b[38;5;241m.\u001b[39misdir(dst):\n\u001b[1;32m    417\u001b[0m     dst \u001b[38;5;241m=\u001b[39m os\u001b[38;5;241m.\u001b[39mpath\u001b[38;5;241m.\u001b[39mjoin(dst, os\u001b[38;5;241m.\u001b[39mpath\u001b[38;5;241m.\u001b[39mbasename(src))\n\u001b[0;32m--> 418\u001b[0m \u001b[43mcopyfile\u001b[49m\u001b[43m(\u001b[49m\u001b[43msrc\u001b[49m\u001b[43m,\u001b[49m\u001b[43m \u001b[49m\u001b[43mdst\u001b[49m\u001b[43m,\u001b[49m\u001b[43m \u001b[49m\u001b[43mfollow_symlinks\u001b[49m\u001b[38;5;241;43m=\u001b[39;49m\u001b[43mfollow_symlinks\u001b[49m\u001b[43m)\u001b[49m\n\u001b[1;32m    419\u001b[0m copymode(src, dst, follow_symlinks\u001b[38;5;241m=\u001b[39mfollow_symlinks)\n\u001b[1;32m    420\u001b[0m \u001b[38;5;28;01mreturn\u001b[39;00m dst\n",
      "File \u001b[0;32m~/anaconda3/envs/iitgn/lib/python3.8/shutil.py:275\u001b[0m, in \u001b[0;36mcopyfile\u001b[0;34m(src, dst, follow_symlinks)\u001b[0m\n\u001b[1;32m    273\u001b[0m \u001b[38;5;28;01melif\u001b[39;00m _USE_CP_SENDFILE:\n\u001b[1;32m    274\u001b[0m     \u001b[38;5;28;01mtry\u001b[39;00m:\n\u001b[0;32m--> 275\u001b[0m         \u001b[43m_fastcopy_sendfile\u001b[49m\u001b[43m(\u001b[49m\u001b[43mfsrc\u001b[49m\u001b[43m,\u001b[49m\u001b[43m \u001b[49m\u001b[43mfdst\u001b[49m\u001b[43m)\u001b[49m\n\u001b[1;32m    276\u001b[0m         \u001b[38;5;28;01mreturn\u001b[39;00m dst\n\u001b[1;32m    277\u001b[0m     \u001b[38;5;28;01mexcept\u001b[39;00m _GiveupOnFastCopy:\n",
      "File \u001b[0;32m~/anaconda3/envs/iitgn/lib/python3.8/shutil.py:152\u001b[0m, in \u001b[0;36m_fastcopy_sendfile\u001b[0;34m(fsrc, fdst)\u001b[0m\n\u001b[1;32m    150\u001b[0m \u001b[38;5;28;01mwhile\u001b[39;00m \u001b[38;5;28;01mTrue\u001b[39;00m:\n\u001b[1;32m    151\u001b[0m     \u001b[38;5;28;01mtry\u001b[39;00m:\n\u001b[0;32m--> 152\u001b[0m         sent \u001b[38;5;241m=\u001b[39m \u001b[43mos\u001b[49m\u001b[38;5;241;43m.\u001b[39;49m\u001b[43msendfile\u001b[49m\u001b[43m(\u001b[49m\u001b[43moutfd\u001b[49m\u001b[43m,\u001b[49m\u001b[43m \u001b[49m\u001b[43minfd\u001b[49m\u001b[43m,\u001b[49m\u001b[43m \u001b[49m\u001b[43moffset\u001b[49m\u001b[43m,\u001b[49m\u001b[43m \u001b[49m\u001b[43mblocksize\u001b[49m\u001b[43m)\u001b[49m\n\u001b[1;32m    153\u001b[0m     \u001b[38;5;28;01mexcept\u001b[39;00m \u001b[38;5;167;01mOSError\u001b[39;00m \u001b[38;5;28;01mas\u001b[39;00m err:\n\u001b[1;32m    154\u001b[0m         \u001b[38;5;66;03m# ...in oder to have a more informative exception.\u001b[39;00m\n\u001b[1;32m    155\u001b[0m         err\u001b[38;5;241m.\u001b[39mfilename \u001b[38;5;241m=\u001b[39m fsrc\u001b[38;5;241m.\u001b[39mname\n",
      "\u001b[0;31mKeyboardInterrupt\u001b[0m: "
     ]
    }
   ],
   "source": [
    "\n",
    "\n",
    "\n",
    "for split in ['train', 'val', 'test']:\n",
    "    os.makedirs(os.path.join(dataset_dir, 'images', split), exist_ok=True)\n",
    "    os.makedirs(os.path.join(dataset_dir, 'labels', split), exist_ok=True)\n",
    "\n",
    "\n",
    "image_files = [f for f in os.listdir(IMAGES_DIR) if f.endswith('.tif')]\n",
    "\n",
    "def filter_labels(label_path, output_path):\n",
    "    \"\"\"Filter labels to keep only class 0 and write to new file\"\"\"\n",
    "    filtered_lines = []\n",
    "    try:\n",
    "        with open(label_path, 'r') as file:\n",
    "            for line in file:\n",
    "                parts = line.split()\n",
    "                if int(parts[0]) == 0:  \n",
    "                    filtered_lines.append(line)\n",
    "        \n",
    "        with open(output_path, 'w') as file:\n",
    "            file.writelines(filtered_lines)\n",
    "        return len(filtered_lines) > 0  \n",
    "    except:\n",
    "        return False\n",
    "\n",
    "\n",
    "data = []\n",
    "for img in image_files:\n",
    "    label_file = os.path.splitext(img)[0] + \".txt\"\n",
    "    if label_file in os.listdir(LABELS_DIR):\n",
    "        src_label_path = os.path.join(LABELS_DIR, label_file)\n",
    "        # Create filtered label in temporary location\n",
    "        temp_label_path = os.path.join(dataset_dir, 'temp_labels', label_file)\n",
    "        os.makedirs(os.path.join(dataset_dir, 'temp_labels'), exist_ok=True)\n",
    "        \n",
    "        if filter_labels(src_label_path, temp_label_path):\n",
    "            data.append((img, label_file))\n",
    "\n",
    "print(f\"Total images with class 0 labels: {len(data)}\")\n",
    "\n",
    "\n",
    "train_data, test_data = train_test_split(data, test_size=0.2)\n",
    "\n",
    "train_data, val_data = train_test_split(train_data, test_size=0.1)\n",
    "\n",
    "\n",
    "def move_files(data_split, split_name):\n",
    "    for img, label in data_split:\n",
    "        \n",
    "        shutil.copy(os.path.join(IMAGES_DIR, img), \n",
    "                   os.path.join(dataset_dir, 'images', split_name, img))\n",
    "        \n",
    "        shutil.copy(os.path.join(dataset_dir, 'temp_labels', label),\n",
    "                   os.path.join(dataset_dir, 'labels', split_name, label))\n",
    "\n",
    "move_files(train_data, 'train')\n",
    "move_files(val_data, 'val')\n",
    "move_files(test_data, 'test')\n",
    "\n",
    "\n",
    "shutil.rmtree(os.path.join(dataset_dir, 'temp_labels'))\n",
    "\n",
    "\n",
    "data_yaml = f\"\"\"\n",
    "nc: 1\n",
    "names: [\"solar_panel\"]\n",
    "download: \"\"\n",
    "train: {os.path.join(dataset_dir, 'images', 'train')}\n",
    "val: {os.path.join(dataset_dir, 'images', 'val')}\n",
    "test: {os.path.join(dataset_dir, 'images', 'test')}\n",
    "\"\"\"\n",
    "\n",
    "with open(os.path.join(dataset_dir, \"data.yaml\"), \"w\") as f:\n",
    "    f.write(data_yaml)"
   ]
  },
  {
   "cell_type": "code",
   "execution_count": 45,
   "metadata": {},
   "outputs": [
    {
     "name": "stdout",
     "output_type": "stream",
     "text": [
      "True\n"
     ]
    }
   ],
   "source": [
    "print(os.path.exists(os.path.join(dataset_dir, \"data.yaml\")))  \n"
   ]
  },
  {
   "cell_type": "code",
   "execution_count": 46,
   "metadata": {},
   "outputs": [
    {
     "name": "stdout",
     "output_type": "stream",
     "text": [
      "New https://pypi.org/project/ultralytics/8.3.81 available 😃 Update with 'pip install -U ultralytics'\n",
      "Ultralytics 8.3.75 🚀 Python-3.8.20 torch-2.4.1+cu121 CUDA:5 (NVIDIA A100-PCIE-40GB, 40338MiB)\n",
      "\u001b[34m\u001b[1mengine/trainer: \u001b[0mtask=detect, mode=train, model=yolov8s.pt, data=/fab3/btech/2022/snehanshu.pal22b/SolarPanel/yolo_dataset/data.yaml, epochs=20, time=None, patience=100, batch=16, imgsz=416, save=True, save_period=-1, cache=False, device=5, workers=8, project=None, name=train3, exist_ok=False, pretrained=True, optimizer=auto, verbose=True, seed=0, deterministic=True, single_cls=False, rect=False, cos_lr=False, close_mosaic=10, resume=False, amp=True, fraction=1.0, profile=False, freeze=None, multi_scale=False, overlap_mask=True, mask_ratio=4, dropout=0.0, val=True, split=val, save_json=False, save_hybrid=False, conf=None, iou=0.7, max_det=300, half=False, dnn=False, plots=True, source=None, vid_stride=1, stream_buffer=False, visualize=False, augment=False, agnostic_nms=False, classes=None, retina_masks=False, embed=None, show=False, save_frames=False, save_txt=False, save_conf=False, save_crop=False, show_labels=True, show_conf=True, show_boxes=True, line_width=None, format=torchscript, keras=False, optimize=False, int8=False, dynamic=False, simplify=True, opset=None, workspace=None, nms=False, lr0=0.01, lrf=0.01, momentum=0.937, weight_decay=0.0005, warmup_epochs=3.0, warmup_momentum=0.8, warmup_bias_lr=0.1, box=7.5, cls=0.5, dfl=1.5, pose=12.0, kobj=1.0, nbs=64, hsv_h=0.015, hsv_s=0.7, hsv_v=0.4, degrees=0.0, translate=0.1, scale=0.5, shear=0.0, perspective=0.0, flipud=0.0, fliplr=0.5, bgr=0.0, mosaic=1.0, mixup=0.0, copy_paste=0.0, copy_paste_mode=flip, auto_augment=randaugment, erasing=0.4, crop_fraction=1.0, cfg=None, tracker=botsort.yaml, save_dir=runs/detect/train3\n",
      "Overriding model.yaml nc=80 with nc=1\n",
      "\n",
      "                   from  n    params  module                                       arguments                     \n",
      "  0                  -1  1       928  ultralytics.nn.modules.conv.Conv             [3, 32, 3, 2]                 \n",
      "  1                  -1  1     18560  ultralytics.nn.modules.conv.Conv             [32, 64, 3, 2]                \n",
      "  2                  -1  1     29056  ultralytics.nn.modules.block.C2f             [64, 64, 1, True]             \n",
      "  3                  -1  1     73984  ultralytics.nn.modules.conv.Conv             [64, 128, 3, 2]               \n",
      "  4                  -1  2    197632  ultralytics.nn.modules.block.C2f             [128, 128, 2, True]           \n",
      "  5                  -1  1    295424  ultralytics.nn.modules.conv.Conv             [128, 256, 3, 2]              \n",
      "  6                  -1  2    788480  ultralytics.nn.modules.block.C2f             [256, 256, 2, True]           \n",
      "  7                  -1  1   1180672  ultralytics.nn.modules.conv.Conv             [256, 512, 3, 2]              \n",
      "  8                  -1  1   1838080  ultralytics.nn.modules.block.C2f             [512, 512, 1, True]           \n",
      "  9                  -1  1    656896  ultralytics.nn.modules.block.SPPF            [512, 512, 5]                 \n",
      " 10                  -1  1         0  torch.nn.modules.upsampling.Upsample         [None, 2, 'nearest']          \n",
      " 11             [-1, 6]  1         0  ultralytics.nn.modules.conv.Concat           [1]                           \n",
      " 12                  -1  1    591360  ultralytics.nn.modules.block.C2f             [768, 256, 1]                 \n",
      " 13                  -1  1         0  torch.nn.modules.upsampling.Upsample         [None, 2, 'nearest']          \n",
      " 14             [-1, 4]  1         0  ultralytics.nn.modules.conv.Concat           [1]                           \n",
      " 15                  -1  1    148224  ultralytics.nn.modules.block.C2f             [384, 128, 1]                 \n",
      " 16                  -1  1    147712  ultralytics.nn.modules.conv.Conv             [128, 128, 3, 2]              \n",
      " 17            [-1, 12]  1         0  ultralytics.nn.modules.conv.Concat           [1]                           \n",
      " 18                  -1  1    493056  ultralytics.nn.modules.block.C2f             [384, 256, 1]                 \n",
      " 19                  -1  1    590336  ultralytics.nn.modules.conv.Conv             [256, 256, 3, 2]              \n",
      " 20             [-1, 9]  1         0  ultralytics.nn.modules.conv.Concat           [1]                           \n",
      " 21                  -1  1   1969152  ultralytics.nn.modules.block.C2f             [768, 512, 1]                 \n",
      " 22        [15, 18, 21]  1   2116435  ultralytics.nn.modules.head.Detect           [1, [128, 256, 512]]          \n",
      "Model summary: 225 layers, 11,135,987 parameters, 11,135,971 gradients, 28.6 GFLOPs\n",
      "\n",
      "Transferred 349/355 items from pretrained weights\n",
      "Freezing layer 'model.22.dfl.conv.weight'\n",
      "\u001b[34m\u001b[1mAMP: \u001b[0mrunning Automatic Mixed Precision (AMP) checks...\n",
      "\u001b[34m\u001b[1mAMP: \u001b[0mchecks passed ✅\n"
     ]
    },
    {
     "name": "stderr",
     "output_type": "stream",
     "text": [
      "\u001b[34m\u001b[1mtrain: \u001b[0mScanning /fab3/btech/2022/snehanshu.pal22b/SolarPanel/yolo_dataset/labels/train... 2320 images, 0 backgrounds, 0 corrupt: 100%|██████████| 2320/2320 [00:07<00:00, 291.85it/s]\n"
     ]
    },
    {
     "name": "stdout",
     "output_type": "stream",
     "text": [
      "\u001b[34m\u001b[1mtrain: \u001b[0mNew cache created: /fab3/btech/2022/snehanshu.pal22b/SolarPanel/yolo_dataset/labels/train.cache\n"
     ]
    },
    {
     "name": "stderr",
     "output_type": "stream",
     "text": [
      "\u001b[34m\u001b[1mval: \u001b[0mScanning /fab3/btech/2022/snehanshu.pal22b/SolarPanel/yolo_dataset/labels/val.cache... 203 images, 0 backgrounds, 0 corrupt: 100%|██████████| 203/203 [00:00<?, ?it/s]\n"
     ]
    },
    {
     "name": "stdout",
     "output_type": "stream",
     "text": [
      "Plotting labels to runs/detect/train3/labels.jpg... \n",
      "\u001b[34m\u001b[1moptimizer:\u001b[0m 'optimizer=auto' found, ignoring 'lr0=0.01' and 'momentum=0.937' and determining best 'optimizer', 'lr0' and 'momentum' automatically... \n",
      "\u001b[34m\u001b[1moptimizer:\u001b[0m AdamW(lr=0.002, momentum=0.9) with parameter groups 57 weight(decay=0.0), 64 weight(decay=0.0005), 63 bias(decay=0.0)\n",
      "Image sizes 416 train, 416 val\n",
      "Using 8 dataloader workers\n",
      "Logging results to \u001b[1mruns/detect/train3\u001b[0m\n",
      "Starting training for 20 epochs...\n",
      "\n",
      "      Epoch    GPU_mem   box_loss   cls_loss   dfl_loss  Instances       Size\n"
     ]
    },
    {
     "name": "stderr",
     "output_type": "stream",
     "text": [
      "       1/20      2.12G      1.773      1.769      1.307        175        416:  68%|██████▊   | 98/145 [00:45<00:15,  2.96it/s][ WARN:0@1164.458] global grfmt_tiff.cpp:833 readData OpenCV TIFF(line 833): failed TIFFReadRGBAStrip(tif, y, (uint32_t*)src_buffer)\n",
      "[ERROR:0@1164.470] global loadsave.cpp:507 imread_ imread_('/fab3/btech/2022/snehanshu.pal22b/SolarPanel/yolo_dataset/images/train/solarpanels_native_1__x0_4777_y0_5990_dxdy_416.tif'): can't read data: OpenCV(4.11.0) /io/opencv/modules/imgcodecs/src/grfmt_tiff.cpp:833: error: (-2:Unspecified error) OpenCV TIFF: failed TIFFReadRGBAStrip(tif, y, (uint32_t*)src_buffer) in function 'readData'\n",
      "\n",
      "       1/20      2.12G      1.727       1.66      1.278        172        416:  77%|███████▋  | 112/145 [00:50<00:14,  2.24it/s]\n"
     ]
    },
    {
     "ename": "FileNotFoundError",
     "evalue": "Caught FileNotFoundError in DataLoader worker process 0.\nOriginal Traceback (most recent call last):\n  File \"/fab3/btech/2022/snehanshu.pal22b/anaconda3/envs/iitgn/lib/python3.8/site-packages/torch/utils/data/_utils/worker.py\", line 309, in _worker_loop\n    data = fetcher.fetch(index)  # type: ignore[possibly-undefined]\n  File \"/fab3/btech/2022/snehanshu.pal22b/anaconda3/envs/iitgn/lib/python3.8/site-packages/torch/utils/data/_utils/fetch.py\", line 52, in fetch\n    data = [self.dataset[idx] for idx in possibly_batched_index]\n  File \"/fab3/btech/2022/snehanshu.pal22b/anaconda3/envs/iitgn/lib/python3.8/site-packages/torch/utils/data/_utils/fetch.py\", line 52, in <listcomp>\n    data = [self.dataset[idx] for idx in possibly_batched_index]\n  File \"/fab3/btech/2022/snehanshu.pal22b/anaconda3/envs/iitgn/lib/python3.8/site-packages/ultralytics/data/base.py\", line 288, in __getitem__\n    return self.transforms(self.get_image_and_label(index))\n  File \"/fab3/btech/2022/snehanshu.pal22b/anaconda3/envs/iitgn/lib/python3.8/site-packages/ultralytics/data/base.py\", line 294, in get_image_and_label\n    label[\"img\"], label[\"ori_shape\"], label[\"resized_shape\"] = self.load_image(index)\n  File \"/fab3/btech/2022/snehanshu.pal22b/anaconda3/envs/iitgn/lib/python3.8/site-packages/ultralytics/data/base.py\", line 165, in load_image\n    raise FileNotFoundError(f\"Image Not Found {f}\")\nFileNotFoundError: Image Not Found /fab3/btech/2022/snehanshu.pal22b/SolarPanel/yolo_dataset/images/train/solarpanels_native_1__x0_4777_y0_5990_dxdy_416.tif\n",
     "output_type": "error",
     "traceback": [
      "\u001b[0;31m---------------------------------------------------------------------------\u001b[0m",
      "\u001b[0;31mFileNotFoundError\u001b[0m                         Traceback (most recent call last)",
      "Cell \u001b[0;32mIn[46], line 2\u001b[0m\n\u001b[1;32m      1\u001b[0m model \u001b[38;5;241m=\u001b[39m YOLO(\u001b[38;5;124m\"\u001b[39m\u001b[38;5;124myolov8s.pt\u001b[39m\u001b[38;5;124m\"\u001b[39m) \n\u001b[0;32m----> 2\u001b[0m \u001b[43mmodel\u001b[49m\u001b[38;5;241;43m.\u001b[39;49m\u001b[43mtrain\u001b[49m\u001b[43m(\u001b[49m\u001b[43mdata\u001b[49m\u001b[38;5;241;43m=\u001b[39;49m\u001b[43mos\u001b[49m\u001b[38;5;241;43m.\u001b[39;49m\u001b[43mpath\u001b[49m\u001b[38;5;241;43m.\u001b[39;49m\u001b[43mjoin\u001b[49m\u001b[43m(\u001b[49m\u001b[43mdataset_dir\u001b[49m\u001b[43m,\u001b[49m\u001b[43m \u001b[49m\u001b[38;5;124;43m\"\u001b[39;49m\u001b[38;5;124;43mdata.yaml\u001b[39;49m\u001b[38;5;124;43m\"\u001b[39;49m\u001b[43m)\u001b[49m\u001b[43m,\u001b[49m\u001b[43m \u001b[49m\u001b[43mepochs\u001b[49m\u001b[38;5;241;43m=\u001b[39;49m\u001b[38;5;241;43m20\u001b[39;49m\u001b[43m,\u001b[49m\u001b[43m \u001b[49m\u001b[43mimgsz\u001b[49m\u001b[38;5;241;43m=\u001b[39;49m\u001b[38;5;241;43m416\u001b[39;49m\u001b[43m,\u001b[49m\u001b[43m \u001b[49m\u001b[43mdevice\u001b[49m\u001b[38;5;241;43m=\u001b[39;49m\u001b[38;5;124;43m\"\u001b[39;49m\u001b[38;5;124;43m5\u001b[39;49m\u001b[38;5;124;43m\"\u001b[39;49m\u001b[43m)\u001b[49m\n",
      "File \u001b[0;32m~/anaconda3/envs/iitgn/lib/python3.8/site-packages/ultralytics/engine/model.py:809\u001b[0m, in \u001b[0;36mModel.train\u001b[0;34m(self, trainer, **kwargs)\u001b[0m\n\u001b[1;32m    806\u001b[0m     \u001b[38;5;28mself\u001b[39m\u001b[38;5;241m.\u001b[39mmodel \u001b[38;5;241m=\u001b[39m \u001b[38;5;28mself\u001b[39m\u001b[38;5;241m.\u001b[39mtrainer\u001b[38;5;241m.\u001b[39mmodel\n\u001b[1;32m    808\u001b[0m \u001b[38;5;28mself\u001b[39m\u001b[38;5;241m.\u001b[39mtrainer\u001b[38;5;241m.\u001b[39mhub_session \u001b[38;5;241m=\u001b[39m \u001b[38;5;28mself\u001b[39m\u001b[38;5;241m.\u001b[39msession  \u001b[38;5;66;03m# attach optional HUB session\u001b[39;00m\n\u001b[0;32m--> 809\u001b[0m \u001b[38;5;28;43mself\u001b[39;49m\u001b[38;5;241;43m.\u001b[39;49m\u001b[43mtrainer\u001b[49m\u001b[38;5;241;43m.\u001b[39;49m\u001b[43mtrain\u001b[49m\u001b[43m(\u001b[49m\u001b[43m)\u001b[49m\n\u001b[1;32m    810\u001b[0m \u001b[38;5;66;03m# Update model and cfg after training\u001b[39;00m\n\u001b[1;32m    811\u001b[0m \u001b[38;5;28;01mif\u001b[39;00m RANK \u001b[38;5;129;01min\u001b[39;00m {\u001b[38;5;241m-\u001b[39m\u001b[38;5;241m1\u001b[39m, \u001b[38;5;241m0\u001b[39m}:\n",
      "File \u001b[0;32m~/anaconda3/envs/iitgn/lib/python3.8/site-packages/ultralytics/engine/trainer.py:208\u001b[0m, in \u001b[0;36mBaseTrainer.train\u001b[0;34m(self)\u001b[0m\n\u001b[1;32m    205\u001b[0m         ddp_cleanup(\u001b[38;5;28mself\u001b[39m, \u001b[38;5;28mstr\u001b[39m(file))\n\u001b[1;32m    207\u001b[0m \u001b[38;5;28;01melse\u001b[39;00m:\n\u001b[0;32m--> 208\u001b[0m     \u001b[38;5;28;43mself\u001b[39;49m\u001b[38;5;241;43m.\u001b[39;49m\u001b[43m_do_train\u001b[49m\u001b[43m(\u001b[49m\u001b[43mworld_size\u001b[49m\u001b[43m)\u001b[49m\n",
      "File \u001b[0;32m~/anaconda3/envs/iitgn/lib/python3.8/site-packages/ultralytics/engine/trainer.py:363\u001b[0m, in \u001b[0;36mBaseTrainer._do_train\u001b[0;34m(self, world_size)\u001b[0m\n\u001b[1;32m    361\u001b[0m     pbar \u001b[38;5;241m=\u001b[39m TQDM(\u001b[38;5;28menumerate\u001b[39m(\u001b[38;5;28mself\u001b[39m\u001b[38;5;241m.\u001b[39mtrain_loader), total\u001b[38;5;241m=\u001b[39mnb)\n\u001b[1;32m    362\u001b[0m \u001b[38;5;28mself\u001b[39m\u001b[38;5;241m.\u001b[39mtloss \u001b[38;5;241m=\u001b[39m \u001b[38;5;28;01mNone\u001b[39;00m\n\u001b[0;32m--> 363\u001b[0m \u001b[38;5;28;01mfor\u001b[39;00m i, batch \u001b[38;5;129;01min\u001b[39;00m pbar:\n\u001b[1;32m    364\u001b[0m     \u001b[38;5;28mself\u001b[39m\u001b[38;5;241m.\u001b[39mrun_callbacks(\u001b[38;5;124m\"\u001b[39m\u001b[38;5;124mon_train_batch_start\u001b[39m\u001b[38;5;124m\"\u001b[39m)\n\u001b[1;32m    365\u001b[0m     \u001b[38;5;66;03m# Warmup\u001b[39;00m\n",
      "File \u001b[0;32m~/anaconda3/envs/iitgn/lib/python3.8/site-packages/tqdm/std.py:1181\u001b[0m, in \u001b[0;36mtqdm.__iter__\u001b[0;34m(self)\u001b[0m\n\u001b[1;32m   1178\u001b[0m time \u001b[38;5;241m=\u001b[39m \u001b[38;5;28mself\u001b[39m\u001b[38;5;241m.\u001b[39m_time\n\u001b[1;32m   1180\u001b[0m \u001b[38;5;28;01mtry\u001b[39;00m:\n\u001b[0;32m-> 1181\u001b[0m     \u001b[38;5;28;01mfor\u001b[39;00m obj \u001b[38;5;129;01min\u001b[39;00m iterable:\n\u001b[1;32m   1182\u001b[0m         \u001b[38;5;28;01myield\u001b[39;00m obj\n\u001b[1;32m   1183\u001b[0m         \u001b[38;5;66;03m# Update and possibly print the progressbar.\u001b[39;00m\n\u001b[1;32m   1184\u001b[0m         \u001b[38;5;66;03m# Note: does not call self.update(1) for speed optimisation.\u001b[39;00m\n",
      "File \u001b[0;32m~/anaconda3/envs/iitgn/lib/python3.8/site-packages/ultralytics/data/build.py:48\u001b[0m, in \u001b[0;36mInfiniteDataLoader.__iter__\u001b[0;34m(self)\u001b[0m\n\u001b[1;32m     46\u001b[0m \u001b[38;5;250m\u001b[39m\u001b[38;5;124;03m\"\"\"Creates a sampler that repeats indefinitely.\"\"\"\u001b[39;00m\n\u001b[1;32m     47\u001b[0m \u001b[38;5;28;01mfor\u001b[39;00m _ \u001b[38;5;129;01min\u001b[39;00m \u001b[38;5;28mrange\u001b[39m(\u001b[38;5;28mlen\u001b[39m(\u001b[38;5;28mself\u001b[39m)):\n\u001b[0;32m---> 48\u001b[0m     \u001b[38;5;28;01myield\u001b[39;00m \u001b[38;5;28;43mnext\u001b[39;49m\u001b[43m(\u001b[49m\u001b[38;5;28;43mself\u001b[39;49m\u001b[38;5;241;43m.\u001b[39;49m\u001b[43miterator\u001b[49m\u001b[43m)\u001b[49m\n",
      "File \u001b[0;32m~/anaconda3/envs/iitgn/lib/python3.8/site-packages/torch/utils/data/dataloader.py:630\u001b[0m, in \u001b[0;36m_BaseDataLoaderIter.__next__\u001b[0;34m(self)\u001b[0m\n\u001b[1;32m    627\u001b[0m \u001b[38;5;28;01mif\u001b[39;00m \u001b[38;5;28mself\u001b[39m\u001b[38;5;241m.\u001b[39m_sampler_iter \u001b[38;5;129;01mis\u001b[39;00m \u001b[38;5;28;01mNone\u001b[39;00m:\n\u001b[1;32m    628\u001b[0m     \u001b[38;5;66;03m# TODO(https://github.com/pytorch/pytorch/issues/76750)\u001b[39;00m\n\u001b[1;32m    629\u001b[0m     \u001b[38;5;28mself\u001b[39m\u001b[38;5;241m.\u001b[39m_reset()  \u001b[38;5;66;03m# type: ignore[call-arg]\u001b[39;00m\n\u001b[0;32m--> 630\u001b[0m data \u001b[38;5;241m=\u001b[39m \u001b[38;5;28;43mself\u001b[39;49m\u001b[38;5;241;43m.\u001b[39;49m\u001b[43m_next_data\u001b[49m\u001b[43m(\u001b[49m\u001b[43m)\u001b[49m\n\u001b[1;32m    631\u001b[0m \u001b[38;5;28mself\u001b[39m\u001b[38;5;241m.\u001b[39m_num_yielded \u001b[38;5;241m+\u001b[39m\u001b[38;5;241m=\u001b[39m \u001b[38;5;241m1\u001b[39m\n\u001b[1;32m    632\u001b[0m \u001b[38;5;28;01mif\u001b[39;00m \u001b[38;5;28mself\u001b[39m\u001b[38;5;241m.\u001b[39m_dataset_kind \u001b[38;5;241m==\u001b[39m _DatasetKind\u001b[38;5;241m.\u001b[39mIterable \u001b[38;5;129;01mand\u001b[39;00m \\\n\u001b[1;32m    633\u001b[0m         \u001b[38;5;28mself\u001b[39m\u001b[38;5;241m.\u001b[39m_IterableDataset_len_called \u001b[38;5;129;01mis\u001b[39;00m \u001b[38;5;129;01mnot\u001b[39;00m \u001b[38;5;28;01mNone\u001b[39;00m \u001b[38;5;129;01mand\u001b[39;00m \\\n\u001b[1;32m    634\u001b[0m         \u001b[38;5;28mself\u001b[39m\u001b[38;5;241m.\u001b[39m_num_yielded \u001b[38;5;241m>\u001b[39m \u001b[38;5;28mself\u001b[39m\u001b[38;5;241m.\u001b[39m_IterableDataset_len_called:\n",
      "File \u001b[0;32m~/anaconda3/envs/iitgn/lib/python3.8/site-packages/torch/utils/data/dataloader.py:1344\u001b[0m, in \u001b[0;36m_MultiProcessingDataLoaderIter._next_data\u001b[0;34m(self)\u001b[0m\n\u001b[1;32m   1342\u001b[0m \u001b[38;5;28;01melse\u001b[39;00m:\n\u001b[1;32m   1343\u001b[0m     \u001b[38;5;28;01mdel\u001b[39;00m \u001b[38;5;28mself\u001b[39m\u001b[38;5;241m.\u001b[39m_task_info[idx]\n\u001b[0;32m-> 1344\u001b[0m     \u001b[38;5;28;01mreturn\u001b[39;00m \u001b[38;5;28;43mself\u001b[39;49m\u001b[38;5;241;43m.\u001b[39;49m\u001b[43m_process_data\u001b[49m\u001b[43m(\u001b[49m\u001b[43mdata\u001b[49m\u001b[43m)\u001b[49m\n",
      "File \u001b[0;32m~/anaconda3/envs/iitgn/lib/python3.8/site-packages/torch/utils/data/dataloader.py:1370\u001b[0m, in \u001b[0;36m_MultiProcessingDataLoaderIter._process_data\u001b[0;34m(self, data)\u001b[0m\n\u001b[1;32m   1368\u001b[0m \u001b[38;5;28mself\u001b[39m\u001b[38;5;241m.\u001b[39m_try_put_index()\n\u001b[1;32m   1369\u001b[0m \u001b[38;5;28;01mif\u001b[39;00m \u001b[38;5;28misinstance\u001b[39m(data, ExceptionWrapper):\n\u001b[0;32m-> 1370\u001b[0m     \u001b[43mdata\u001b[49m\u001b[38;5;241;43m.\u001b[39;49m\u001b[43mreraise\u001b[49m\u001b[43m(\u001b[49m\u001b[43m)\u001b[49m\n\u001b[1;32m   1371\u001b[0m \u001b[38;5;28;01mreturn\u001b[39;00m data\n",
      "File \u001b[0;32m~/anaconda3/envs/iitgn/lib/python3.8/site-packages/torch/_utils.py:706\u001b[0m, in \u001b[0;36mExceptionWrapper.reraise\u001b[0;34m(self)\u001b[0m\n\u001b[1;32m    702\u001b[0m \u001b[38;5;28;01mexcept\u001b[39;00m \u001b[38;5;167;01mTypeError\u001b[39;00m:\n\u001b[1;32m    703\u001b[0m     \u001b[38;5;66;03m# If the exception takes multiple arguments, don't try to\u001b[39;00m\n\u001b[1;32m    704\u001b[0m     \u001b[38;5;66;03m# instantiate since we don't know how to\u001b[39;00m\n\u001b[1;32m    705\u001b[0m     \u001b[38;5;28;01mraise\u001b[39;00m \u001b[38;5;167;01mRuntimeError\u001b[39;00m(msg) \u001b[38;5;28;01mfrom\u001b[39;00m \u001b[38;5;28;01mNone\u001b[39;00m\n\u001b[0;32m--> 706\u001b[0m \u001b[38;5;28;01mraise\u001b[39;00m exception\n",
      "\u001b[0;31mFileNotFoundError\u001b[0m: Caught FileNotFoundError in DataLoader worker process 0.\nOriginal Traceback (most recent call last):\n  File \"/fab3/btech/2022/snehanshu.pal22b/anaconda3/envs/iitgn/lib/python3.8/site-packages/torch/utils/data/_utils/worker.py\", line 309, in _worker_loop\n    data = fetcher.fetch(index)  # type: ignore[possibly-undefined]\n  File \"/fab3/btech/2022/snehanshu.pal22b/anaconda3/envs/iitgn/lib/python3.8/site-packages/torch/utils/data/_utils/fetch.py\", line 52, in fetch\n    data = [self.dataset[idx] for idx in possibly_batched_index]\n  File \"/fab3/btech/2022/snehanshu.pal22b/anaconda3/envs/iitgn/lib/python3.8/site-packages/torch/utils/data/_utils/fetch.py\", line 52, in <listcomp>\n    data = [self.dataset[idx] for idx in possibly_batched_index]\n  File \"/fab3/btech/2022/snehanshu.pal22b/anaconda3/envs/iitgn/lib/python3.8/site-packages/ultralytics/data/base.py\", line 288, in __getitem__\n    return self.transforms(self.get_image_and_label(index))\n  File \"/fab3/btech/2022/snehanshu.pal22b/anaconda3/envs/iitgn/lib/python3.8/site-packages/ultralytics/data/base.py\", line 294, in get_image_and_label\n    label[\"img\"], label[\"ori_shape\"], label[\"resized_shape\"] = self.load_image(index)\n  File \"/fab3/btech/2022/snehanshu.pal22b/anaconda3/envs/iitgn/lib/python3.8/site-packages/ultralytics/data/base.py\", line 165, in load_image\n    raise FileNotFoundError(f\"Image Not Found {f}\")\nFileNotFoundError: Image Not Found /fab3/btech/2022/snehanshu.pal22b/SolarPanel/yolo_dataset/images/train/solarpanels_native_1__x0_4777_y0_5990_dxdy_416.tif\n"
     ]
    }
   ],
   "source": [
    "model = YOLO(\"yolov8s.pt\") \n",
    "model.train(data=os.path.join(dataset_dir, \"data.yaml\"), epochs=20, imgsz=416, device=\"5\")\n",
    " \n"
   ]
  },
  {
   "cell_type": "code",
   "execution_count": null,
   "metadata": {},
   "outputs": [],
   "source": [
    "!grep -r \"^[1-9]\" /fab3/btech/2022/snehanshu.pal22b/SolarPanel/yolo_dataset/labels/train/\n"
   ]
  },
  {
   "cell_type": "code",
   "execution_count": null,
   "metadata": {},
   "outputs": [],
   "source": [
    "import cv2"
   ]
  },
  {
   "cell_type": "code",
   "execution_count": null,
   "metadata": {},
   "outputs": [],
   "source": [
    "def yolo_to_xyxy(x, y, w, h, img_width, img_height):\n",
    "    \n",
    "    x1 = (x - w/2) * img_width\n",
    "    y1 = (y - h/2) * img_height\n",
    "    x2 = (x + w/2) * img_width\n",
    "    y2 = (y + h/2) * img_height\n",
    "    return [x1, y1, x2, y2]\n",
    "\n",
    "def visualize_predictions(image_path, pred_boxes, gt_boxes, save_dir=\"predictions\"):\n",
    "    \n",
    "    os.makedirs(save_dir, exist_ok=True)\n",
    "    \n",
    "    image = cv2.imread(image_path)\n",
    "    image_copy = image.copy()  \n",
    "    \n",
    "    \n",
    "    for box in gt_boxes:\n",
    "        x_min, y_min, x_max, y_max = map(int, box)\n",
    "        cv2.rectangle(image_copy, (x_min, y_min), (x_max, y_max), (0, 255, 0), 2)\n",
    "        # Add \"GT\" label\n",
    "        cv2.putText(image_copy, \"GT\", (x_min, y_min-5), cv2.FONT_HERSHEY_SIMPLEX, \n",
    "                    0.5, (0, 255, 0), 2)\n",
    "    \n",
    "    \n",
    "    for box in pred_boxes:\n",
    "        x_min, y_min, x_max, y_max = map(int, box)\n",
    "        cv2.rectangle(image_copy, (x_min, y_min), (x_max, y_max), (0, 0, 255), 2)\n",
    "        \n",
    "        cv2.putText(image_copy, \"Pred\", (x_min, y_max+15), cv2.FONT_HERSHEY_SIMPLEX, \n",
    "                    0.5, (0, 0, 255), 2)\n",
    "    \n",
    "    \n",
    "    base_name = os.path.basename(image_path)\n",
    "    save_path = os.path.join(save_dir, f\"pred_{base_name}\")\n",
    "    cv2.imwrite(save_path, image_copy)\n",
    "    \n",
    "    \n",
    "    plt.figure(figsize=(10, 10))\n",
    "    plt.imshow(cv2.cvtColor(image_copy, cv2.COLOR_BGR2RGB))\n",
    "    plt.title(f\"Green: Ground Truth | Red: Predictions\\nSaved as: {save_path}\")\n",
    "    plt.axis(\"off\")\n",
    "    plt.show()\n"
   ]
  },
  {
   "cell_type": "code",
   "execution_count": null,
   "metadata": {},
   "outputs": [],
   "source": [
    "from ultralytics import YOLO\n",
    "\n",
    "model = YOLO(\"runs/detect/train/weights/best.pt\")\n",
    "\n",
    "\n",
    "test_images_dir = \"yolo_dataset/images/test\"\n",
    "test_images = [os.path.join(test_images_dir, f) for f in os.listdir(test_images_dir) \n",
    "               if f.endswith('.tif')]\n",
    "\n",
    "\n",
    "selected_images = random.sample(test_images, 5)"
   ]
  },
  {
   "cell_type": "code",
   "execution_count": null,
   "metadata": {},
   "outputs": [],
   "source": [
    "for image_path in selected_images:\n",
    "    \n",
    "    image = cv2.imread(image_path)\n",
    "    img_height, img_width, _ = image.shape\n",
    "    \n",
    "    \n",
    "    results = model(image_path)\n",
    "    predictions = results[0]\n",
    "    \n",
    "    \n",
    "    pred_boxes = []\n",
    "    for box in predictions.boxes.xywhn.cpu().numpy():\n",
    "        x, y, w, h = box\n",
    "        pred_boxes.append(yolo_to_xyxy(x, y, w, h, img_width, img_height))\n",
    "    \n",
    "    \n",
    "    image_name = os.path.basename(image_path)\n",
    "    base_name = os.path.splitext(image_name)[0]\n",
    "    label_path = os.path.join(\"yolo_dataset/labels/test\", f\"{base_name}.txt\")\n",
    "    \n",
    "   \n",
    "    gt_boxes = []\n",
    "    if os.path.exists(label_path):\n",
    "        with open(label_path, \"r\") as f:\n",
    "            for line in f:\n",
    "                _, x, y, w, h = map(float, line.strip().split())\n",
    "                gt_boxes.append(yolo_to_xyxy(x, y, w, h, img_width, img_height))\n",
    "    \n",
    "   \n",
    "    visualize_predictions(image_path, pred_boxes, gt_boxes)"
   ]
  },
  {
   "cell_type": "code",
   "execution_count": 48,
   "metadata": {},
   "outputs": [],
   "source": [
    "from tabulate import tabulate\n",
    "from tqdm import tqdm\n",
    "import supervision as sv"
   ]
  },
  {
   "cell_type": "code",
   "execution_count": null,
   "metadata": {},
   "outputs": [],
   "source": [
    "import csv"
   ]
  },
  {
   "cell_type": "code",
   "execution_count": 49,
   "metadata": {},
   "outputs": [
    {
     "name": "stdout",
     "output_type": "stream",
     "text": [
      "\n",
      "image 1/1 /fab3/btech/2022/snehanshu.pal22b/SolarPanel/yolo_dataset/images/test/solarpanels_native_3__x0_7208_y0_12603_dxdy_416.tif: 416x416 3 solar_panels, 50.1ms\n",
      "Speed: 3.7ms preprocess, 50.1ms inference, 3.2ms postprocess per image at shape (1, 3, 416, 416)\n",
      "\n",
      "image 1/1 /fab3/btech/2022/snehanshu.pal22b/SolarPanel/yolo_dataset/images/test/solarpanels_native_3__x0_8118_y0_12114_dxdy_416.tif: 416x416 10 solar_panels, 21.5ms\n",
      "Speed: 4.0ms preprocess, 21.5ms inference, 3.4ms postprocess per image at shape (1, 3, 416, 416)\n",
      "\n",
      "image 1/1 /fab3/btech/2022/snehanshu.pal22b/SolarPanel/yolo_dataset/images/test/solarpanels_native_2__x0_3768_y0_12575_dxdy_416.tif: 416x416 2 solar_panels, 58.4ms\n",
      "Speed: 2.2ms preprocess, 58.4ms inference, 1.8ms postprocess per image at shape (1, 3, 416, 416)\n",
      "\n",
      "image 1/1 /fab3/btech/2022/snehanshu.pal22b/SolarPanel/yolo_dataset/images/test/solarpanels_native_3__x0_5978_y0_3582_dxdy_416.tif: 416x416 10 solar_panels, 8.9ms\n",
      "Speed: 1.4ms preprocess, 8.9ms inference, 1.8ms postprocess per image at shape (1, 3, 416, 416)\n",
      "\n",
      "image 1/1 /fab3/btech/2022/snehanshu.pal22b/SolarPanel/yolo_dataset/images/test/solarpanels_native_1__x0_149_y0_7979_dxdy_416.tif: 416x416 9 solar_panels, 17.1ms\n",
      "Speed: 1.5ms preprocess, 17.1ms inference, 5.0ms postprocess per image at shape (1, 3, 416, 416)\n",
      "Pascal VOC 11-point AP: 1.0000\n",
      "COCO 101-point AP: 1.0000\n",
      "AUC-PR AP: 0.5000\n",
      "mAP50: 0.8333\n"
     ]
    }
   ],
   "source": [
    "import numpy as np\n",
    "import torch\n",
    "import os\n",
    "import random\n",
    "import cv2\n",
    "from ultralytics import YOLO\n",
    "from tabulate import tabulate\n",
    "\n",
    "\n",
    "\n",
    "model = YOLO(\"runs/detect/train/weights/best.pt\")\n",
    "\n",
    "\n",
    "def yolo_to_xyxy(x, y, w, h, img_width, img_height):\n",
    "    x1 = (x - w/2) * img_width\n",
    "    y1 = (y - h/2) * img_height\n",
    "    x2 = (x + w/2) * img_width\n",
    "    y2 = (y + h/2) * img_height\n",
    "    return [x1, y1, x2, y2]\n",
    "\n",
    "\n",
    "def get_boxes(image_path):\n",
    "    \n",
    "    image = cv2.imread(image_path)\n",
    "    img_height, img_width, _ = image.shape\n",
    "    \n",
    "    \n",
    "    results = model(image_path)\n",
    "    predictions = results[0]\n",
    "    \n",
    "    \n",
    "    pred_boxes = []\n",
    "    for box in predictions.boxes.xywhn.cpu().numpy():\n",
    "        x, y, w, h = box\n",
    "        pred_boxes.append(yolo_to_xyxy(x, y, w, h, img_width, img_height))\n",
    "    \n",
    "    \n",
    "    image_name = os.path.basename(image_path)\n",
    "    base_name = os.path.splitext(image_name)[0]\n",
    "    label_path = os.path.join(\"yolo_dataset/labels/test\", f\"{base_name}.txt\")\n",
    "    \n",
    "    \n",
    "    gt_boxes = []\n",
    "    if os.path.exists(label_path):\n",
    "        with open(label_path, \"r\") as f:\n",
    "            for line in f:\n",
    "                _, x, y, w, h = map(float, line.strip().split())\n",
    "                gt_boxes.append(yolo_to_xyxy(x, y, w, h, img_width, img_height))\n",
    "    \n",
    "    return gt_boxes, pred_boxes\n",
    "\n",
    "\n",
    "test_images_dir = \"yolo_dataset/images/test\"\n",
    "test_images = [os.path.join(test_images_dir, f) for f in os.listdir(test_images_dir) if f.endswith('.tif')]\n",
    "\n",
    "\n",
    "selected_images = random.sample(test_images, 5)\n",
    "\n",
    "\n",
    "all_gt_boxes = []\n",
    "all_pred_boxes = []\n",
    "for image_path in selected_images:\n",
    "    gt_boxes, pred_boxes = get_boxes(image_path)\n",
    "    all_gt_boxes.append(gt_boxes)\n",
    "    all_pred_boxes.append(pred_boxes)\n",
    "\n",
    "\n",
    "precisions = []\n",
    "recalls = []\n",
    "\n",
    "for gt_boxes, pred_boxes in zip(all_gt_boxes, all_pred_boxes):\n",
    "    precision, recall = compute_precision_recall(gt_boxes, pred_boxes, iou_threshold=0.5)\n",
    "    precisions.append(precision)\n",
    "    recalls.append(recall)\n",
    "\n",
    "precisions = np.array(precisions)\n",
    "recalls = np.array(recalls)\n",
    "\n",
    "\n",
    "sorted_indices = np.argsort(recalls)\n",
    "recalls = recalls[sorted_indices]\n",
    "precisions = precisions[sorted_indices]\n",
    "\n",
    "ap_voc = pascal_voc_11_point_ap(recalls, precisions)\n",
    "ap_coco = coco_101_point_ap(recalls, precisions)\n",
    "ap_auc = auc_pr_ap(recalls, precisions)\n",
    "\n",
    "\n",
    "mAP50 = np.mean([ap_voc, ap_coco, ap_auc])\n",
    "\n",
    "\n",
    "print(f\"Pascal VOC 11-point AP: {ap_voc:.4f}\")\n",
    "print(f\"COCO 101-point AP: {ap_coco:.4f}\")\n",
    "print(f\"AUC-PR AP: {ap_auc:.4f}\")\n",
    "print(f\"mAP50: {mAP50:.4f}\")"
   ]
  },
  {
   "cell_type": "code",
   "execution_count": 50,
   "metadata": {},
   "outputs": [
    {
     "name": "stderr",
     "output_type": "stream",
     "text": [
      "Processing Images:   0%|          | 0/506 [00:00<?, ?it/s]"
     ]
    },
    {
     "name": "stdout",
     "output_type": "stream",
     "text": [
      "\n",
      "image 1/1 /fab3/btech/2022/snehanshu.pal22b/SolarPanel/yolo_dataset/images/test/solarpanels_native_1__x0_538_y0_7295_dxdy_416.tif: 416x416 11 solar_panels, 38.0ms\n",
      "Speed: 1.2ms preprocess, 38.0ms inference, 2.5ms postprocess per image at shape (1, 3, 416, 416)\n",
      "\n",
      "image 1/1 /fab3/btech/2022/snehanshu.pal22b/SolarPanel/yolo_dataset/images/test/solarpanels_native_3__x0_11804_y0_8978_dxdy_416.tif: 416x416 42 solar_panels, 38.6ms\n",
      "Speed: 4.4ms preprocess, 38.6ms inference, 3.8ms postprocess per image at shape (1, 3, 416, 416)\n"
     ]
    },
    {
     "name": "stderr",
     "output_type": "stream",
     "text": [
      "Processing Images:   0%|          | 2/506 [00:00<00:38, 13.24it/s]"
     ]
    },
    {
     "name": "stdout",
     "output_type": "stream",
     "text": [
      "\n",
      "image 1/1 /fab3/btech/2022/snehanshu.pal22b/SolarPanel/yolo_dataset/images/test/solarpanels_native_3__x0_12138_y0_11539_dxdy_416.tif: 416x416 11 solar_panels, 21.6ms\n",
      "Speed: 3.6ms preprocess, 21.6ms inference, 2.6ms postprocess per image at shape (1, 3, 416, 416)\n",
      "\n",
      "image 1/1 /fab3/btech/2022/snehanshu.pal22b/SolarPanel/yolo_dataset/images/test/solarpanels_native_2__x0_0_y0_11571_dxdy_416.tif: 416x416 40 solar_panels, 13.6ms\n",
      "Speed: 1.8ms preprocess, 13.6ms inference, 2.2ms postprocess per image at shape (1, 3, 416, 416)\n",
      "\n",
      "image 1/1 /fab3/btech/2022/snehanshu.pal22b/SolarPanel/yolo_dataset/images/test/solarpanels_native_3__x0_8340_y0_12172_dxdy_416.tif: 416x416 8 solar_panels, 59.9ms\n",
      "Speed: 7.7ms preprocess, 59.9ms inference, 2.8ms postprocess per image at shape (1, 3, 416, 416)\n"
     ]
    },
    {
     "name": "stderr",
     "output_type": "stream",
     "text": [
      "Processing Images:   1%|          | 5/506 [00:00<00:35, 14.20it/s]"
     ]
    },
    {
     "name": "stdout",
     "output_type": "stream",
     "text": [
      "\n",
      "image 1/1 /fab3/btech/2022/snehanshu.pal22b/SolarPanel/yolo_dataset/images/test/solarpanels_native_1__x0_10044_y0_10937_dxdy_416.tif: 416x416 8 solar_panels, 115.9ms\n",
      "Speed: 4.3ms preprocess, 115.9ms inference, 2.3ms postprocess per image at shape (1, 3, 416, 416)\n",
      "\n",
      "image 1/1 /fab3/btech/2022/snehanshu.pal22b/SolarPanel/yolo_dataset/images/test/solarpanels_native_1__x0_1602_y0_8090_dxdy_416.tif: 416x416 4 solar_panels, 49.4ms\n",
      "Speed: 1.6ms preprocess, 49.4ms inference, 2.7ms postprocess per image at shape (1, 3, 416, 416)\n"
     ]
    },
    {
     "name": "stderr",
     "output_type": "stream",
     "text": [
      "Processing Images:   1%|▏         | 7/506 [00:00<00:47, 10.50it/s]"
     ]
    },
    {
     "name": "stdout",
     "output_type": "stream",
     "text": [
      "\n",
      "image 1/1 /fab3/btech/2022/snehanshu.pal22b/SolarPanel/yolo_dataset/images/test/solarpanels_native_3__x0_10239_y0_9893_dxdy_416.tif: 416x416 42 solar_panels, 21.2ms\n",
      "Speed: 2.4ms preprocess, 21.2ms inference, 2.6ms postprocess per image at shape (1, 3, 416, 416)\n",
      "\n",
      "image 1/1 /fab3/btech/2022/snehanshu.pal22b/SolarPanel/yolo_dataset/images/test/solarpanels_native_1__x0_6563_y0_9076_dxdy_416.tif: 416x416 11 solar_panels, 9.3ms\n",
      "Speed: 1.5ms preprocess, 9.3ms inference, 1.9ms postprocess per image at shape (1, 3, 416, 416)\n"
     ]
    },
    {
     "name": "stderr",
     "output_type": "stream",
     "text": [
      "Processing Images:   2%|▏         | 9/506 [00:00<00:39, 12.64it/s]"
     ]
    },
    {
     "name": "stdout",
     "output_type": "stream",
     "text": [
      "\n",
      "image 1/1 /fab3/btech/2022/snehanshu.pal22b/SolarPanel/yolo_dataset/images/test/solarpanels_native_1__x0_6652_y0_9260_dxdy_416.tif: 416x416 4 solar_panels, 16.4ms\n",
      "Speed: 2.0ms preprocess, 16.4ms inference, 4.7ms postprocess per image at shape (1, 3, 416, 416)\n",
      "\n",
      "image 1/1 /fab3/btech/2022/snehanshu.pal22b/SolarPanel/yolo_dataset/images/test/solarpanels_native_3__x0_9236_y0_12775_dxdy_416.tif: 416x416 7 solar_panels, 13.1ms\n",
      "Speed: 2.6ms preprocess, 13.1ms inference, 1.9ms postprocess per image at shape (1, 3, 416, 416)\n"
     ]
    },
    {
     "name": "stderr",
     "output_type": "stream",
     "text": [
      "Processing Images:   2%|▏         | 11/506 [00:00<00:42, 11.72it/s]"
     ]
    },
    {
     "name": "stdout",
     "output_type": "stream",
     "text": [
      "\n",
      "image 1/1 /fab3/btech/2022/snehanshu.pal22b/SolarPanel/yolo_dataset/images/test/solarpanels_native_3__x0_4358_y0_13056_dxdy_416.tif: 416x416 3 solar_panels, 193.2ms\n",
      "Speed: 2.1ms preprocess, 193.2ms inference, 3.0ms postprocess per image at shape (1, 3, 416, 416)\n",
      "\n",
      "image 1/1 /fab3/btech/2022/snehanshu.pal22b/SolarPanel/yolo_dataset/images/test/solarpanels_native_2__x0_611_y0_10731_dxdy_416.tif: 416x416 51 solar_panels, 66.3ms\n",
      "Speed: 2.4ms preprocess, 66.3ms inference, 3.0ms postprocess per image at shape (1, 3, 416, 416)\n"
     ]
    },
    {
     "name": "stderr",
     "output_type": "stream",
     "text": [
      "Processing Images:   3%|▎         | 13/506 [00:01<00:58,  8.49it/s]"
     ]
    },
    {
     "name": "stdout",
     "output_type": "stream",
     "text": [
      "\n",
      "image 1/1 /fab3/btech/2022/snehanshu.pal22b/SolarPanel/yolo_dataset/images/test/solarpanels_native_3__x0_6740_y0_11883_dxdy_416.tif: 416x416 8 solar_panels, 78.2ms\n",
      "Speed: 4.1ms preprocess, 78.2ms inference, 2.5ms postprocess per image at shape (1, 3, 416, 416)\n",
      "\n",
      "image 1/1 /fab3/btech/2022/snehanshu.pal22b/SolarPanel/yolo_dataset/images/test/solarpanels_native_3__x0_6082_y0_11378_dxdy_416.tif: 416x416 7 solar_panels, 15.4ms\n",
      "Speed: 2.5ms preprocess, 15.4ms inference, 2.0ms postprocess per image at shape (1, 3, 416, 416)\n"
     ]
    },
    {
     "name": "stderr",
     "output_type": "stream",
     "text": [
      "Processing Images:   3%|▎         | 15/506 [00:01<00:51,  9.62it/s]"
     ]
    },
    {
     "name": "stdout",
     "output_type": "stream",
     "text": [
      "\n",
      "image 1/1 /fab3/btech/2022/snehanshu.pal22b/SolarPanel/yolo_dataset/images/test/solarpanels_native_1__x0_5453_y0_12941_dxdy_416.tif: 416x416 9 solar_panels, 11.3ms\n",
      "Speed: 2.1ms preprocess, 11.3ms inference, 56.8ms postprocess per image at shape (1, 3, 416, 416)\n",
      "\n",
      "image 1/1 /fab3/btech/2022/snehanshu.pal22b/SolarPanel/yolo_dataset/images/test/solarpanels_native_1__x0_6529_y0_12161_dxdy_416.tif: 416x416 27 solar_panels, 17.9ms\n",
      "Speed: 16.6ms preprocess, 17.9ms inference, 2.8ms postprocess per image at shape (1, 3, 416, 416)\n"
     ]
    },
    {
     "name": "stderr",
     "output_type": "stream",
     "text": [
      "Processing Images:   3%|▎         | 17/506 [00:01<01:01,  8.00it/s]"
     ]
    },
    {
     "name": "stdout",
     "output_type": "stream",
     "text": [
      "\n",
      "image 1/1 /fab3/btech/2022/snehanshu.pal22b/SolarPanel/yolo_dataset/images/test/solarpanels_native_1__x0_1102_y0_6355_dxdy_416.tif: 416x416 17 solar_panels, 10.5ms\n",
      "Speed: 1.4ms preprocess, 10.5ms inference, 1.7ms postprocess per image at shape (1, 3, 416, 416)\n",
      "\n",
      "image 1/1 /fab3/btech/2022/snehanshu.pal22b/SolarPanel/yolo_dataset/images/test/solarpanels_native_3__x0_5994_y0_11614_dxdy_416.tif: 416x416 3 solar_panels, 9.4ms\n",
      "Speed: 1.4ms preprocess, 9.4ms inference, 1.9ms postprocess per image at shape (1, 3, 416, 416)\n",
      "\n",
      "image 1/1 /fab3/btech/2022/snehanshu.pal22b/SolarPanel/yolo_dataset/images/test/solarpanels_native_3__x0_9129_y0_12283_dxdy_416.tif: 416x416 9 solar_panels, 8.3ms\n",
      "Speed: 1.3ms preprocess, 8.3ms inference, 1.8ms postprocess per image at shape (1, 3, 416, 416)\n",
      "\n",
      "image 1/1 /fab3/btech/2022/snehanshu.pal22b/SolarPanel/yolo_dataset/images/test/solarpanels_native_2__x0_5033_y0_5566_dxdy_416.tif: 416x416 12 solar_panels, 7.9ms\n",
      "Speed: 1.1ms preprocess, 7.9ms inference, 1.9ms postprocess per image at shape (1, 3, 416, 416)\n",
      "\n",
      "image 1/1 /fab3/btech/2022/snehanshu.pal22b/SolarPanel/yolo_dataset/images/test/solarpanels_native_3__x0_9766_y0_14796_dxdy_416.tif: 416x416 13 solar_panels, 7.6ms\n",
      "Speed: 1.1ms preprocess, 7.6ms inference, 1.7ms postprocess per image at shape (1, 3, 416, 416)\n"
     ]
    },
    {
     "name": "stderr",
     "output_type": "stream",
     "text": [
      "Processing Images:   4%|▍         | 22/506 [00:01<00:34, 14.21it/s]"
     ]
    },
    {
     "name": "stdout",
     "output_type": "stream",
     "text": [
      "\n",
      "image 1/1 /fab3/btech/2022/snehanshu.pal22b/SolarPanel/yolo_dataset/images/test/solarpanels_native_1__x0_6914_y0_9181_dxdy_416.tif: 416x416 7 solar_panels, 10.4ms\n",
      "Speed: 1.2ms preprocess, 10.4ms inference, 1.9ms postprocess per image at shape (1, 3, 416, 416)\n",
      "\n",
      "image 1/1 /fab3/btech/2022/snehanshu.pal22b/SolarPanel/yolo_dataset/images/test/solarpanels_native_3__x0_6606_y0_9757_dxdy_416.tif: 416x416 3 solar_panels, 11.9ms\n",
      "Speed: 1.3ms preprocess, 11.9ms inference, 2.2ms postprocess per image at shape (1, 3, 416, 416)\n",
      "\n",
      "image 1/1 /fab3/btech/2022/snehanshu.pal22b/SolarPanel/yolo_dataset/images/test/solarpanels_native_1__x0_8675_y0_7726_dxdy_416.tif: 416x416 5 solar_panels, 16.2ms\n",
      "Speed: 2.0ms preprocess, 16.2ms inference, 2.2ms postprocess per image at shape (1, 3, 416, 416)\n"
     ]
    },
    {
     "name": "stderr",
     "output_type": "stream",
     "text": [
      "Processing Images:   5%|▍         | 25/506 [00:01<00:28, 16.97it/s]"
     ]
    },
    {
     "name": "stdout",
     "output_type": "stream",
     "text": [
      "\n",
      "image 1/1 /fab3/btech/2022/snehanshu.pal22b/SolarPanel/yolo_dataset/images/test/solarpanels_native_3__x0_14200_y0_3871_dxdy_416.tif: 416x416 1 solar_panel, 22.3ms\n",
      "Speed: 1.6ms preprocess, 22.3ms inference, 5.9ms postprocess per image at shape (1, 3, 416, 416)\n",
      "\n",
      "image 1/1 /fab3/btech/2022/snehanshu.pal22b/SolarPanel/yolo_dataset/images/test/solarpanels_native_1__x0_3765_y0_12963_dxdy_416.tif: 416x416 7 solar_panels, 16.9ms\n",
      "Speed: 15.4ms preprocess, 16.9ms inference, 11.0ms postprocess per image at shape (1, 3, 416, 416)\n",
      "\n",
      "image 1/1 /fab3/btech/2022/snehanshu.pal22b/SolarPanel/yolo_dataset/images/test/solarpanels_native_2__x0_2916_y0_5166_dxdy_416.tif: 416x416 31 solar_panels, 29.9ms\n",
      "Speed: 1.1ms preprocess, 29.9ms inference, 4.9ms postprocess per image at shape (1, 3, 416, 416)\n"
     ]
    },
    {
     "name": "stderr",
     "output_type": "stream",
     "text": [
      "Processing Images:   6%|▌         | 28/506 [00:02<00:27, 17.30it/s]"
     ]
    },
    {
     "name": "stdout",
     "output_type": "stream",
     "text": [
      "\n",
      "image 1/1 /fab3/btech/2022/snehanshu.pal22b/SolarPanel/yolo_dataset/images/test/solarpanels_native_3__x0_8280_y0_12101_dxdy_416.tif: 416x416 11 solar_panels, 15.9ms\n",
      "Speed: 1.9ms preprocess, 15.9ms inference, 1.7ms postprocess per image at shape (1, 3, 416, 416)\n",
      "\n",
      "image 1/1 /fab3/btech/2022/snehanshu.pal22b/SolarPanel/yolo_dataset/images/test/solarpanels_native_3__x0_10525_y0_10435_dxdy_416.tif: 416x416 8 solar_panels, 12.8ms\n",
      "Speed: 2.0ms preprocess, 12.8ms inference, 2.7ms postprocess per image at shape (1, 3, 416, 416)\n",
      "\n",
      "image 1/1 /fab3/btech/2022/snehanshu.pal22b/SolarPanel/yolo_dataset/images/test/solarpanels_native_1__x0_7521_y0_9306_dxdy_416.tif: 416x416 8 solar_panels, 9.7ms\n",
      "Speed: 1.6ms preprocess, 9.7ms inference, 1.8ms postprocess per image at shape (1, 3, 416, 416)\n"
     ]
    },
    {
     "name": "stderr",
     "output_type": "stream",
     "text": [
      "Processing Images:   6%|▌         | 31/506 [00:02<00:23, 19.79it/s]"
     ]
    },
    {
     "name": "stdout",
     "output_type": "stream",
     "text": [
      "\n",
      "image 1/1 /fab3/btech/2022/snehanshu.pal22b/SolarPanel/yolo_dataset/images/test/solarpanels_native_1__x0_7620_y0_8411_dxdy_416.tif: 416x416 7 solar_panels, 10.0ms\n",
      "Speed: 1.6ms preprocess, 10.0ms inference, 2.9ms postprocess per image at shape (1, 3, 416, 416)\n",
      "\n",
      "image 1/1 /fab3/btech/2022/snehanshu.pal22b/SolarPanel/yolo_dataset/images/test/solarpanels_native_2__x0_8008_y0_2471_dxdy_416.tif: 416x416 13 solar_panels, 11.6ms\n",
      "Speed: 1.9ms preprocess, 11.6ms inference, 2.0ms postprocess per image at shape (1, 3, 416, 416)\n",
      "\n",
      "image 1/1 /fab3/btech/2022/snehanshu.pal22b/SolarPanel/yolo_dataset/images/test/solarpanels_native_1__x0_8073_y0_12151_dxdy_416.tif: 416x416 21 solar_panels, 23.9ms\n",
      "Speed: 1.6ms preprocess, 23.9ms inference, 2.5ms postprocess per image at shape (1, 3, 416, 416)\n",
      "\n",
      "image 1/1 /fab3/btech/2022/snehanshu.pal22b/SolarPanel/yolo_dataset/images/test/solarpanels_native_2__x0_13426_y0_15050_dxdy_416.tif: 416x416 3 solar_panels, 22.6ms\n",
      "Speed: 2.6ms preprocess, 22.6ms inference, 3.7ms postprocess per image at shape (1, 3, 416, 416)\n"
     ]
    },
    {
     "name": "stderr",
     "output_type": "stream",
     "text": [
      "Processing Images:   7%|▋         | 35/506 [00:02<00:23, 19.92it/s]"
     ]
    },
    {
     "name": "stdout",
     "output_type": "stream",
     "text": [
      "\n",
      "image 1/1 /fab3/btech/2022/snehanshu.pal22b/SolarPanel/yolo_dataset/images/test/solarpanels_native_2__x0_1762_y0_9313_dxdy_416.tif: 416x416 1 solar_panel, 94.9ms\n",
      "Speed: 2.7ms preprocess, 94.9ms inference, 3.2ms postprocess per image at shape (1, 3, 416, 416)\n",
      "\n",
      "image 1/1 /fab3/btech/2022/snehanshu.pal22b/SolarPanel/yolo_dataset/images/test/solarpanels_native_1__x0_5472_y0_12892_dxdy_416.tif: 416x416 8 solar_panels, 16.2ms\n",
      "Speed: 1.8ms preprocess, 16.2ms inference, 2.4ms postprocess per image at shape (1, 3, 416, 416)\n",
      "\n",
      "image 1/1 /fab3/btech/2022/snehanshu.pal22b/SolarPanel/yolo_dataset/images/test/solarpanels_native_2__x0_10632_y0_6082_dxdy_416.tif: 416x416 2 solar_panels, 17.2ms\n",
      "Speed: 16.2ms preprocess, 17.2ms inference, 2.5ms postprocess per image at shape (1, 3, 416, 416)\n"
     ]
    },
    {
     "name": "stderr",
     "output_type": "stream",
     "text": [
      "Processing Images:   8%|▊         | 38/506 [00:02<00:29, 15.68it/s]"
     ]
    },
    {
     "name": "stdout",
     "output_type": "stream",
     "text": [
      "\n",
      "image 1/1 /fab3/btech/2022/snehanshu.pal22b/SolarPanel/yolo_dataset/images/test/solarpanels_native_3__x0_9458_y0_14836_dxdy_416.tif: 416x416 21 solar_panels, 113.1ms\n",
      "Speed: 3.6ms preprocess, 113.1ms inference, 1.9ms postprocess per image at shape (1, 3, 416, 416)\n",
      "\n",
      "image 1/1 /fab3/btech/2022/snehanshu.pal22b/SolarPanel/yolo_dataset/images/test/solarpanels_native_3__x0_8100_y0_14329_dxdy_416.tif: 416x416 6 solar_panels, 9.8ms\n",
      "Speed: 1.5ms preprocess, 9.8ms inference, 6.9ms postprocess per image at shape (1, 3, 416, 416)\n"
     ]
    },
    {
     "name": "stderr",
     "output_type": "stream",
     "text": [
      "Processing Images:   8%|▊         | 40/506 [00:02<00:35, 13.25it/s]"
     ]
    },
    {
     "name": "stdout",
     "output_type": "stream",
     "text": [
      "\n",
      "image 1/1 /fab3/btech/2022/snehanshu.pal22b/SolarPanel/yolo_dataset/images/test/solarpanels_native_3__x0_4497_y0_12678_dxdy_416.tif: 416x416 5 solar_panels, 19.1ms\n",
      "Speed: 2.6ms preprocess, 19.1ms inference, 3.7ms postprocess per image at shape (1, 3, 416, 416)\n",
      "\n",
      "image 1/1 /fab3/btech/2022/snehanshu.pal22b/SolarPanel/yolo_dataset/images/test/solarpanels_native_2__x0_3439_y0_11289_dxdy_416.tif: 416x416 2 solar_panels, 16.9ms\n",
      "Speed: 2.4ms preprocess, 16.9ms inference, 3.1ms postprocess per image at shape (1, 3, 416, 416)\n"
     ]
    },
    {
     "name": "stderr",
     "output_type": "stream",
     "text": [
      "Processing Images:   8%|▊         | 42/506 [00:03<00:32, 14.30it/s]"
     ]
    },
    {
     "name": "stdout",
     "output_type": "stream",
     "text": [
      "\n",
      "image 1/1 /fab3/btech/2022/snehanshu.pal22b/SolarPanel/yolo_dataset/images/test/solarpanels_native_2__x0_207_y0_11056_dxdy_416.tif: 416x416 17 solar_panels, 111.6ms\n",
      "Speed: 1.3ms preprocess, 111.6ms inference, 1.7ms postprocess per image at shape (1, 3, 416, 416)\n",
      "\n",
      "image 1/1 /fab3/btech/2022/snehanshu.pal22b/SolarPanel/yolo_dataset/images/test/solarpanels_native_3__x0_9481_y0_15613_dxdy_416.tif: 416x416 1 solar_panel, 13.6ms\n",
      "Speed: 1.9ms preprocess, 13.6ms inference, 2.7ms postprocess per image at shape (1, 3, 416, 416)\n"
     ]
    },
    {
     "name": "stderr",
     "output_type": "stream",
     "text": [
      "Processing Images:   9%|▊         | 44/506 [00:03<00:33, 13.85it/s]"
     ]
    },
    {
     "name": "stdout",
     "output_type": "stream",
     "text": [
      "\n",
      "image 1/1 /fab3/btech/2022/snehanshu.pal22b/SolarPanel/yolo_dataset/images/test/solarpanels_native_1__x0_770_y0_8701_dxdy_416.tif: 416x416 18 solar_panels, 37.0ms\n",
      "Speed: 1.7ms preprocess, 37.0ms inference, 1.8ms postprocess per image at shape (1, 3, 416, 416)\n",
      "\n",
      "image 1/1 /fab3/btech/2022/snehanshu.pal22b/SolarPanel/yolo_dataset/images/test/solarpanels_native_3__x0_8341_y0_15018_dxdy_416.tif: 416x416 4 solar_panels, 11.5ms\n",
      "Speed: 1.7ms preprocess, 11.5ms inference, 1.6ms postprocess per image at shape (1, 3, 416, 416)\n"
     ]
    },
    {
     "name": "stderr",
     "output_type": "stream",
     "text": [
      "Processing Images:   9%|▉         | 46/506 [00:03<00:33, 13.54it/s]"
     ]
    },
    {
     "name": "stdout",
     "output_type": "stream",
     "text": [
      "\n",
      "image 1/1 /fab3/btech/2022/snehanshu.pal22b/SolarPanel/yolo_dataset/images/test/solarpanels_native_3__x0_8641_y0_11799_dxdy_416.tif: 416x416 2 solar_panels, 7.7ms\n",
      "Speed: 1.6ms preprocess, 7.7ms inference, 1.8ms postprocess per image at shape (1, 3, 416, 416)\n",
      "\n",
      "image 1/1 /fab3/btech/2022/snehanshu.pal22b/SolarPanel/yolo_dataset/images/test/solarpanels_native_1__x0_3981_y0_10535_dxdy_416.tif: 416x416 2 solar_panels, 7.7ms\n",
      "Speed: 1.1ms preprocess, 7.7ms inference, 6.7ms postprocess per image at shape (1, 3, 416, 416)\n",
      "\n",
      "image 1/1 /fab3/btech/2022/snehanshu.pal22b/SolarPanel/yolo_dataset/images/test/solarpanels_native_1__x0_9453_y0_11025_dxdy_416.tif: 416x416 16 solar_panels, 27.3ms\n",
      "Speed: 1.7ms preprocess, 27.3ms inference, 2.3ms postprocess per image at shape (1, 3, 416, 416)\n"
     ]
    },
    {
     "name": "stderr",
     "output_type": "stream",
     "text": [
      "Processing Images:  10%|▉         | 49/506 [00:03<00:28, 16.22it/s]"
     ]
    },
    {
     "name": "stdout",
     "output_type": "stream",
     "text": [
      "\n",
      "image 1/1 /fab3/btech/2022/snehanshu.pal22b/SolarPanel/yolo_dataset/images/test/solarpanels_native_2__x0_2577_y0_5191_dxdy_416.tif: 416x416 13 solar_panels, 69.5ms\n",
      "Speed: 1.8ms preprocess, 69.5ms inference, 2.7ms postprocess per image at shape (1, 3, 416, 416)\n",
      "\n",
      "image 1/1 /fab3/btech/2022/snehanshu.pal22b/SolarPanel/yolo_dataset/images/test/solarpanels_native_2__x0_9588_y0_2246_dxdy_416.tif: 416x416 2 solar_panels, 24.2ms\n",
      "Speed: 6.5ms preprocess, 24.2ms inference, 2.2ms postprocess per image at shape (1, 3, 416, 416)\n"
     ]
    },
    {
     "name": "stderr",
     "output_type": "stream",
     "text": [
      "Processing Images:  10%|█         | 51/506 [00:03<00:40, 11.32it/s]"
     ]
    },
    {
     "name": "stdout",
     "output_type": "stream",
     "text": [
      "\n",
      "image 1/1 /fab3/btech/2022/snehanshu.pal22b/SolarPanel/yolo_dataset/images/test/solarpanels_native_3__x0_6483_y0_10903_dxdy_416.tif: 416x416 20 solar_panels, 72.4ms\n",
      "Speed: 2.6ms preprocess, 72.4ms inference, 2.7ms postprocess per image at shape (1, 3, 416, 416)\n",
      "\n",
      "image 1/1 /fab3/btech/2022/snehanshu.pal22b/SolarPanel/yolo_dataset/images/test/solarpanels_native_1__x0_8242_y0_11834_dxdy_416.tif: 416x416 (no detections), 85.4ms\n",
      "Speed: 2.3ms preprocess, 85.4ms inference, 1.7ms postprocess per image at shape (1, 3, 416, 416)\n"
     ]
    },
    {
     "name": "stderr",
     "output_type": "stream",
     "text": [
      "Processing Images:  10%|█         | 53/506 [00:04<00:51,  8.76it/s]"
     ]
    },
    {
     "name": "stdout",
     "output_type": "stream",
     "text": [
      "\n",
      "image 1/1 /fab3/btech/2022/snehanshu.pal22b/SolarPanel/yolo_dataset/images/test/solarpanels_native_1__x0_8868_y0_12171_dxdy_416.tif: 416x416 15 solar_panels, 16.8ms\n",
      "Speed: 2.0ms preprocess, 16.8ms inference, 2.4ms postprocess per image at shape (1, 3, 416, 416)\n",
      "\n",
      "image 1/1 /fab3/btech/2022/snehanshu.pal22b/SolarPanel/yolo_dataset/images/test/solarpanels_native_3__x0_4110_y0_9749_dxdy_416.tif: 416x416 2 solar_panels, 134.2ms\n",
      "Speed: 1.7ms preprocess, 134.2ms inference, 2.2ms postprocess per image at shape (1, 3, 416, 416)\n"
     ]
    },
    {
     "name": "stderr",
     "output_type": "stream",
     "text": [
      "Processing Images:  11%|█         | 55/506 [00:04<00:53,  8.39it/s]"
     ]
    },
    {
     "name": "stdout",
     "output_type": "stream",
     "text": [
      "\n",
      "image 1/1 /fab3/btech/2022/snehanshu.pal22b/SolarPanel/yolo_dataset/images/test/solarpanels_native_2__x0_5817_y0_5587_dxdy_416.tif: 416x416 13 solar_panels, 11.3ms\n",
      "Speed: 1.6ms preprocess, 11.3ms inference, 90.0ms postprocess per image at shape (1, 3, 416, 416)\n",
      "\n",
      "image 1/1 /fab3/btech/2022/snehanshu.pal22b/SolarPanel/yolo_dataset/images/test/solarpanels_native_1__x0_7083_y0_9790_dxdy_416.tif: 416x416 15 solar_panels, 80.8ms\n",
      "Speed: 1.9ms preprocess, 80.8ms inference, 2.2ms postprocess per image at shape (1, 3, 416, 416)\n"
     ]
    },
    {
     "name": "stderr",
     "output_type": "stream",
     "text": [
      "Processing Images:  11%|█▏        | 57/506 [00:04<00:55,  8.12it/s]"
     ]
    },
    {
     "name": "stdout",
     "output_type": "stream",
     "text": [
      "\n",
      "image 1/1 /fab3/btech/2022/snehanshu.pal22b/SolarPanel/yolo_dataset/images/test/solarpanels_native_2__x0_8125_y0_2336_dxdy_416.tif: 416x416 14 solar_panels, 39.2ms\n",
      "Speed: 1.7ms preprocess, 39.2ms inference, 2.9ms postprocess per image at shape (1, 3, 416, 416)\n",
      "\n",
      "image 1/1 /fab3/btech/2022/snehanshu.pal22b/SolarPanel/yolo_dataset/images/test/solarpanels_native_1__x0_7690_y0_12976_dxdy_416.tif: 416x416 6 solar_panels, 15.5ms\n",
      "Speed: 1.9ms preprocess, 15.5ms inference, 22.0ms postprocess per image at shape (1, 3, 416, 416)\n"
     ]
    },
    {
     "name": "stderr",
     "output_type": "stream",
     "text": [
      "Processing Images:  12%|█▏        | 59/506 [00:04<00:48,  9.30it/s]"
     ]
    },
    {
     "name": "stdout",
     "output_type": "stream",
     "text": [
      "\n",
      "image 1/1 /fab3/btech/2022/snehanshu.pal22b/SolarPanel/yolo_dataset/images/test/solarpanels_native_1__x0_8731_y0_10623_dxdy_416.tif: 416x416 13 solar_panels, 16.8ms\n",
      "Speed: 3.5ms preprocess, 16.8ms inference, 2.1ms postprocess per image at shape (1, 3, 416, 416)\n",
      "\n",
      "image 1/1 /fab3/btech/2022/snehanshu.pal22b/SolarPanel/yolo_dataset/images/test/solarpanels_native_1__x0_7828_y0_9877_dxdy_416.tif: 416x416 11 solar_panels, 16.8ms\n",
      "Speed: 2.3ms preprocess, 16.8ms inference, 3.4ms postprocess per image at shape (1, 3, 416, 416)\n"
     ]
    },
    {
     "name": "stderr",
     "output_type": "stream",
     "text": [
      "Processing Images:  12%|█▏        | 61/506 [00:05<00:46,  9.49it/s]"
     ]
    },
    {
     "name": "stdout",
     "output_type": "stream",
     "text": [
      "\n",
      "image 1/1 /fab3/btech/2022/snehanshu.pal22b/SolarPanel/yolo_dataset/images/test/solarpanels_native_2__x0_921_y0_10438_dxdy_416.tif: 416x416 57 solar_panels, 12.9ms\n",
      "Speed: 2.8ms preprocess, 12.9ms inference, 2.7ms postprocess per image at shape (1, 3, 416, 416)\n",
      "\n",
      "image 1/1 /fab3/btech/2022/snehanshu.pal22b/SolarPanel/yolo_dataset/images/test/solarpanels_native_2__x0_6041_y0_3107_dxdy_416.tif: 416x416 6 solar_panels, 20.6ms\n",
      "Speed: 1.9ms preprocess, 20.6ms inference, 3.2ms postprocess per image at shape (1, 3, 416, 416)\n"
     ]
    },
    {
     "name": "stderr",
     "output_type": "stream",
     "text": [
      "Processing Images:  12%|█▏        | 63/506 [00:05<00:41, 10.78it/s]"
     ]
    },
    {
     "name": "stdout",
     "output_type": "stream",
     "text": [
      "\n",
      "image 1/1 /fab3/btech/2022/snehanshu.pal22b/SolarPanel/yolo_dataset/images/test/solarpanels_native_3__x0_5759_y0_3513_dxdy_416.tif: 416x416 10 solar_panels, 12.1ms\n",
      "Speed: 7.8ms preprocess, 12.1ms inference, 2.4ms postprocess per image at shape (1, 3, 416, 416)\n",
      "\n",
      "image 1/1 /fab3/btech/2022/snehanshu.pal22b/SolarPanel/yolo_dataset/images/test/solarpanels_native_3__x0_11801_y0_8910_dxdy_416.tif: 416x416 27 solar_panels, 24.5ms\n",
      "Speed: 3.6ms preprocess, 24.5ms inference, 5.5ms postprocess per image at shape (1, 3, 416, 416)\n"
     ]
    },
    {
     "name": "stderr",
     "output_type": "stream",
     "text": [
      "Processing Images:  13%|█▎        | 65/506 [00:05<00:35, 12.28it/s]"
     ]
    },
    {
     "name": "stdout",
     "output_type": "stream",
     "text": [
      "\n",
      "image 1/1 /fab3/btech/2022/snehanshu.pal22b/SolarPanel/yolo_dataset/images/test/solarpanels_native_1__x0_2781_y0_10550_dxdy_416.tif: 416x416 4 solar_panels, 23.1ms\n",
      "Speed: 2.2ms preprocess, 23.1ms inference, 65.6ms postprocess per image at shape (1, 3, 416, 416)\n",
      "\n",
      "image 1/1 /fab3/btech/2022/snehanshu.pal22b/SolarPanel/yolo_dataset/images/test/solarpanels_native_3__x0_9870_y0_14416_dxdy_416.tif: 416x416 8 solar_panels, 56.3ms\n",
      "Speed: 2.1ms preprocess, 56.3ms inference, 4.3ms postprocess per image at shape (1, 3, 416, 416)\n"
     ]
    },
    {
     "name": "stderr",
     "output_type": "stream",
     "text": [
      "Processing Images:  13%|█▎        | 67/506 [00:05<00:44,  9.81it/s]"
     ]
    },
    {
     "name": "stdout",
     "output_type": "stream",
     "text": [
      "\n",
      "image 1/1 /fab3/btech/2022/snehanshu.pal22b/SolarPanel/yolo_dataset/images/test/solarpanels_native_3__x0_9952_y0_11824_dxdy_416.tif: 416x416 7 solar_panels, 71.0ms\n",
      "Speed: 1.5ms preprocess, 71.0ms inference, 2.4ms postprocess per image at shape (1, 3, 416, 416)\n",
      "\n",
      "image 1/1 /fab3/btech/2022/snehanshu.pal22b/SolarPanel/yolo_dataset/images/test/solarpanels_native_3__x0_7713_y0_9939_dxdy_416.tif: 416x416 6 solar_panels, 14.6ms\n",
      "Speed: 1.4ms preprocess, 14.6ms inference, 1.7ms postprocess per image at shape (1, 3, 416, 416)\n"
     ]
    },
    {
     "name": "stderr",
     "output_type": "stream",
     "text": [
      "Processing Images:  14%|█▎        | 69/506 [00:05<00:45,  9.52it/s]"
     ]
    },
    {
     "name": "stdout",
     "output_type": "stream",
     "text": [
      "\n",
      "image 1/1 /fab3/btech/2022/snehanshu.pal22b/SolarPanel/yolo_dataset/images/test/solarpanels_native_3__x0_7448_y0_9772_dxdy_416.tif: 416x416 13 solar_panels, 11.6ms\n",
      "Speed: 3.9ms preprocess, 11.6ms inference, 14.9ms postprocess per image at shape (1, 3, 416, 416)\n",
      "\n",
      "image 1/1 /fab3/btech/2022/snehanshu.pal22b/SolarPanel/yolo_dataset/images/test/solarpanels_native_2__x0_9826_y0_3292_dxdy_416.tif: 416x416 12 solar_panels, 81.7ms\n",
      "Speed: 5.2ms preprocess, 81.7ms inference, 3.6ms postprocess per image at shape (1, 3, 416, 416)\n"
     ]
    },
    {
     "name": "stderr",
     "output_type": "stream",
     "text": [
      "Processing Images:  14%|█▍        | 71/506 [00:06<00:45,  9.60it/s]"
     ]
    },
    {
     "name": "stdout",
     "output_type": "stream",
     "text": [
      "\n",
      "image 1/1 /fab3/btech/2022/snehanshu.pal22b/SolarPanel/yolo_dataset/images/test/solarpanels_native_2__x0_1072_y0_10647_dxdy_416.tif: 416x416 18 solar_panels, 82.0ms\n",
      "Speed: 1.1ms preprocess, 82.0ms inference, 1.8ms postprocess per image at shape (1, 3, 416, 416)\n",
      "\n",
      "image 1/1 /fab3/btech/2022/snehanshu.pal22b/SolarPanel/yolo_dataset/images/test/solarpanels_native_3__x0_6509_y0_11626_dxdy_416.tif: 416x416 6 solar_panels, 17.7ms\n",
      "Speed: 3.0ms preprocess, 17.7ms inference, 9.0ms postprocess per image at shape (1, 3, 416, 416)\n"
     ]
    },
    {
     "name": "stderr",
     "output_type": "stream",
     "text": [
      "Processing Images:  14%|█▍        | 73/506 [00:06<00:41, 10.53it/s]"
     ]
    },
    {
     "name": "stdout",
     "output_type": "stream",
     "text": [
      "\n",
      "image 1/1 /fab3/btech/2022/snehanshu.pal22b/SolarPanel/yolo_dataset/images/test/solarpanels_native_3__x0_12082_y0_11274_dxdy_416.tif: 416x416 13 solar_panels, 43.1ms\n",
      "Speed: 1.1ms preprocess, 43.1ms inference, 2.8ms postprocess per image at shape (1, 3, 416, 416)\n",
      "\n",
      "image 1/1 /fab3/btech/2022/snehanshu.pal22b/SolarPanel/yolo_dataset/images/test/solarpanels_native_3__x0_10395_y0_10287_dxdy_416.tif: 416x416 14 solar_panels, 49.1ms\n",
      "Speed: 2.8ms preprocess, 49.1ms inference, 2.7ms postprocess per image at shape (1, 3, 416, 416)\n"
     ]
    },
    {
     "name": "stderr",
     "output_type": "stream",
     "text": [
      "Processing Images:  15%|█▍        | 75/506 [00:06<00:38, 11.17it/s]"
     ]
    },
    {
     "name": "stdout",
     "output_type": "stream",
     "text": [
      "\n",
      "image 1/1 /fab3/btech/2022/snehanshu.pal22b/SolarPanel/yolo_dataset/images/test/solarpanels_native_2__x0_1055_y0_9105_dxdy_416.tif: 416x416 3 solar_panels, 8.4ms\n",
      "Speed: 1.3ms preprocess, 8.4ms inference, 2.0ms postprocess per image at shape (1, 3, 416, 416)\n",
      "\n",
      "image 1/1 /fab3/btech/2022/snehanshu.pal22b/SolarPanel/yolo_dataset/images/test/solarpanels_native_1__x0_1881_y0_6837_dxdy_416.tif: 416x416 11 solar_panels, 25.6ms\n",
      "Speed: 3.0ms preprocess, 25.6ms inference, 3.0ms postprocess per image at shape (1, 3, 416, 416)\n"
     ]
    },
    {
     "name": "stderr",
     "output_type": "stream",
     "text": [
      "Processing Images:  15%|█▌        | 77/506 [00:06<00:33, 12.65it/s]"
     ]
    },
    {
     "name": "stdout",
     "output_type": "stream",
     "text": [
      "\n",
      "image 1/1 /fab3/btech/2022/snehanshu.pal22b/SolarPanel/yolo_dataset/images/test/solarpanels_native_3__x0_4507_y0_8848_dxdy_416.tif: 416x416 1 solar_panel, 13.9ms\n",
      "Speed: 2.0ms preprocess, 13.9ms inference, 2.8ms postprocess per image at shape (1, 3, 416, 416)\n",
      "\n",
      "image 1/1 /fab3/btech/2022/snehanshu.pal22b/SolarPanel/yolo_dataset/images/test/solarpanels_native_2__x0_821_y0_10461_dxdy_416.tif: 416x416 64 solar_panels, 11.9ms\n",
      "Speed: 1.9ms preprocess, 11.9ms inference, 1.6ms postprocess per image at shape (1, 3, 416, 416)\n",
      "\n",
      "image 1/1 /fab3/btech/2022/snehanshu.pal22b/SolarPanel/yolo_dataset/images/test/solarpanels_native_1__x0_767_y0_7450_dxdy_416.tif: 416x416 12 solar_panels, 16.2ms\n",
      "Speed: 5.7ms preprocess, 16.2ms inference, 2.6ms postprocess per image at shape (1, 3, 416, 416)\n"
     ]
    },
    {
     "name": "stderr",
     "output_type": "stream",
     "text": [
      "Processing Images:  16%|█▌        | 80/506 [00:06<00:26, 15.98it/s]"
     ]
    },
    {
     "name": "stdout",
     "output_type": "stream",
     "text": [
      "\n",
      "image 1/1 /fab3/btech/2022/snehanshu.pal22b/SolarPanel/yolo_dataset/images/test/solarpanels_native_1__x0_8450_y0_10250_dxdy_416.tif: 416x416 8 solar_panels, 14.9ms\n",
      "Speed: 1.7ms preprocess, 14.9ms inference, 3.2ms postprocess per image at shape (1, 3, 416, 416)\n",
      "\n",
      "image 1/1 /fab3/btech/2022/snehanshu.pal22b/SolarPanel/yolo_dataset/images/test/solarpanels_native_1__x0_1506_y0_9727_dxdy_416.tif: 416x416 8 solar_panels, 28.0ms\n",
      "Speed: 2.1ms preprocess, 28.0ms inference, 3.5ms postprocess per image at shape (1, 3, 416, 416)\n"
     ]
    },
    {
     "name": "stderr",
     "output_type": "stream",
     "text": [
      "Processing Images:  16%|█▌        | 82/506 [00:06<00:25, 16.41it/s]"
     ]
    },
    {
     "name": "stdout",
     "output_type": "stream",
     "text": [
      "\n",
      "image 1/1 /fab3/btech/2022/snehanshu.pal22b/SolarPanel/yolo_dataset/images/test/solarpanels_native_3__x0_14314_y0_7731_dxdy_416.tif: 416x416 9 solar_panels, 13.6ms\n",
      "Speed: 1.6ms preprocess, 13.6ms inference, 2.7ms postprocess per image at shape (1, 3, 416, 416)\n",
      "\n",
      "image 1/1 /fab3/btech/2022/snehanshu.pal22b/SolarPanel/yolo_dataset/images/test/solarpanels_native_1__x0_3508_y0_3327_dxdy_416.tif: 416x416 2 solar_panels, 70.6ms\n",
      "Speed: 3.3ms preprocess, 70.6ms inference, 3.0ms postprocess per image at shape (1, 3, 416, 416)\n"
     ]
    },
    {
     "name": "stderr",
     "output_type": "stream",
     "text": [
      "Processing Images:  17%|█▋        | 84/506 [00:06<00:26, 16.03it/s]"
     ]
    },
    {
     "name": "stdout",
     "output_type": "stream",
     "text": [
      "\n",
      "image 1/1 /fab3/btech/2022/snehanshu.pal22b/SolarPanel/yolo_dataset/images/test/solarpanels_native_1__x0_6522_y0_8894_dxdy_416.tif: 416x416 12 solar_panels, 27.2ms\n",
      "Speed: 1.7ms preprocess, 27.2ms inference, 2.9ms postprocess per image at shape (1, 3, 416, 416)\n",
      "\n",
      "image 1/1 /fab3/btech/2022/snehanshu.pal22b/SolarPanel/yolo_dataset/images/test/solarpanels_native_2__x0_15_y0_11502_dxdy_416.tif: 416x416 43 solar_panels, 63.5ms\n",
      "Speed: 2.3ms preprocess, 63.5ms inference, 3.8ms postprocess per image at shape (1, 3, 416, 416)\n"
     ]
    },
    {
     "name": "stderr",
     "output_type": "stream",
     "text": [
      "Processing Images:  17%|█▋        | 86/506 [00:07<00:37, 11.23it/s]"
     ]
    },
    {
     "name": "stdout",
     "output_type": "stream",
     "text": [
      "\n",
      "image 1/1 /fab3/btech/2022/snehanshu.pal22b/SolarPanel/yolo_dataset/images/test/solarpanels_native_3__x0_5168_y0_14547_dxdy_416.tif: 416x416 9 solar_panels, 36.8ms\n",
      "Speed: 2.4ms preprocess, 36.8ms inference, 2.6ms postprocess per image at shape (1, 3, 416, 416)\n",
      "\n",
      "image 1/1 /fab3/btech/2022/snehanshu.pal22b/SolarPanel/yolo_dataset/images/test/solarpanels_native_2__x0_4063_y0_12511_dxdy_416.tif: 416x416 2 solar_panels, 19.1ms\n",
      "Speed: 2.0ms preprocess, 19.1ms inference, 2.7ms postprocess per image at shape (1, 3, 416, 416)\n"
     ]
    },
    {
     "name": "stderr",
     "output_type": "stream",
     "text": [
      "Processing Images:  17%|█▋        | 88/506 [00:07<00:37, 11.08it/s]"
     ]
    },
    {
     "name": "stdout",
     "output_type": "stream",
     "text": [
      "\n",
      "image 1/1 /fab3/btech/2022/snehanshu.pal22b/SolarPanel/yolo_dataset/images/test/solarpanels_native_2__x0_876_y0_8772_dxdy_416.tif: 416x416 4 solar_panels, 94.9ms\n",
      "Speed: 3.1ms preprocess, 94.9ms inference, 2.4ms postprocess per image at shape (1, 3, 416, 416)\n",
      "\n",
      "image 1/1 /fab3/btech/2022/snehanshu.pal22b/SolarPanel/yolo_dataset/images/test/solarpanels_native_2__x0_850_y0_10552_dxdy_416.tif: 416x416 67 solar_panels, 14.2ms\n",
      "Speed: 1.8ms preprocess, 14.2ms inference, 2.7ms postprocess per image at shape (1, 3, 416, 416)\n"
     ]
    },
    {
     "name": "stderr",
     "output_type": "stream",
     "text": [
      "Processing Images:  18%|█▊        | 90/506 [00:07<00:39, 10.56it/s]"
     ]
    },
    {
     "name": "stdout",
     "output_type": "stream",
     "text": [
      "\n",
      "image 1/1 /fab3/btech/2022/snehanshu.pal22b/SolarPanel/yolo_dataset/images/test/solarpanels_native_3__x0_9282_y0_13052_dxdy_416.tif: 416x416 5 solar_panels, 8.3ms\n",
      "Speed: 1.2ms preprocess, 8.3ms inference, 1.6ms postprocess per image at shape (1, 3, 416, 416)\n",
      "\n",
      "image 1/1 /fab3/btech/2022/snehanshu.pal22b/SolarPanel/yolo_dataset/images/test/solarpanels_native_1__x0_4621_y0_11738_dxdy_416.tif: 416x416 13 solar_panels, 12.2ms\n",
      "Speed: 8.6ms preprocess, 12.2ms inference, 18.5ms postprocess per image at shape (1, 3, 416, 416)\n"
     ]
    },
    {
     "name": "stderr",
     "output_type": "stream",
     "text": [
      "Processing Images:  18%|█▊        | 92/506 [00:07<00:34, 11.83it/s]"
     ]
    },
    {
     "name": "stdout",
     "output_type": "stream",
     "text": [
      "\n",
      "image 1/1 /fab3/btech/2022/snehanshu.pal22b/SolarPanel/yolo_dataset/images/test/solarpanels_native_2__x0_9516_y0_2520_dxdy_416.tif: 416x416 5 solar_panels, 27.0ms\n",
      "Speed: 1.9ms preprocess, 27.0ms inference, 3.7ms postprocess per image at shape (1, 3, 416, 416)\n",
      "\n",
      "image 1/1 /fab3/btech/2022/snehanshu.pal22b/SolarPanel/yolo_dataset/images/test/solarpanels_native_2__x0_8403_y0_3920_dxdy_416.tif: 416x416 14 solar_panels, 8.6ms\n",
      "Speed: 1.2ms preprocess, 8.6ms inference, 1.6ms postprocess per image at shape (1, 3, 416, 416)\n"
     ]
    },
    {
     "name": "stderr",
     "output_type": "stream",
     "text": [
      "Processing Images:  19%|█▊        | 94/506 [00:07<00:30, 13.33it/s]"
     ]
    },
    {
     "name": "stdout",
     "output_type": "stream",
     "text": [
      "\n",
      "image 1/1 /fab3/btech/2022/snehanshu.pal22b/SolarPanel/yolo_dataset/images/test/solarpanels_native_1__x0_3527_y0_12978_dxdy_416.tif: 416x416 15 solar_panels, 13.6ms\n",
      "Speed: 1.7ms preprocess, 13.6ms inference, 85.0ms postprocess per image at shape (1, 3, 416, 416)\n",
      "\n",
      "image 1/1 /fab3/btech/2022/snehanshu.pal22b/SolarPanel/yolo_dataset/images/test/solarpanels_native_3__x0_10361_y0_9859_dxdy_416.tif: 416x416 36 solar_panels, 11.0ms\n",
      "Speed: 1.3ms preprocess, 11.0ms inference, 3.4ms postprocess per image at shape (1, 3, 416, 416)\n"
     ]
    },
    {
     "name": "stderr",
     "output_type": "stream",
     "text": [
      "Processing Images:  19%|█▉        | 96/506 [00:07<00:31, 12.97it/s]"
     ]
    },
    {
     "name": "stdout",
     "output_type": "stream",
     "text": [
      "\n",
      "image 1/1 /fab3/btech/2022/snehanshu.pal22b/SolarPanel/yolo_dataset/images/test/solarpanels_native_1__x0_6941_y0_9543_dxdy_416.tif: 416x416 12 solar_panels, 10.2ms\n",
      "Speed: 1.3ms preprocess, 10.2ms inference, 1.9ms postprocess per image at shape (1, 3, 416, 416)\n",
      "\n",
      "image 1/1 /fab3/btech/2022/snehanshu.pal22b/SolarPanel/yolo_dataset/images/test/solarpanels_native_3__x0_9519_y0_0_dxdy_416.tif: 416x416 7 solar_panels, 17.2ms\n",
      "Speed: 1.2ms preprocess, 17.2ms inference, 4.7ms postprocess per image at shape (1, 3, 416, 416)\n"
     ]
    },
    {
     "name": "stderr",
     "output_type": "stream",
     "text": [
      "Processing Images:  19%|█▉        | 98/506 [00:08<00:36, 11.29it/s]"
     ]
    },
    {
     "name": "stdout",
     "output_type": "stream",
     "text": [
      "\n",
      "image 1/1 /fab3/btech/2022/snehanshu.pal22b/SolarPanel/yolo_dataset/images/test/solarpanels_native_1__x0_8688_y0_8158_dxdy_416.tif: 416x416 6 solar_panels, 16.9ms\n",
      "Speed: 3.6ms preprocess, 16.9ms inference, 3.0ms postprocess per image at shape (1, 3, 416, 416)\n",
      "\n",
      "image 1/1 /fab3/btech/2022/snehanshu.pal22b/SolarPanel/yolo_dataset/images/test/solarpanels_native_2__x0_2819_y0_4792_dxdy_416.tif: 416x416 8 solar_panels, 12.0ms\n",
      "Speed: 14.0ms preprocess, 12.0ms inference, 37.2ms postprocess per image at shape (1, 3, 416, 416)\n"
     ]
    },
    {
     "name": "stderr",
     "output_type": "stream",
     "text": [
      "Processing Images:  20%|█▉        | 100/506 [00:08<00:37, 10.86it/s]"
     ]
    },
    {
     "name": "stdout",
     "output_type": "stream",
     "text": [
      "\n",
      "image 1/1 /fab3/btech/2022/snehanshu.pal22b/SolarPanel/yolo_dataset/images/test/solarpanels_native_3__x0_10105_y0_14149_dxdy_416.tif: 416x416 1 solar_panel, 22.1ms\n",
      "Speed: 2.4ms preprocess, 22.1ms inference, 3.0ms postprocess per image at shape (1, 3, 416, 416)\n",
      "\n",
      "image 1/1 /fab3/btech/2022/snehanshu.pal22b/SolarPanel/yolo_dataset/images/test/solarpanels_native_2__x0_9656_y0_2596_dxdy_416.tif: 416x416 7 solar_panels, 79.5ms\n",
      "Speed: 8.5ms preprocess, 79.5ms inference, 3.4ms postprocess per image at shape (1, 3, 416, 416)\n"
     ]
    },
    {
     "name": "stderr",
     "output_type": "stream",
     "text": [
      "Processing Images:  20%|██        | 102/506 [00:08<00:38, 10.60it/s]"
     ]
    },
    {
     "name": "stdout",
     "output_type": "stream",
     "text": [
      "\n",
      "image 1/1 /fab3/btech/2022/snehanshu.pal22b/SolarPanel/yolo_dataset/images/test/solarpanels_native_3__x0_4025_y0_3822_dxdy_416.tif: 416x416 3 solar_panels, 34.2ms\n",
      "Speed: 2.0ms preprocess, 34.2ms inference, 16.0ms postprocess per image at shape (1, 3, 416, 416)\n",
      "\n",
      "image 1/1 /fab3/btech/2022/snehanshu.pal22b/SolarPanel/yolo_dataset/images/test/solarpanels_native_2__x0_25_y0_11671_dxdy_416.tif: 416x416 35 solar_panels, 17.4ms\n",
      "Speed: 1.8ms preprocess, 17.4ms inference, 5.4ms postprocess per image at shape (1, 3, 416, 416)\n"
     ]
    },
    {
     "name": "stderr",
     "output_type": "stream",
     "text": [
      "Processing Images:  21%|██        | 104/506 [00:08<00:43,  9.32it/s]"
     ]
    },
    {
     "name": "stdout",
     "output_type": "stream",
     "text": [
      "\n",
      "image 1/1 /fab3/btech/2022/snehanshu.pal22b/SolarPanel/yolo_dataset/images/test/solarpanels_native_1__x0_1584_y0_7429_dxdy_416.tif: 416x416 10 solar_panels, 17.6ms\n",
      "Speed: 2.6ms preprocess, 17.6ms inference, 7.7ms postprocess per image at shape (1, 3, 416, 416)\n",
      "\n",
      "image 1/1 /fab3/btech/2022/snehanshu.pal22b/SolarPanel/yolo_dataset/images/test/solarpanels_native_1__x0_8974_y0_12738_dxdy_416.tif: 416x416 6 solar_panels, 33.8ms\n",
      "Speed: 2.0ms preprocess, 33.8ms inference, 3.4ms postprocess per image at shape (1, 3, 416, 416)\n"
     ]
    },
    {
     "name": "stderr",
     "output_type": "stream",
     "text": [
      "Processing Images:  21%|██        | 106/506 [00:09<00:48,  8.21it/s]"
     ]
    },
    {
     "name": "stdout",
     "output_type": "stream",
     "text": [
      "\n",
      "image 1/1 /fab3/btech/2022/snehanshu.pal22b/SolarPanel/yolo_dataset/images/test/solarpanels_native_3__x0_2284_y0_13511_dxdy_416.tif: 416x416 5 solar_panels, 14.6ms\n",
      "Speed: 2.4ms preprocess, 14.6ms inference, 3.1ms postprocess per image at shape (1, 3, 416, 416)\n",
      "\n",
      "image 1/1 /fab3/btech/2022/snehanshu.pal22b/SolarPanel/yolo_dataset/images/test/solarpanels_native_2__x0_8319_y0_3069_dxdy_416.tif: 416x416 8 solar_panels, 41.8ms\n",
      "Speed: 2.0ms preprocess, 41.8ms inference, 2.4ms postprocess per image at shape (1, 3, 416, 416)\n"
     ]
    },
    {
     "name": "stderr",
     "output_type": "stream",
     "text": [
      "Processing Images:  21%|██▏       | 108/506 [00:09<00:43,  9.22it/s]"
     ]
    },
    {
     "name": "stdout",
     "output_type": "stream",
     "text": [
      "\n",
      "image 1/1 /fab3/btech/2022/snehanshu.pal22b/SolarPanel/yolo_dataset/images/test/solarpanels_native_3__x0_5235_y0_12918_dxdy_416.tif: 416x416 27 solar_panels, 17.1ms\n",
      "Speed: 3.2ms preprocess, 17.1ms inference, 2.7ms postprocess per image at shape (1, 3, 416, 416)\n",
      "\n",
      "image 1/1 /fab3/btech/2022/snehanshu.pal22b/SolarPanel/yolo_dataset/images/test/solarpanels_native_1__x0_6785_y0_12321_dxdy_416.tif: 416x416 33 solar_panels, 16.3ms\n",
      "Speed: 2.3ms preprocess, 16.3ms inference, 5.2ms postprocess per image at shape (1, 3, 416, 416)\n"
     ]
    },
    {
     "name": "stderr",
     "output_type": "stream",
     "text": [
      "Processing Images:  22%|██▏       | 110/506 [00:09<00:39, 10.01it/s]"
     ]
    },
    {
     "name": "stdout",
     "output_type": "stream",
     "text": [
      "\n",
      "image 1/1 /fab3/btech/2022/snehanshu.pal22b/SolarPanel/yolo_dataset/images/test/solarpanels_native_2__x0_15635_y0_13837_dxdy_416.tif: 416x416 6 solar_panels, 9.3ms\n",
      "Speed: 1.3ms preprocess, 9.3ms inference, 1.8ms postprocess per image at shape (1, 3, 416, 416)\n",
      "\n",
      "image 1/1 /fab3/btech/2022/snehanshu.pal22b/SolarPanel/yolo_dataset/images/test/solarpanels_native_1__x0_6685_y0_6186_dxdy_416.tif: 416x416 2 solar_panels, 11.2ms\n",
      "Speed: 1.9ms preprocess, 11.2ms inference, 1.9ms postprocess per image at shape (1, 3, 416, 416)\n",
      "\n",
      "image 1/1 /fab3/btech/2022/snehanshu.pal22b/SolarPanel/yolo_dataset/images/test/solarpanels_native_1__x0_6631_y0_12239_dxdy_416.tif: 416x416 42 solar_panels, 11.2ms\n",
      "Speed: 1.8ms preprocess, 11.2ms inference, 3.2ms postprocess per image at shape (1, 3, 416, 416)\n"
     ]
    },
    {
     "name": "stderr",
     "output_type": "stream",
     "text": [
      "Processing Images:  22%|██▏       | 113/506 [00:09<00:32, 12.23it/s]"
     ]
    },
    {
     "name": "stdout",
     "output_type": "stream",
     "text": [
      "\n",
      "image 1/1 /fab3/btech/2022/snehanshu.pal22b/SolarPanel/yolo_dataset/images/test/solarpanels_native_2__x0_0_y0_9414_dxdy_416.tif: 416x416 1 solar_panel, 13.5ms\n",
      "Speed: 1.9ms preprocess, 13.5ms inference, 2.9ms postprocess per image at shape (1, 3, 416, 416)\n",
      "\n",
      "image 1/1 /fab3/btech/2022/snehanshu.pal22b/SolarPanel/yolo_dataset/images/test/solarpanels_native_1__x0_8701_y0_10100_dxdy_416.tif: 416x416 2 solar_panels, 12.3ms\n",
      "Speed: 1.8ms preprocess, 12.3ms inference, 2.5ms postprocess per image at shape (1, 3, 416, 416)\n",
      "\n",
      "image 1/1 /fab3/btech/2022/snehanshu.pal22b/SolarPanel/yolo_dataset/images/test/solarpanels_native_3__x0_8761_y0_13504_dxdy_416.tif: 416x416 5 solar_panels, 9.7ms\n",
      "Speed: 1.5ms preprocess, 9.7ms inference, 28.8ms postprocess per image at shape (1, 3, 416, 416)\n"
     ]
    },
    {
     "name": "stderr",
     "output_type": "stream",
     "text": [
      "Processing Images:  23%|██▎       | 116/506 [00:09<00:27, 14.03it/s]"
     ]
    },
    {
     "name": "stdout",
     "output_type": "stream",
     "text": [
      "\n",
      "image 1/1 /fab3/btech/2022/snehanshu.pal22b/SolarPanel/yolo_dataset/images/test/solarpanels_native_1__x0_4826_y0_11328_dxdy_416.tif: 416x416 7 solar_panels, 16.0ms\n",
      "Speed: 1.8ms preprocess, 16.0ms inference, 3.3ms postprocess per image at shape (1, 3, 416, 416)\n",
      "\n",
      "image 1/1 /fab3/btech/2022/snehanshu.pal22b/SolarPanel/yolo_dataset/images/test/solarpanels_native_1__x0_998_y0_8985_dxdy_416.tif: 416x416 10 solar_panels, 9.6ms\n",
      "Speed: 1.2ms preprocess, 9.6ms inference, 2.0ms postprocess per image at shape (1, 3, 416, 416)\n",
      "\n",
      "image 1/1 /fab3/btech/2022/snehanshu.pal22b/SolarPanel/yolo_dataset/images/test/solarpanels_native_2__x0_12143_y0_12627_dxdy_416.tif: 416x416 3 solar_panels, 40.4ms\n",
      "Speed: 1.3ms preprocess, 40.4ms inference, 3.0ms postprocess per image at shape (1, 3, 416, 416)\n"
     ]
    },
    {
     "name": "stderr",
     "output_type": "stream",
     "text": [
      "Processing Images:  24%|██▎       | 119/506 [00:09<00:23, 16.73it/s]"
     ]
    },
    {
     "name": "stdout",
     "output_type": "stream",
     "text": [
      "\n",
      "image 1/1 /fab3/btech/2022/snehanshu.pal22b/SolarPanel/yolo_dataset/images/test/solarpanels_native_3__x0_8348_y0_9251_dxdy_416.tif: 416x416 5 solar_panels, 13.2ms\n",
      "Speed: 2.6ms preprocess, 13.2ms inference, 2.3ms postprocess per image at shape (1, 3, 416, 416)\n",
      "\n",
      "image 1/1 /fab3/btech/2022/snehanshu.pal22b/SolarPanel/yolo_dataset/images/test/solarpanels_native_3__x0_5847_y0_13234_dxdy_416.tif: 416x416 4 solar_panels, 12.4ms\n",
      "Speed: 1.3ms preprocess, 12.4ms inference, 1.9ms postprocess per image at shape (1, 3, 416, 416)\n"
     ]
    },
    {
     "name": "stderr",
     "output_type": "stream",
     "text": [
      "Processing Images:  24%|██▍       | 121/506 [00:10<00:23, 16.29it/s]"
     ]
    },
    {
     "name": "stdout",
     "output_type": "stream",
     "text": [
      "\n",
      "image 1/1 /fab3/btech/2022/snehanshu.pal22b/SolarPanel/yolo_dataset/images/test/solarpanels_native_3__x0_3622_y0_15968_dxdy_416.tif: 416x416 4 solar_panels, 12.8ms\n",
      "Speed: 1.7ms preprocess, 12.8ms inference, 64.1ms postprocess per image at shape (1, 3, 416, 416)\n",
      "\n",
      "image 1/1 /fab3/btech/2022/snehanshu.pal22b/SolarPanel/yolo_dataset/images/test/solarpanels_native_1__x0_8274_y0_7639_dxdy_416.tif: 416x416 9 solar_panels, 11.1ms\n",
      "Speed: 2.2ms preprocess, 11.1ms inference, 2.6ms postprocess per image at shape (1, 3, 416, 416)\n"
     ]
    },
    {
     "name": "stderr",
     "output_type": "stream",
     "text": [
      "Processing Images:  24%|██▍       | 123/506 [00:10<00:27, 13.91it/s]"
     ]
    },
    {
     "name": "stdout",
     "output_type": "stream",
     "text": [
      "\n",
      "image 1/1 /fab3/btech/2022/snehanshu.pal22b/SolarPanel/yolo_dataset/images/test/solarpanels_native_2__x0_9923_y0_3327_dxdy_416.tif: 416x416 13 solar_panels, 57.2ms\n",
      "Speed: 3.1ms preprocess, 57.2ms inference, 2.4ms postprocess per image at shape (1, 3, 416, 416)\n",
      "\n",
      "image 1/1 /fab3/btech/2022/snehanshu.pal22b/SolarPanel/yolo_dataset/images/test/solarpanels_native_2__x0_1044_y0_8640_dxdy_416.tif: 416x416 8 solar_panels, 22.8ms\n",
      "Speed: 1.9ms preprocess, 22.8ms inference, 3.0ms postprocess per image at shape (1, 3, 416, 416)\n"
     ]
    },
    {
     "name": "stderr",
     "output_type": "stream",
     "text": [
      "Processing Images:  25%|██▍       | 125/506 [00:10<00:29, 12.83it/s]"
     ]
    },
    {
     "name": "stdout",
     "output_type": "stream",
     "text": [
      "\n",
      "image 1/1 /fab3/btech/2022/snehanshu.pal22b/SolarPanel/yolo_dataset/images/test/solarpanels_native_3__x0_4763_y0_13162_dxdy_416.tif: 416x416 5 solar_panels, 10.6ms\n",
      "Speed: 1.5ms preprocess, 10.6ms inference, 2.0ms postprocess per image at shape (1, 3, 416, 416)\n",
      "\n",
      "image 1/1 /fab3/btech/2022/snehanshu.pal22b/SolarPanel/yolo_dataset/images/test/solarpanels_native_2__x0_7910_y0_2472_dxdy_416.tif: 416x416 12 solar_panels, 16.8ms\n",
      "Speed: 2.3ms preprocess, 16.8ms inference, 2.1ms postprocess per image at shape (1, 3, 416, 416)\n",
      "\n",
      "image 1/1 /fab3/btech/2022/snehanshu.pal22b/SolarPanel/yolo_dataset/images/test/solarpanels_native_3__x0_10854_y0_9243_dxdy_416.tif: 416x416 6 solar_panels, 16.1ms\n",
      "Speed: 3.6ms preprocess, 16.1ms inference, 4.5ms postprocess per image at shape (1, 3, 416, 416)\n",
      "\n",
      "image 1/1 /fab3/btech/2022/snehanshu.pal22b/SolarPanel/yolo_dataset/images/test/solarpanels_native_1__x0_3472_y0_13154_dxdy_416.tif: 416x416 14 solar_panels, 12.9ms\n",
      "Speed: 1.6ms preprocess, 12.9ms inference, 2.7ms postprocess per image at shape (1, 3, 416, 416)\n"
     ]
    },
    {
     "name": "stderr",
     "output_type": "stream",
     "text": [
      "Processing Images:  25%|██▌       | 129/506 [00:10<00:21, 17.26it/s]"
     ]
    },
    {
     "name": "stdout",
     "output_type": "stream",
     "text": [
      "\n",
      "image 1/1 /fab3/btech/2022/snehanshu.pal22b/SolarPanel/yolo_dataset/images/test/solarpanels_native_1__x0_9330_y0_10842_dxdy_416.tif: 416x416 19 solar_panels, 19.4ms\n",
      "Speed: 2.1ms preprocess, 19.4ms inference, 2.4ms postprocess per image at shape (1, 3, 416, 416)\n",
      "\n",
      "image 1/1 /fab3/btech/2022/snehanshu.pal22b/SolarPanel/yolo_dataset/images/test/solarpanels_native_3__x0_3458_y0_7770_dxdy_416.tif: 416x416 4 solar_panels, 17.4ms\n",
      "Speed: 2.6ms preprocess, 17.4ms inference, 2.9ms postprocess per image at shape (1, 3, 416, 416)\n",
      "\n",
      "image 1/1 /fab3/btech/2022/snehanshu.pal22b/SolarPanel/yolo_dataset/images/test/solarpanels_native_1__x0_8087_y0_9041_dxdy_416.tif: 416x416 3 solar_panels, 13.8ms\n",
      "Speed: 2.7ms preprocess, 13.8ms inference, 2.8ms postprocess per image at shape (1, 3, 416, 416)\n"
     ]
    },
    {
     "name": "stderr",
     "output_type": "stream",
     "text": [
      "Processing Images:  26%|██▌       | 132/506 [00:10<00:19, 19.30it/s]"
     ]
    },
    {
     "name": "stdout",
     "output_type": "stream",
     "text": [
      "\n",
      "image 1/1 /fab3/btech/2022/snehanshu.pal22b/SolarPanel/yolo_dataset/images/test/solarpanels_native_3__x0_5414_y0_14240_dxdy_416.tif: 416x416 3 solar_panels, 19.0ms\n",
      "Speed: 2.9ms preprocess, 19.0ms inference, 1.7ms postprocess per image at shape (1, 3, 416, 416)\n",
      "\n",
      "image 1/1 /fab3/btech/2022/snehanshu.pal22b/SolarPanel/yolo_dataset/images/test/solarpanels_native_1__x0_1293_y0_3706_dxdy_416.tif: 416x416 6 solar_panels, 29.0ms\n",
      "Speed: 1.4ms preprocess, 29.0ms inference, 2.1ms postprocess per image at shape (1, 3, 416, 416)\n",
      "\n",
      "image 1/1 /fab3/btech/2022/snehanshu.pal22b/SolarPanel/yolo_dataset/images/test/solarpanels_native_1__x0_1841_y0_7154_dxdy_416.tif: 416x416 9 solar_panels, 10.0ms\n",
      "Speed: 2.0ms preprocess, 10.0ms inference, 1.8ms postprocess per image at shape (1, 3, 416, 416)\n"
     ]
    },
    {
     "name": "stderr",
     "output_type": "stream",
     "text": [
      "Processing Images:  27%|██▋       | 135/506 [00:10<00:20, 18.39it/s]"
     ]
    },
    {
     "name": "stdout",
     "output_type": "stream",
     "text": [
      "\n",
      "image 1/1 /fab3/btech/2022/snehanshu.pal22b/SolarPanel/yolo_dataset/images/test/solarpanels_native_1__x0_5191_y0_12827_dxdy_416.tif: 416x416 6 solar_panels, 59.4ms\n",
      "Speed: 1.5ms preprocess, 59.4ms inference, 4.7ms postprocess per image at shape (1, 3, 416, 416)\n",
      "\n",
      "image 1/1 /fab3/btech/2022/snehanshu.pal22b/SolarPanel/yolo_dataset/images/test/solarpanels_native_3__x0_10536_y0_10550_dxdy_416.tif: 416x416 7 solar_panels, 48.0ms\n",
      "Speed: 2.9ms preprocess, 48.0ms inference, 2.8ms postprocess per image at shape (1, 3, 416, 416)\n"
     ]
    },
    {
     "name": "stderr",
     "output_type": "stream",
     "text": [
      "Processing Images:  27%|██▋       | 137/506 [00:11<00:27, 13.21it/s]"
     ]
    },
    {
     "name": "stdout",
     "output_type": "stream",
     "text": [
      "\n",
      "image 1/1 /fab3/btech/2022/snehanshu.pal22b/SolarPanel/yolo_dataset/images/test/solarpanels_native_2__x0_0_y0_11511_dxdy_416.tif: 416x416 44 solar_panels, 28.7ms\n",
      "Speed: 3.0ms preprocess, 28.7ms inference, 2.3ms postprocess per image at shape (1, 3, 416, 416)\n",
      "\n",
      "image 1/1 /fab3/btech/2022/snehanshu.pal22b/SolarPanel/yolo_dataset/images/test/solarpanels_native_2__x0_980_y0_10358_dxdy_416.tif: 416x416 38 solar_panels, 44.3ms\n",
      "Speed: 2.0ms preprocess, 44.3ms inference, 5.3ms postprocess per image at shape (1, 3, 416, 416)\n"
     ]
    },
    {
     "name": "stderr",
     "output_type": "stream",
     "text": [
      "Processing Images:  27%|██▋       | 139/506 [00:11<00:30, 11.97it/s]"
     ]
    },
    {
     "name": "stdout",
     "output_type": "stream",
     "text": [
      "\n",
      "image 1/1 /fab3/btech/2022/snehanshu.pal22b/SolarPanel/yolo_dataset/images/test/solarpanels_native_1__x0_235_y0_7000_dxdy_416.tif: 416x416 16 solar_panels, 17.0ms\n",
      "Speed: 3.0ms preprocess, 17.0ms inference, 3.4ms postprocess per image at shape (1, 3, 416, 416)\n",
      "\n",
      "image 1/1 /fab3/btech/2022/snehanshu.pal22b/SolarPanel/yolo_dataset/images/test/solarpanels_native_1__x0_2191_y0_6096_dxdy_416.tif: 416x416 10 solar_panels, 15.9ms\n",
      "Speed: 3.5ms preprocess, 15.9ms inference, 8.2ms postprocess per image at shape (1, 3, 416, 416)\n"
     ]
    },
    {
     "name": "stderr",
     "output_type": "stream",
     "text": [
      "Processing Images:  28%|██▊       | 141/506 [00:11<00:30, 11.87it/s]"
     ]
    },
    {
     "name": "stdout",
     "output_type": "stream",
     "text": [
      "\n",
      "image 1/1 /fab3/btech/2022/snehanshu.pal22b/SolarPanel/yolo_dataset/images/test/solarpanels_native_3__x0_5752_y0_1032_dxdy_416.tif: 416x416 3 solar_panels, 9.6ms\n",
      "Speed: 1.4ms preprocess, 9.6ms inference, 2.0ms postprocess per image at shape (1, 3, 416, 416)\n",
      "\n",
      "image 1/1 /fab3/btech/2022/snehanshu.pal22b/SolarPanel/yolo_dataset/images/test/solarpanels_native_2__x0_4465_y0_12088_dxdy_416.tif: 416x416 1 solar_panel, 98.4ms\n",
      "Speed: 1.4ms preprocess, 98.4ms inference, 2.6ms postprocess per image at shape (1, 3, 416, 416)\n"
     ]
    },
    {
     "name": "stderr",
     "output_type": "stream",
     "text": [
      "Processing Images:  28%|██▊       | 143/506 [00:11<00:29, 12.33it/s]"
     ]
    },
    {
     "name": "stdout",
     "output_type": "stream",
     "text": [
      "\n",
      "image 1/1 /fab3/btech/2022/snehanshu.pal22b/SolarPanel/yolo_dataset/images/test/solarpanels_native_2__x0_845_y0_10339_dxdy_416.tif: 416x416 42 solar_panels, 17.7ms\n",
      "Speed: 1.9ms preprocess, 17.7ms inference, 2.1ms postprocess per image at shape (1, 3, 416, 416)\n",
      "\n",
      "image 1/1 /fab3/btech/2022/snehanshu.pal22b/SolarPanel/yolo_dataset/images/test/solarpanels_native_1__x0_7709_y0_9480_dxdy_416.tif: 416x416 5 solar_panels, 9.5ms\n",
      "Speed: 1.6ms preprocess, 9.5ms inference, 2.1ms postprocess per image at shape (1, 3, 416, 416)\n",
      "\n",
      "image 1/1 /fab3/btech/2022/snehanshu.pal22b/SolarPanel/yolo_dataset/images/test/solarpanels_native_1__x0_9658_y0_10999_dxdy_416.tif: 416x416 10 solar_panels, 47.3ms\n",
      "Speed: 1.8ms preprocess, 47.3ms inference, 4.9ms postprocess per image at shape (1, 3, 416, 416)\n"
     ]
    },
    {
     "name": "stderr",
     "output_type": "stream",
     "text": [
      "Processing Images:  29%|██▉       | 146/506 [00:11<00:26, 13.57it/s]"
     ]
    },
    {
     "name": "stdout",
     "output_type": "stream",
     "text": [
      "\n",
      "image 1/1 /fab3/btech/2022/snehanshu.pal22b/SolarPanel/yolo_dataset/images/test/solarpanels_native_3__x0_9414_y0_14966_dxdy_416.tif: 416x416 17 solar_panels, 15.2ms\n",
      "Speed: 1.8ms preprocess, 15.2ms inference, 1.7ms postprocess per image at shape (1, 3, 416, 416)\n",
      "\n",
      "image 1/1 /fab3/btech/2022/snehanshu.pal22b/SolarPanel/yolo_dataset/images/test/solarpanels_native_1__x0_8136_y0_12903_dxdy_416.tif: 416x416 6 solar_panels, 10.3ms\n",
      "Speed: 1.2ms preprocess, 10.3ms inference, 14.1ms postprocess per image at shape (1, 3, 416, 416)\n",
      "\n",
      "image 1/1 /fab3/btech/2022/snehanshu.pal22b/SolarPanel/yolo_dataset/images/test/solarpanels_native_1__x0_689_y0_6617_dxdy_416.tif: 416x416 2 solar_panels, 20.7ms\n",
      "Speed: 1.8ms preprocess, 20.7ms inference, 1.5ms postprocess per image at shape (1, 3, 416, 416)\n"
     ]
    },
    {
     "name": "stderr",
     "output_type": "stream",
     "text": [
      "Processing Images:  29%|██▉       | 149/506 [00:11<00:23, 15.27it/s]"
     ]
    },
    {
     "name": "stdout",
     "output_type": "stream",
     "text": [
      "\n",
      "image 1/1 /fab3/btech/2022/snehanshu.pal22b/SolarPanel/yolo_dataset/images/test/solarpanels_native_1__x0_1998_y0_7709_dxdy_416.tif: 416x416 3 solar_panels, 32.6ms\n",
      "Speed: 2.0ms preprocess, 32.6ms inference, 56.7ms postprocess per image at shape (1, 3, 416, 416)\n",
      "\n",
      "image 1/1 /fab3/btech/2022/snehanshu.pal22b/SolarPanel/yolo_dataset/images/test/solarpanels_native_3__x0_6876_y0_13387_dxdy_416.tif: 416x416 3 solar_panels, 53.1ms\n",
      "Speed: 2.0ms preprocess, 53.1ms inference, 2.7ms postprocess per image at shape (1, 3, 416, 416)\n"
     ]
    },
    {
     "name": "stderr",
     "output_type": "stream",
     "text": [
      "Processing Images:  30%|██▉       | 151/506 [00:12<00:26, 13.54it/s]"
     ]
    },
    {
     "name": "stdout",
     "output_type": "stream",
     "text": [
      "\n",
      "image 1/1 /fab3/btech/2022/snehanshu.pal22b/SolarPanel/yolo_dataset/images/test/solarpanels_native_1__x0_7603_y0_9742_dxdy_416.tif: 416x416 10 solar_panels, 32.8ms\n",
      "Speed: 1.6ms preprocess, 32.8ms inference, 1.7ms postprocess per image at shape (1, 3, 416, 416)\n",
      "\n",
      "image 1/1 /fab3/btech/2022/snehanshu.pal22b/SolarPanel/yolo_dataset/images/test/solarpanels_native_1__x0_2499_y0_10481_dxdy_416.tif: 416x416 4 solar_panels, 9.4ms\n",
      "Speed: 1.4ms preprocess, 9.4ms inference, 2.3ms postprocess per image at shape (1, 3, 416, 416)\n"
     ]
    },
    {
     "name": "stderr",
     "output_type": "stream",
     "text": [
      "Processing Images:  30%|███       | 153/506 [00:12<00:25, 13.63it/s]"
     ]
    },
    {
     "name": "stdout",
     "output_type": "stream",
     "text": [
      "\n",
      "image 1/1 /fab3/btech/2022/snehanshu.pal22b/SolarPanel/yolo_dataset/images/test/solarpanels_native_3__x0_11075_y0_9659_dxdy_416.tif: 416x416 31 solar_panels, 57.9ms\n",
      "Speed: 1.3ms preprocess, 57.9ms inference, 56.4ms postprocess per image at shape (1, 3, 416, 416)\n",
      "\n",
      "image 1/1 /fab3/btech/2022/snehanshu.pal22b/SolarPanel/yolo_dataset/images/test/solarpanels_native_1__x0_2646_y0_9553_dxdy_416.tif: 416x416 8 solar_panels, 119.9ms\n",
      "Speed: 1.6ms preprocess, 119.9ms inference, 2.5ms postprocess per image at shape (1, 3, 416, 416)\n"
     ]
    },
    {
     "name": "stderr",
     "output_type": "stream",
     "text": [
      "Processing Images:  31%|███       | 155/506 [00:12<00:34, 10.29it/s]"
     ]
    },
    {
     "name": "stdout",
     "output_type": "stream",
     "text": [
      "\n",
      "image 1/1 /fab3/btech/2022/snehanshu.pal22b/SolarPanel/yolo_dataset/images/test/solarpanels_native_2__x0_10795_y0_9405_dxdy_416.tif: 416x416 1 solar_panel, 13.5ms\n",
      "Speed: 1.8ms preprocess, 13.5ms inference, 3.3ms postprocess per image at shape (1, 3, 416, 416)\n",
      "\n",
      "image 1/1 /fab3/btech/2022/snehanshu.pal22b/SolarPanel/yolo_dataset/images/test/solarpanels_native_1__x0_8733_y0_10720_dxdy_416.tif: 416x416 12 solar_panels, 16.6ms\n",
      "Speed: 1.2ms preprocess, 16.6ms inference, 2.2ms postprocess per image at shape (1, 3, 416, 416)\n",
      "\n",
      "image 1/1 /fab3/btech/2022/snehanshu.pal22b/SolarPanel/yolo_dataset/images/test/solarpanels_native_2__x0_8510_y0_1500_dxdy_416.tif: 416x416 10 solar_panels, 23.8ms\n",
      "Speed: 1.6ms preprocess, 23.8ms inference, 3.3ms postprocess per image at shape (1, 3, 416, 416)\n"
     ]
    },
    {
     "name": "stderr",
     "output_type": "stream",
     "text": [
      "Processing Images:  31%|███       | 158/506 [00:12<00:26, 13.22it/s]"
     ]
    },
    {
     "name": "stdout",
     "output_type": "stream",
     "text": [
      "\n",
      "image 1/1 /fab3/btech/2022/snehanshu.pal22b/SolarPanel/yolo_dataset/images/test/solarpanels_native_1__x0_5402_y0_12780_dxdy_416.tif: 416x416 7 solar_panels, 11.3ms\n",
      "Speed: 1.7ms preprocess, 11.3ms inference, 2.5ms postprocess per image at shape (1, 3, 416, 416)\n",
      "\n",
      "image 1/1 /fab3/btech/2022/snehanshu.pal22b/SolarPanel/yolo_dataset/images/test/solarpanels_native_2__x0_926_y0_10475_dxdy_416.tif: 416x416 57 solar_panels, 50.1ms\n",
      "Speed: 5.5ms preprocess, 50.1ms inference, 1.8ms postprocess per image at shape (1, 3, 416, 416)\n"
     ]
    },
    {
     "name": "stderr",
     "output_type": "stream",
     "text": [
      "Processing Images:  32%|███▏      | 160/506 [00:12<00:27, 12.59it/s]"
     ]
    },
    {
     "name": "stdout",
     "output_type": "stream",
     "text": [
      "\n",
      "image 1/1 /fab3/btech/2022/snehanshu.pal22b/SolarPanel/yolo_dataset/images/test/solarpanels_native_1__x0_1084_y0_8849_dxdy_416.tif: 416x416 12 solar_panels, 14.7ms\n",
      "Speed: 1.2ms preprocess, 14.7ms inference, 1.7ms postprocess per image at shape (1, 3, 416, 416)\n",
      "\n",
      "image 1/1 /fab3/btech/2022/snehanshu.pal22b/SolarPanel/yolo_dataset/images/test/solarpanels_native_3__x0_8547_y0_14707_dxdy_416.tif: 416x416 8 solar_panels, 11.7ms\n",
      "Speed: 0.9ms preprocess, 11.7ms inference, 2.5ms postprocess per image at shape (1, 3, 416, 416)\n",
      "\n",
      "image 1/1 /fab3/btech/2022/snehanshu.pal22b/SolarPanel/yolo_dataset/images/test/solarpanels_native_3__x0_9432_y0_14240_dxdy_416.tif: 416x416 4 solar_panels, 16.8ms\n",
      "Speed: 2.7ms preprocess, 16.8ms inference, 14.1ms postprocess per image at shape (1, 3, 416, 416)\n"
     ]
    },
    {
     "name": "stderr",
     "output_type": "stream",
     "text": [
      "Processing Images:  32%|███▏      | 163/506 [00:13<00:23, 14.35it/s]"
     ]
    },
    {
     "name": "stdout",
     "output_type": "stream",
     "text": [
      "\n",
      "image 1/1 /fab3/btech/2022/snehanshu.pal22b/SolarPanel/yolo_dataset/images/test/solarpanels_native_3__x0_4469_y0_4656_dxdy_416.tif: 416x416 5 solar_panels, 100.1ms\n",
      "Speed: 3.2ms preprocess, 100.1ms inference, 2.8ms postprocess per image at shape (1, 3, 416, 416)\n",
      "\n",
      "image 1/1 /fab3/btech/2022/snehanshu.pal22b/SolarPanel/yolo_dataset/images/test/solarpanels_native_2__x0_469_y0_11129_dxdy_416.tif: 416x416 41 solar_panels, 41.9ms\n",
      "Speed: 2.8ms preprocess, 41.9ms inference, 2.5ms postprocess per image at shape (1, 3, 416, 416)\n"
     ]
    },
    {
     "name": "stderr",
     "output_type": "stream",
     "text": [
      "Processing Images:  33%|███▎      | 165/506 [00:13<00:32, 10.56it/s]"
     ]
    },
    {
     "name": "stdout",
     "output_type": "stream",
     "text": [
      "\n",
      "image 1/1 /fab3/btech/2022/snehanshu.pal22b/SolarPanel/yolo_dataset/images/test/solarpanels_native_2__x0_1867_y0_10180_dxdy_416.tif: 416x416 4 solar_panels, 16.3ms\n",
      "Speed: 4.5ms preprocess, 16.3ms inference, 2.4ms postprocess per image at shape (1, 3, 416, 416)\n",
      "\n",
      "image 1/1 /fab3/btech/2022/snehanshu.pal22b/SolarPanel/yolo_dataset/images/test/solarpanels_native_1__x0_6358_y0_12317_dxdy_416.tif: 416x416 17 solar_panels, 58.1ms\n",
      "Speed: 4.7ms preprocess, 58.1ms inference, 2.5ms postprocess per image at shape (1, 3, 416, 416)\n"
     ]
    },
    {
     "name": "stderr",
     "output_type": "stream",
     "text": [
      "Processing Images:  33%|███▎      | 167/506 [00:13<00:34,  9.85it/s]"
     ]
    },
    {
     "name": "stdout",
     "output_type": "stream",
     "text": [
      "\n",
      "image 1/1 /fab3/btech/2022/snehanshu.pal22b/SolarPanel/yolo_dataset/images/test/solarpanels_native_1__x0_10010_y0_11042_dxdy_416.tif: 416x416 6 solar_panels, 114.7ms\n",
      "Speed: 2.6ms preprocess, 114.7ms inference, 2.3ms postprocess per image at shape (1, 3, 416, 416)\n",
      "\n",
      "image 1/1 /fab3/btech/2022/snehanshu.pal22b/SolarPanel/yolo_dataset/images/test/solarpanels_native_1__x0_6496_y0_12146_dxdy_416.tif: 416x416 20 solar_panels, 13.8ms\n",
      "Speed: 2.2ms preprocess, 13.8ms inference, 16.2ms postprocess per image at shape (1, 3, 416, 416)\n"
     ]
    },
    {
     "name": "stderr",
     "output_type": "stream",
     "text": [
      "Processing Images:  33%|███▎      | 169/506 [00:14<00:40,  8.24it/s]"
     ]
    },
    {
     "name": "stdout",
     "output_type": "stream",
     "text": [
      "\n",
      "image 1/1 /fab3/btech/2022/snehanshu.pal22b/SolarPanel/yolo_dataset/images/test/solarpanels_native_1__x0_338_y0_7199_dxdy_416.tif: 416x416 15 solar_panels, 9.7ms\n",
      "Speed: 1.6ms preprocess, 9.7ms inference, 1.8ms postprocess per image at shape (1, 3, 416, 416)\n",
      "\n",
      "image 1/1 /fab3/btech/2022/snehanshu.pal22b/SolarPanel/yolo_dataset/images/test/solarpanels_native_2__x0_9542_y0_3448_dxdy_416.tif: 416x416 8 solar_panels, 47.3ms\n",
      "Speed: 2.7ms preprocess, 47.3ms inference, 19.4ms postprocess per image at shape (1, 3, 416, 416)\n"
     ]
    },
    {
     "name": "stderr",
     "output_type": "stream",
     "text": [
      "Processing Images:  34%|███▍      | 171/506 [00:14<00:34,  9.64it/s]"
     ]
    },
    {
     "name": "stdout",
     "output_type": "stream",
     "text": [
      "\n",
      "image 1/1 /fab3/btech/2022/snehanshu.pal22b/SolarPanel/yolo_dataset/images/test/solarpanels_native_3__x0_9499_y0_10683_dxdy_416.tif: 416x416 6 solar_panels, 30.6ms\n",
      "Speed: 2.2ms preprocess, 30.6ms inference, 2.6ms postprocess per image at shape (1, 3, 416, 416)\n",
      "\n",
      "image 1/1 /fab3/btech/2022/snehanshu.pal22b/SolarPanel/yolo_dataset/images/test/solarpanels_native_3__x0_9847_y0_14845_dxdy_416.tif: 416x416 7 solar_panels, 17.2ms\n",
      "Speed: 1.9ms preprocess, 17.2ms inference, 2.7ms postprocess per image at shape (1, 3, 416, 416)\n",
      "\n",
      "image 1/1 /fab3/btech/2022/snehanshu.pal22b/SolarPanel/yolo_dataset/images/test/solarpanels_native_2__x0_0_y0_11569_dxdy_416.tif: 416x416 41 solar_panels, 20.9ms\n",
      "Speed: 1.9ms preprocess, 20.9ms inference, 2.6ms postprocess per image at shape (1, 3, 416, 416)\n"
     ]
    },
    {
     "name": "stderr",
     "output_type": "stream",
     "text": [
      "Processing Images:  34%|███▍      | 174/506 [00:14<00:27, 12.27it/s]"
     ]
    },
    {
     "name": "stdout",
     "output_type": "stream",
     "text": [
      "\n",
      "image 1/1 /fab3/btech/2022/snehanshu.pal22b/SolarPanel/yolo_dataset/images/test/solarpanels_native_1__x0_8385_y0_9752_dxdy_416.tif: 416x416 7 solar_panels, 15.4ms\n",
      "Speed: 1.9ms preprocess, 15.4ms inference, 2.2ms postprocess per image at shape (1, 3, 416, 416)\n",
      "\n",
      "image 1/1 /fab3/btech/2022/snehanshu.pal22b/SolarPanel/yolo_dataset/images/test/solarpanels_native_3__x0_6480_y0_12541_dxdy_416.tif: 416x416 1 solar_panel, 11.6ms\n",
      "Speed: 1.9ms preprocess, 11.6ms inference, 3.6ms postprocess per image at shape (1, 3, 416, 416)\n"
     ]
    },
    {
     "name": "stderr",
     "output_type": "stream",
     "text": [
      "Processing Images:  35%|███▍      | 176/506 [00:14<00:27, 11.92it/s]"
     ]
    },
    {
     "name": "stdout",
     "output_type": "stream",
     "text": [
      "\n",
      "image 1/1 /fab3/btech/2022/snehanshu.pal22b/SolarPanel/yolo_dataset/images/test/solarpanels_native_1__x0_7877_y0_11703_dxdy_416.tif: 416x416 5 solar_panels, 12.4ms\n",
      "Speed: 1.7ms preprocess, 12.4ms inference, 2.1ms postprocess per image at shape (1, 3, 416, 416)\n",
      "\n",
      "image 1/1 /fab3/btech/2022/snehanshu.pal22b/SolarPanel/yolo_dataset/images/test/solarpanels_native_3__x0_11176_y0_12824_dxdy_416.tif: 416x416 8 solar_panels, 94.7ms\n",
      "Speed: 2.5ms preprocess, 94.7ms inference, 1.7ms postprocess per image at shape (1, 3, 416, 416)\n"
     ]
    },
    {
     "name": "stderr",
     "output_type": "stream",
     "text": [
      "Processing Images:  35%|███▌      | 178/506 [00:14<00:30, 10.76it/s]"
     ]
    },
    {
     "name": "stdout",
     "output_type": "stream",
     "text": [
      "\n",
      "image 1/1 /fab3/btech/2022/snehanshu.pal22b/SolarPanel/yolo_dataset/images/test/solarpanels_native_3__x0_8066_y0_8436_dxdy_416.tif: 416x416 1 solar_panel, 25.9ms\n",
      "Speed: 2.4ms preprocess, 25.9ms inference, 1.7ms postprocess per image at shape (1, 3, 416, 416)\n",
      "\n",
      "image 1/1 /fab3/btech/2022/snehanshu.pal22b/SolarPanel/yolo_dataset/images/test/solarpanels_native_2__x0_9471_y0_3791_dxdy_416.tif: 416x416 8 solar_panels, 51.9ms\n",
      "Speed: 1.2ms preprocess, 51.9ms inference, 3.2ms postprocess per image at shape (1, 3, 416, 416)\n"
     ]
    },
    {
     "name": "stderr",
     "output_type": "stream",
     "text": [
      "Processing Images:  36%|███▌      | 180/506 [00:14<00:27, 11.81it/s]"
     ]
    },
    {
     "name": "stdout",
     "output_type": "stream",
     "text": [
      "\n",
      "image 1/1 /fab3/btech/2022/snehanshu.pal22b/SolarPanel/yolo_dataset/images/test/solarpanels_native_1__x0_762_y0_8855_dxdy_416.tif: 416x416 11 solar_panels, 18.7ms\n",
      "Speed: 2.0ms preprocess, 18.7ms inference, 2.8ms postprocess per image at shape (1, 3, 416, 416)\n",
      "\n",
      "image 1/1 /fab3/btech/2022/snehanshu.pal22b/SolarPanel/yolo_dataset/images/test/solarpanels_native_3__x0_5787_y0_13034_dxdy_416.tif: 416x416 6 solar_panels, 96.6ms\n",
      "Speed: 1.4ms preprocess, 96.6ms inference, 1.8ms postprocess per image at shape (1, 3, 416, 416)\n"
     ]
    },
    {
     "name": "stderr",
     "output_type": "stream",
     "text": [
      "Processing Images:  36%|███▌      | 182/506 [00:15<00:33,  9.65it/s]"
     ]
    },
    {
     "name": "stdout",
     "output_type": "stream",
     "text": [
      "\n",
      "image 1/1 /fab3/btech/2022/snehanshu.pal22b/SolarPanel/yolo_dataset/images/test/solarpanels_native_3__x0_10983_y0_10010_dxdy_416.tif: 416x416 12 solar_panels, 56.4ms\n",
      "Speed: 2.3ms preprocess, 56.4ms inference, 2.6ms postprocess per image at shape (1, 3, 416, 416)\n",
      "\n",
      "image 1/1 /fab3/btech/2022/snehanshu.pal22b/SolarPanel/yolo_dataset/images/test/solarpanels_native_3__x0_11203_y0_9575_dxdy_416.tif: 416x416 21 solar_panels, 12.4ms\n",
      "Speed: 1.8ms preprocess, 12.4ms inference, 2.4ms postprocess per image at shape (1, 3, 416, 416)\n"
     ]
    },
    {
     "name": "stderr",
     "output_type": "stream",
     "text": [
      "Processing Images:  36%|███▋      | 184/506 [00:15<00:29, 10.77it/s]"
     ]
    },
    {
     "name": "stdout",
     "output_type": "stream",
     "text": [
      "\n",
      "image 1/1 /fab3/btech/2022/snehanshu.pal22b/SolarPanel/yolo_dataset/images/test/solarpanels_native_3__x0_9334_y0_13568_dxdy_416.tif: 416x416 5 solar_panels, 39.9ms\n",
      "Speed: 1.8ms preprocess, 39.9ms inference, 1.8ms postprocess per image at shape (1, 3, 416, 416)\n",
      "\n",
      "image 1/1 /fab3/btech/2022/snehanshu.pal22b/SolarPanel/yolo_dataset/images/test/solarpanels_native_3__x0_7601_y0_9753_dxdy_416.tif: 416x416 14 solar_panels, 13.7ms\n",
      "Speed: 17.2ms preprocess, 13.7ms inference, 3.2ms postprocess per image at shape (1, 3, 416, 416)\n"
     ]
    },
    {
     "name": "stderr",
     "output_type": "stream",
     "text": [
      "Processing Images:  37%|███▋      | 186/506 [00:15<00:26, 12.10it/s]"
     ]
    },
    {
     "name": "stdout",
     "output_type": "stream",
     "text": [
      "\n",
      "image 1/1 /fab3/btech/2022/snehanshu.pal22b/SolarPanel/yolo_dataset/images/test/solarpanels_native_3__x0_6354_y0_12151_dxdy_416.tif: 416x416 11 solar_panels, 18.5ms\n",
      "Speed: 2.7ms preprocess, 18.5ms inference, 2.8ms postprocess per image at shape (1, 3, 416, 416)\n",
      "\n",
      "image 1/1 /fab3/btech/2022/snehanshu.pal22b/SolarPanel/yolo_dataset/images/test/solarpanels_native_1__x0_8203_y0_12145_dxdy_416.tif: 416x416 18 solar_panels, 78.3ms\n",
      "Speed: 1.5ms preprocess, 78.3ms inference, 1.8ms postprocess per image at shape (1, 3, 416, 416)\n"
     ]
    },
    {
     "name": "stderr",
     "output_type": "stream",
     "text": [
      "Processing Images:  37%|███▋      | 188/506 [00:15<00:33,  9.62it/s]"
     ]
    },
    {
     "name": "stdout",
     "output_type": "stream",
     "text": [
      "\n",
      "image 1/1 /fab3/btech/2022/snehanshu.pal22b/SolarPanel/yolo_dataset/images/test/solarpanels_native_1__x0_4625_y0_11563_dxdy_416.tif: 416x416 18 solar_panels, 21.8ms\n",
      "Speed: 1.0ms preprocess, 21.8ms inference, 6.1ms postprocess per image at shape (1, 3, 416, 416)\n",
      "\n",
      "image 1/1 /fab3/btech/2022/snehanshu.pal22b/SolarPanel/yolo_dataset/images/test/solarpanels_native_1__x0_9486_y0_11065_dxdy_416.tif: 416x416 13 solar_panels, 29.1ms\n",
      "Speed: 1.2ms preprocess, 29.1ms inference, 3.5ms postprocess per image at shape (1, 3, 416, 416)\n"
     ]
    },
    {
     "name": "stderr",
     "output_type": "stream",
     "text": [
      "Processing Images:  38%|███▊      | 190/506 [00:15<00:29, 10.84it/s]"
     ]
    },
    {
     "name": "stdout",
     "output_type": "stream",
     "text": [
      "\n",
      "image 1/1 /fab3/btech/2022/snehanshu.pal22b/SolarPanel/yolo_dataset/images/test/solarpanels_native_3__x0_4161_y0_15103_dxdy_416.tif: 416x416 5 solar_panels, 9.3ms\n",
      "Speed: 1.3ms preprocess, 9.3ms inference, 29.4ms postprocess per image at shape (1, 3, 416, 416)\n",
      "\n",
      "image 1/1 /fab3/btech/2022/snehanshu.pal22b/SolarPanel/yolo_dataset/images/test/solarpanels_native_2__x0_8763_y0_4503_dxdy_416.tif: 416x416 3 solar_panels, 15.2ms\n",
      "Speed: 1.7ms preprocess, 15.2ms inference, 3.3ms postprocess per image at shape (1, 3, 416, 416)\n"
     ]
    },
    {
     "name": "stderr",
     "output_type": "stream",
     "text": [
      "Processing Images:  38%|███▊      | 192/506 [00:15<00:25, 12.38it/s]"
     ]
    },
    {
     "name": "stdout",
     "output_type": "stream",
     "text": [
      "\n",
      "image 1/1 /fab3/btech/2022/snehanshu.pal22b/SolarPanel/yolo_dataset/images/test/solarpanels_native_2__x0_8416_y0_3053_dxdy_416.tif: 416x416 9 solar_panels, 49.8ms\n",
      "Speed: 1.5ms preprocess, 49.8ms inference, 3.0ms postprocess per image at shape (1, 3, 416, 416)\n",
      "\n",
      "image 1/1 /fab3/btech/2022/snehanshu.pal22b/SolarPanel/yolo_dataset/images/test/solarpanels_native_3__x0_12115_y0_11097_dxdy_416.tif: 416x416 10 solar_panels, 74.2ms\n",
      "Speed: 1.7ms preprocess, 74.2ms inference, 6.1ms postprocess per image at shape (1, 3, 416, 416)\n"
     ]
    },
    {
     "name": "stderr",
     "output_type": "stream",
     "text": [
      "Processing Images:  38%|███▊      | 194/506 [00:16<00:31,  9.78it/s]"
     ]
    },
    {
     "name": "stdout",
     "output_type": "stream",
     "text": [
      "\n",
      "image 1/1 /fab3/btech/2022/snehanshu.pal22b/SolarPanel/yolo_dataset/images/test/solarpanels_native_1__x0_3829_y0_11344_dxdy_416.tif: 416x416 1 solar_panel, 78.6ms\n",
      "Speed: 2.3ms preprocess, 78.6ms inference, 1.6ms postprocess per image at shape (1, 3, 416, 416)\n",
      "\n",
      "image 1/1 /fab3/btech/2022/snehanshu.pal22b/SolarPanel/yolo_dataset/images/test/solarpanels_native_1__x0_9303_y0_11851_dxdy_416.tif: 416x416 5 solar_panels, 85.3ms\n",
      "Speed: 11.7ms preprocess, 85.3ms inference, 4.6ms postprocess per image at shape (1, 3, 416, 416)\n"
     ]
    },
    {
     "name": "stderr",
     "output_type": "stream",
     "text": [
      "Processing Images:  39%|███▊      | 196/506 [00:16<00:33,  9.16it/s]"
     ]
    },
    {
     "name": "stdout",
     "output_type": "stream",
     "text": [
      "\n",
      "image 1/1 /fab3/btech/2022/snehanshu.pal22b/SolarPanel/yolo_dataset/images/test/solarpanels_native_1__x0_0_y0_7230_dxdy_416.tif: 416x416 14 solar_panels, 23.0ms\n",
      "Speed: 1.3ms preprocess, 23.0ms inference, 1.7ms postprocess per image at shape (1, 3, 416, 416)\n",
      "\n",
      "image 1/1 /fab3/btech/2022/snehanshu.pal22b/SolarPanel/yolo_dataset/images/test/solarpanels_native_3__x0_8118_y0_12114_dxdy_416.tif: 416x416 10 solar_panels, 8.8ms\n",
      "Speed: 2.0ms preprocess, 8.8ms inference, 2.6ms postprocess per image at shape (1, 3, 416, 416)\n"
     ]
    },
    {
     "name": "stderr",
     "output_type": "stream",
     "text": [
      "Processing Images:  39%|███▉      | 198/506 [00:16<00:32,  9.43it/s]"
     ]
    },
    {
     "name": "stdout",
     "output_type": "stream",
     "text": [
      "\n",
      "image 1/1 /fab3/btech/2022/snehanshu.pal22b/SolarPanel/yolo_dataset/images/test/solarpanels_native_3__x0_3610_y0_15968_dxdy_416.tif: 416x416 6 solar_panels, 12.5ms\n",
      "Speed: 10.6ms preprocess, 12.5ms inference, 2.7ms postprocess per image at shape (1, 3, 416, 416)\n",
      "\n",
      "image 1/1 /fab3/btech/2022/snehanshu.pal22b/SolarPanel/yolo_dataset/images/test/solarpanels_native_2__x0_8484_y0_4036_dxdy_416.tif: 416x416 20 solar_panels, 165.0ms\n",
      "Speed: 2.3ms preprocess, 165.0ms inference, 3.3ms postprocess per image at shape (1, 3, 416, 416)\n"
     ]
    },
    {
     "name": "stderr",
     "output_type": "stream",
     "text": [
      "Processing Images:  40%|███▉      | 200/506 [00:16<00:34,  8.88it/s]"
     ]
    },
    {
     "name": "stdout",
     "output_type": "stream",
     "text": [
      "\n",
      "image 1/1 /fab3/btech/2022/snehanshu.pal22b/SolarPanel/yolo_dataset/images/test/solarpanels_native_1__x0_5218_y0_13102_dxdy_416.tif: 416x416 4 solar_panels, 28.4ms\n",
      "Speed: 4.1ms preprocess, 28.4ms inference, 2.9ms postprocess per image at shape (1, 3, 416, 416)\n",
      "\n",
      "image 1/1 /fab3/btech/2022/snehanshu.pal22b/SolarPanel/yolo_dataset/images/test/solarpanels_native_2__x0_0_y0_11615_dxdy_416.tif: 416x416 43 solar_panels, 27.9ms\n",
      "Speed: 2.3ms preprocess, 27.9ms inference, 3.0ms postprocess per image at shape (1, 3, 416, 416)\n"
     ]
    },
    {
     "name": "stderr",
     "output_type": "stream",
     "text": [
      "Processing Images:  40%|███▉      | 202/506 [00:17<00:29, 10.35it/s]"
     ]
    },
    {
     "name": "stdout",
     "output_type": "stream",
     "text": [
      "\n",
      "image 1/1 /fab3/btech/2022/snehanshu.pal22b/SolarPanel/yolo_dataset/images/test/solarpanels_native_1__x0_3722_y0_11560_dxdy_416.tif: 416x416 23 solar_panels, 23.3ms\n",
      "Speed: 3.2ms preprocess, 23.3ms inference, 2.5ms postprocess per image at shape (1, 3, 416, 416)\n",
      "\n",
      "image 1/1 /fab3/btech/2022/snehanshu.pal22b/SolarPanel/yolo_dataset/images/test/solarpanels_native_2__x0_116_y0_11317_dxdy_416.tif: 416x416 13 solar_panels, 18.4ms\n",
      "Speed: 1.6ms preprocess, 18.4ms inference, 2.3ms postprocess per image at shape (1, 3, 416, 416)\n"
     ]
    },
    {
     "name": "stderr",
     "output_type": "stream",
     "text": [
      "Processing Images:  40%|████      | 204/506 [00:17<00:28, 10.45it/s]"
     ]
    },
    {
     "name": "stdout",
     "output_type": "stream",
     "text": [
      "\n",
      "image 1/1 /fab3/btech/2022/snehanshu.pal22b/SolarPanel/yolo_dataset/images/test/solarpanels_native_2__x0_11310_y0_15608_dxdy_416.tif: 416x416 4 solar_panels, 13.9ms\n",
      "Speed: 2.1ms preprocess, 13.9ms inference, 3.5ms postprocess per image at shape (1, 3, 416, 416)\n",
      "\n",
      "image 1/1 /fab3/btech/2022/snehanshu.pal22b/SolarPanel/yolo_dataset/images/test/solarpanels_native_1__x0_4727_y0_13080_dxdy_416.tif: 416x416 7 solar_panels, 15.9ms\n",
      "Speed: 2.0ms preprocess, 15.9ms inference, 3.0ms postprocess per image at shape (1, 3, 416, 416)\n"
     ]
    },
    {
     "name": "stderr",
     "output_type": "stream",
     "text": [
      "Processing Images:  41%|████      | 206/506 [00:17<00:29, 10.18it/s]"
     ]
    },
    {
     "name": "stdout",
     "output_type": "stream",
     "text": [
      "\n",
      "image 1/1 /fab3/btech/2022/snehanshu.pal22b/SolarPanel/yolo_dataset/images/test/solarpanels_native_2__x0_13988_y0_7108_dxdy_416.tif: 416x416 2 solar_panels, 21.1ms\n",
      "Speed: 2.4ms preprocess, 21.1ms inference, 2.3ms postprocess per image at shape (1, 3, 416, 416)\n",
      "\n",
      "image 1/1 /fab3/btech/2022/snehanshu.pal22b/SolarPanel/yolo_dataset/images/test/solarpanels_native_2__x0_751_y0_10352_dxdy_416.tif: 416x416 45 solar_panels, 13.4ms\n",
      "Speed: 7.6ms preprocess, 13.4ms inference, 3.3ms postprocess per image at shape (1, 3, 416, 416)\n"
     ]
    },
    {
     "name": "stderr",
     "output_type": "stream",
     "text": [
      "Processing Images:  41%|████      | 208/506 [00:17<00:27, 10.84it/s]"
     ]
    },
    {
     "name": "stdout",
     "output_type": "stream",
     "text": [
      "\n",
      "image 1/1 /fab3/btech/2022/snehanshu.pal22b/SolarPanel/yolo_dataset/images/test/solarpanels_native_3__x0_11619_y0_9190_dxdy_416.tif: 416x416 46 solar_panels, 22.6ms\n",
      "Speed: 2.6ms preprocess, 22.6ms inference, 4.3ms postprocess per image at shape (1, 3, 416, 416)\n",
      "\n",
      "image 1/1 /fab3/btech/2022/snehanshu.pal22b/SolarPanel/yolo_dataset/images/test/solarpanels_native_3__x0_12687_y0_10823_dxdy_416.tif: 416x416 5 solar_panels, 40.6ms\n",
      "Speed: 14.8ms preprocess, 40.6ms inference, 3.1ms postprocess per image at shape (1, 3, 416, 416)\n"
     ]
    },
    {
     "name": "stderr",
     "output_type": "stream",
     "text": [
      "Processing Images:  42%|████▏     | 210/506 [00:17<00:26, 11.16it/s]"
     ]
    },
    {
     "name": "stdout",
     "output_type": "stream",
     "text": [
      "\n",
      "image 1/1 /fab3/btech/2022/snehanshu.pal22b/SolarPanel/yolo_dataset/images/test/solarpanels_native_2__x0_8175_y0_2325_dxdy_416.tif: 416x416 12 solar_panels, 14.5ms\n",
      "Speed: 2.3ms preprocess, 14.5ms inference, 3.1ms postprocess per image at shape (1, 3, 416, 416)\n",
      "\n",
      "image 1/1 /fab3/btech/2022/snehanshu.pal22b/SolarPanel/yolo_dataset/images/test/solarpanels_native_1__x0_3374_y0_12821_dxdy_416.tif: 416x416 5 solar_panels, 22.8ms\n",
      "Speed: 2.2ms preprocess, 22.8ms inference, 4.9ms postprocess per image at shape (1, 3, 416, 416)\n"
     ]
    },
    {
     "name": "stderr",
     "output_type": "stream",
     "text": [
      "Processing Images:  42%|████▏     | 212/506 [00:17<00:27, 10.77it/s]"
     ]
    },
    {
     "name": "stdout",
     "output_type": "stream",
     "text": [
      "\n",
      "image 1/1 /fab3/btech/2022/snehanshu.pal22b/SolarPanel/yolo_dataset/images/test/solarpanels_native_3__x0_8548_y0_14265_dxdy_416.tif: 416x416 11 solar_panels, 65.2ms\n",
      "Speed: 1.8ms preprocess, 65.2ms inference, 3.6ms postprocess per image at shape (1, 3, 416, 416)\n",
      "\n",
      "image 1/1 /fab3/btech/2022/snehanshu.pal22b/SolarPanel/yolo_dataset/images/test/solarpanels_native_3__x0_5545_y0_12093_dxdy_416.tif: 416x416 3 solar_panels, 10.1ms\n",
      "Speed: 1.5ms preprocess, 10.1ms inference, 2.2ms postprocess per image at shape (1, 3, 416, 416)\n"
     ]
    },
    {
     "name": "stderr",
     "output_type": "stream",
     "text": [
      "Processing Images:  42%|████▏     | 214/506 [00:18<00:27, 10.76it/s]"
     ]
    },
    {
     "name": "stdout",
     "output_type": "stream",
     "text": [
      "\n",
      "image 1/1 /fab3/btech/2022/snehanshu.pal22b/SolarPanel/yolo_dataset/images/test/solarpanels_native_3__x0_11876_y0_9115_dxdy_416.tif: 416x416 44 solar_panels, 16.0ms\n",
      "Speed: 2.2ms preprocess, 16.0ms inference, 2.0ms postprocess per image at shape (1, 3, 416, 416)\n",
      "\n",
      "image 1/1 /fab3/btech/2022/snehanshu.pal22b/SolarPanel/yolo_dataset/images/test/solarpanels_native_1__x0_149_y0_7979_dxdy_416.tif: 416x416 9 solar_panels, 61.8ms\n",
      "Speed: 1.6ms preprocess, 61.8ms inference, 2.7ms postprocess per image at shape (1, 3, 416, 416)\n"
     ]
    },
    {
     "name": "stderr",
     "output_type": "stream",
     "text": [
      "Processing Images:  43%|████▎     | 216/506 [00:18<00:24, 11.86it/s]"
     ]
    },
    {
     "name": "stdout",
     "output_type": "stream",
     "text": [
      "\n",
      "image 1/1 /fab3/btech/2022/snehanshu.pal22b/SolarPanel/yolo_dataset/images/test/solarpanels_native_3__x0_5362_y0_13099_dxdy_416.tif: 416x416 23 solar_panels, 72.7ms\n",
      "Speed: 2.3ms preprocess, 72.7ms inference, 4.3ms postprocess per image at shape (1, 3, 416, 416)\n",
      "\n",
      "image 1/1 /fab3/btech/2022/snehanshu.pal22b/SolarPanel/yolo_dataset/images/test/solarpanels_native_3__x0_8976_y0_14797_dxdy_416.tif: 416x416 3 solar_panels, 69.1ms\n",
      "Speed: 1.5ms preprocess, 69.1ms inference, 2.3ms postprocess per image at shape (1, 3, 416, 416)\n"
     ]
    },
    {
     "name": "stderr",
     "output_type": "stream",
     "text": [
      "Processing Images:  43%|████▎     | 218/506 [00:18<00:25, 11.14it/s]"
     ]
    },
    {
     "name": "stdout",
     "output_type": "stream",
     "text": [
      "\n",
      "image 1/1 /fab3/btech/2022/snehanshu.pal22b/SolarPanel/yolo_dataset/images/test/solarpanels_native_3__x0_8589_y0_14675_dxdy_416.tif: 416x416 11 solar_panels, 30.0ms\n",
      "Speed: 1.5ms preprocess, 30.0ms inference, 4.1ms postprocess per image at shape (1, 3, 416, 416)\n",
      "\n",
      "image 1/1 /fab3/btech/2022/snehanshu.pal22b/SolarPanel/yolo_dataset/images/test/solarpanels_native_3__x0_7463_y0_9890_dxdy_416.tif: 416x416 11 solar_panels, 92.1ms\n",
      "Speed: 2.7ms preprocess, 92.1ms inference, 1.6ms postprocess per image at shape (1, 3, 416, 416)\n"
     ]
    },
    {
     "name": "stderr",
     "output_type": "stream",
     "text": [
      "Processing Images:  43%|████▎     | 220/506 [00:18<00:28, 10.00it/s]"
     ]
    },
    {
     "name": "stdout",
     "output_type": "stream",
     "text": [
      "\n",
      "image 1/1 /fab3/btech/2022/snehanshu.pal22b/SolarPanel/yolo_dataset/images/test/solarpanels_native_1__x0_900_y0_7475_dxdy_416.tif: 416x416 17 solar_panels, 17.0ms\n",
      "Speed: 2.6ms preprocess, 17.0ms inference, 2.7ms postprocess per image at shape (1, 3, 416, 416)\n",
      "\n",
      "image 1/1 /fab3/btech/2022/snehanshu.pal22b/SolarPanel/yolo_dataset/images/test/solarpanels_native_3__x0_11174_y0_9542_dxdy_416.tif: 416x416 18 solar_panels, 23.8ms\n",
      "Speed: 3.3ms preprocess, 23.8ms inference, 2.9ms postprocess per image at shape (1, 3, 416, 416)\n"
     ]
    },
    {
     "name": "stderr",
     "output_type": "stream",
     "text": [
      "Processing Images:  44%|████▍     | 222/506 [00:18<00:26, 10.85it/s]"
     ]
    },
    {
     "name": "stdout",
     "output_type": "stream",
     "text": [
      "\n",
      "image 1/1 /fab3/btech/2022/snehanshu.pal22b/SolarPanel/yolo_dataset/images/test/solarpanels_native_3__x0_7760_y0_9664_dxdy_416.tif: 416x416 4 solar_panels, 22.6ms\n",
      "Speed: 2.2ms preprocess, 22.6ms inference, 2.1ms postprocess per image at shape (1, 3, 416, 416)\n",
      "\n",
      "image 1/1 /fab3/btech/2022/snehanshu.pal22b/SolarPanel/yolo_dataset/images/test/solarpanels_native_1__x0_8158_y0_9952_dxdy_416.tif: 416x416 6 solar_panels, 11.8ms\n",
      "Speed: 2.0ms preprocess, 11.8ms inference, 2.6ms postprocess per image at shape (1, 3, 416, 416)\n",
      "\n",
      "image 1/1 /fab3/btech/2022/snehanshu.pal22b/SolarPanel/yolo_dataset/images/test/solarpanels_native_2__x0_10553_y0_5621_dxdy_416.tif: 416x416 4 solar_panels, 9.7ms\n",
      "Speed: 1.7ms preprocess, 9.7ms inference, 2.1ms postprocess per image at shape (1, 3, 416, 416)\n"
     ]
    },
    {
     "name": "stderr",
     "output_type": "stream",
     "text": [
      "Processing Images:  44%|████▍     | 225/506 [00:19<00:20, 14.02it/s]"
     ]
    },
    {
     "name": "stdout",
     "output_type": "stream",
     "text": [
      "\n",
      "image 1/1 /fab3/btech/2022/snehanshu.pal22b/SolarPanel/yolo_dataset/images/test/solarpanels_native_3__x0_5492_y0_12956_dxdy_416.tif: 416x416 17 solar_panels, 16.9ms\n",
      "Speed: 3.2ms preprocess, 16.9ms inference, 2.0ms postprocess per image at shape (1, 3, 416, 416)\n",
      "\n",
      "image 1/1 /fab3/btech/2022/snehanshu.pal22b/SolarPanel/yolo_dataset/images/test/solarpanels_native_1__x0_6570_y0_12065_dxdy_416.tif: 416x416 27 solar_panels, 15.5ms\n",
      "Speed: 1.6ms preprocess, 15.5ms inference, 3.3ms postprocess per image at shape (1, 3, 416, 416)\n",
      "\n",
      "image 1/1 /fab3/btech/2022/snehanshu.pal22b/SolarPanel/yolo_dataset/images/test/solarpanels_native_3__x0_10182_y0_9861_dxdy_416.tif: 416x416 45 solar_panels, 9.9ms\n",
      "Speed: 1.5ms preprocess, 9.9ms inference, 2.0ms postprocess per image at shape (1, 3, 416, 416)\n"
     ]
    },
    {
     "name": "stderr",
     "output_type": "stream",
     "text": [
      "Processing Images:  45%|████▌     | 228/506 [00:19<00:16, 16.74it/s]"
     ]
    },
    {
     "name": "stdout",
     "output_type": "stream",
     "text": [
      "\n",
      "image 1/1 /fab3/btech/2022/snehanshu.pal22b/SolarPanel/yolo_dataset/images/test/solarpanels_native_3__x0_9285_y0_12338_dxdy_416.tif: 416x416 3 solar_panels, 43.9ms\n",
      "Speed: 1.6ms preprocess, 43.9ms inference, 3.8ms postprocess per image at shape (1, 3, 416, 416)\n",
      "\n",
      "image 1/1 /fab3/btech/2022/snehanshu.pal22b/SolarPanel/yolo_dataset/images/test/solarpanels_native_3__x0_8933_y0_9634_dxdy_416.tif: 416x416 3 solar_panels, 13.8ms\n",
      "Speed: 1.4ms preprocess, 13.8ms inference, 33.4ms postprocess per image at shape (1, 3, 416, 416)\n"
     ]
    },
    {
     "name": "stderr",
     "output_type": "stream",
     "text": [
      "Processing Images:  45%|████▌     | 230/506 [00:19<00:22, 12.32it/s]"
     ]
    },
    {
     "name": "stdout",
     "output_type": "stream",
     "text": [
      "\n",
      "image 1/1 /fab3/btech/2022/snehanshu.pal22b/SolarPanel/yolo_dataset/images/test/solarpanels_native_2__x0_2733_y0_5068_dxdy_416.tif: 416x416 39 solar_panels, 33.8ms\n",
      "Speed: 1.8ms preprocess, 33.8ms inference, 4.9ms postprocess per image at shape (1, 3, 416, 416)\n",
      "\n",
      "image 1/1 /fab3/btech/2022/snehanshu.pal22b/SolarPanel/yolo_dataset/images/test/solarpanels_native_3__x0_7965_y0_9547_dxdy_416.tif: 416x416 6 solar_panels, 8.4ms\n",
      "Speed: 1.2ms preprocess, 8.4ms inference, 1.8ms postprocess per image at shape (1, 3, 416, 416)\n"
     ]
    },
    {
     "name": "stderr",
     "output_type": "stream",
     "text": [
      "Processing Images:  46%|████▌     | 232/506 [00:19<00:20, 13.51it/s]"
     ]
    },
    {
     "name": "stdout",
     "output_type": "stream",
     "text": [
      "\n",
      "image 1/1 /fab3/btech/2022/snehanshu.pal22b/SolarPanel/yolo_dataset/images/test/solarpanels_native_3__x0_4773_y0_12422_dxdy_416.tif: 416x416 11 solar_panels, 125.8ms\n",
      "Speed: 17.7ms preprocess, 125.8ms inference, 2.3ms postprocess per image at shape (1, 3, 416, 416)\n",
      "\n",
      "image 1/1 /fab3/btech/2022/snehanshu.pal22b/SolarPanel/yolo_dataset/images/test/solarpanels_native_1__x0_913_y0_8939_dxdy_416.tif: 416x416 11 solar_panels, 10.9ms\n",
      "Speed: 2.1ms preprocess, 10.9ms inference, 2.2ms postprocess per image at shape (1, 3, 416, 416)\n"
     ]
    },
    {
     "name": "stderr",
     "output_type": "stream",
     "text": [
      "Processing Images:  46%|████▌     | 234/506 [00:19<00:22, 11.98it/s]"
     ]
    },
    {
     "name": "stdout",
     "output_type": "stream",
     "text": [
      "\n",
      "image 1/1 /fab3/btech/2022/snehanshu.pal22b/SolarPanel/yolo_dataset/images/test/solarpanels_native_1__x0_9853_y0_11093_dxdy_416.tif: 416x416 13 solar_panels, 97.0ms\n",
      "Speed: 2.2ms preprocess, 97.0ms inference, 1.7ms postprocess per image at shape (1, 3, 416, 416)\n",
      "\n",
      "image 1/1 /fab3/btech/2022/snehanshu.pal22b/SolarPanel/yolo_dataset/images/test/solarpanels_native_1__x0_9406_y0_10839_dxdy_416.tif: 416x416 18 solar_panels, 8.4ms\n",
      "Speed: 1.3ms preprocess, 8.4ms inference, 1.6ms postprocess per image at shape (1, 3, 416, 416)\n"
     ]
    },
    {
     "name": "stderr",
     "output_type": "stream",
     "text": [
      "Processing Images:  47%|████▋     | 236/506 [00:19<00:22, 11.92it/s]"
     ]
    },
    {
     "name": "stdout",
     "output_type": "stream",
     "text": [
      "\n",
      "image 1/1 /fab3/btech/2022/snehanshu.pal22b/SolarPanel/yolo_dataset/images/test/solarpanels_native_3__x0_10047_y0_9940_dxdy_416.tif: 416x416 29 solar_panels, 11.5ms\n",
      "Speed: 1.4ms preprocess, 11.5ms inference, 2.6ms postprocess per image at shape (1, 3, 416, 416)\n",
      "\n",
      "image 1/1 /fab3/btech/2022/snehanshu.pal22b/SolarPanel/yolo_dataset/images/test/solarpanels_native_3__x0_11290_y0_14244_dxdy_416.tif: 416x416 2 solar_panels, 12.9ms\n",
      "Speed: 1.6ms preprocess, 12.9ms inference, 2.4ms postprocess per image at shape (1, 3, 416, 416)\n",
      "\n",
      "image 1/1 /fab3/btech/2022/snehanshu.pal22b/SolarPanel/yolo_dataset/images/test/solarpanels_native_2__x0_461_y0_11037_dxdy_416.tif: 416x416 44 solar_panels, 13.7ms\n",
      "Speed: 1.5ms preprocess, 13.7ms inference, 3.2ms postprocess per image at shape (1, 3, 416, 416)\n"
     ]
    },
    {
     "name": "stderr",
     "output_type": "stream",
     "text": [
      "Processing Images:  47%|████▋     | 239/506 [00:20<00:18, 14.57it/s]"
     ]
    },
    {
     "name": "stdout",
     "output_type": "stream",
     "text": [
      "\n",
      "image 1/1 /fab3/btech/2022/snehanshu.pal22b/SolarPanel/yolo_dataset/images/test/solarpanels_native_3__x0_13336_y0_4676_dxdy_416.tif: 416x416 5 solar_panels, 27.7ms\n",
      "Speed: 4.1ms preprocess, 27.7ms inference, 3.9ms postprocess per image at shape (1, 3, 416, 416)\n",
      "\n",
      "image 1/1 /fab3/btech/2022/snehanshu.pal22b/SolarPanel/yolo_dataset/images/test/solarpanels_native_3__x0_5120_y0_1150_dxdy_416.tif: 416x416 3 solar_panels, 21.0ms\n",
      "Speed: 2.0ms preprocess, 21.0ms inference, 3.8ms postprocess per image at shape (1, 3, 416, 416)\n"
     ]
    },
    {
     "name": "stderr",
     "output_type": "stream",
     "text": [
      "Processing Images:  48%|████▊     | 241/506 [00:20<00:17, 15.36it/s]"
     ]
    },
    {
     "name": "stdout",
     "output_type": "stream",
     "text": [
      "\n",
      "image 1/1 /fab3/btech/2022/snehanshu.pal22b/SolarPanel/yolo_dataset/images/test/solarpanels_native_1__x0_8142_y0_12149_dxdy_416.tif: 416x416 24 solar_panels, 10.6ms\n",
      "Speed: 1.5ms preprocess, 10.6ms inference, 2.3ms postprocess per image at shape (1, 3, 416, 416)\n",
      "\n",
      "image 1/1 /fab3/btech/2022/snehanshu.pal22b/SolarPanel/yolo_dataset/images/test/solarpanels_native_1__x0_13201_y0_14023_dxdy_416.tif: 416x416 7 solar_panels, 16.5ms\n",
      "Speed: 2.4ms preprocess, 16.5ms inference, 3.3ms postprocess per image at shape (1, 3, 416, 416)\n",
      "\n",
      "image 1/1 /fab3/btech/2022/snehanshu.pal22b/SolarPanel/yolo_dataset/images/test/solarpanels_native_2__x0_4083_y0_5890_dxdy_416.tif: 416x416 4 solar_panels, 15.6ms\n",
      "Speed: 2.7ms preprocess, 15.6ms inference, 2.7ms postprocess per image at shape (1, 3, 416, 416)\n"
     ]
    },
    {
     "name": "stderr",
     "output_type": "stream",
     "text": [
      "Processing Images:  48%|████▊     | 244/506 [00:20<00:14, 17.82it/s]"
     ]
    },
    {
     "name": "stdout",
     "output_type": "stream",
     "text": [
      "\n",
      "image 1/1 /fab3/btech/2022/snehanshu.pal22b/SolarPanel/yolo_dataset/images/test/solarpanels_native_1__x0_8114_y0_9513_dxdy_416.tif: 416x416 1 solar_panel, 11.5ms\n",
      "Speed: 2.3ms preprocess, 11.5ms inference, 2.4ms postprocess per image at shape (1, 3, 416, 416)\n",
      "\n",
      "image 1/1 /fab3/btech/2022/snehanshu.pal22b/SolarPanel/yolo_dataset/images/test/solarpanels_native_1__x0_722_y0_8672_dxdy_416.tif: 416x416 19 solar_panels, 12.7ms\n",
      "Speed: 1.6ms preprocess, 12.7ms inference, 2.9ms postprocess per image at shape (1, 3, 416, 416)\n",
      "\n",
      "image 1/1 /fab3/btech/2022/snehanshu.pal22b/SolarPanel/yolo_dataset/images/test/solarpanels_native_2__x0_5138_y0_5756_dxdy_416.tif: 416x416 17 solar_panels, 80.8ms\n",
      "Speed: 2.5ms preprocess, 80.8ms inference, 2.4ms postprocess per image at shape (1, 3, 416, 416)\n"
     ]
    },
    {
     "name": "stderr",
     "output_type": "stream",
     "text": [
      "Processing Images:  49%|████▉     | 247/506 [00:20<00:15, 16.96it/s]"
     ]
    },
    {
     "name": "stdout",
     "output_type": "stream",
     "text": [
      "\n",
      "image 1/1 /fab3/btech/2022/snehanshu.pal22b/SolarPanel/yolo_dataset/images/test/solarpanels_native_3__x0_9278_y0_0_dxdy_416.tif: 416x416 6 solar_panels, 71.1ms\n",
      "Speed: 2.0ms preprocess, 71.1ms inference, 1.8ms postprocess per image at shape (1, 3, 416, 416)\n",
      "\n",
      "image 1/1 /fab3/btech/2022/snehanshu.pal22b/SolarPanel/yolo_dataset/images/test/solarpanels_native_1__x0_3832_y0_11682_dxdy_416.tif: 416x416 29 solar_panels, 28.2ms\n",
      "Speed: 2.4ms preprocess, 28.2ms inference, 4.4ms postprocess per image at shape (1, 3, 416, 416)\n"
     ]
    },
    {
     "name": "stderr",
     "output_type": "stream",
     "text": [
      "Processing Images:  49%|████▉     | 249/506 [00:20<00:18, 14.18it/s]"
     ]
    },
    {
     "name": "stdout",
     "output_type": "stream",
     "text": [
      "\n",
      "image 1/1 /fab3/btech/2022/snehanshu.pal22b/SolarPanel/yolo_dataset/images/test/solarpanels_native_1__x0_8707_y0_7574_dxdy_416.tif: 416x416 3 solar_panels, 15.7ms\n",
      "Speed: 1.4ms preprocess, 15.7ms inference, 1.8ms postprocess per image at shape (1, 3, 416, 416)\n",
      "\n",
      "image 1/1 /fab3/btech/2022/snehanshu.pal22b/SolarPanel/yolo_dataset/images/test/solarpanels_native_1__x0_7255_y0_10894_dxdy_416.tif: 416x416 4 solar_panels, 9.3ms\n",
      "Speed: 1.4ms preprocess, 9.3ms inference, 1.8ms postprocess per image at shape (1, 3, 416, 416)\n",
      "\n",
      "image 1/1 /fab3/btech/2022/snehanshu.pal22b/SolarPanel/yolo_dataset/images/test/solarpanels_native_1__x0_7937_y0_11298_dxdy_416.tif: 416x416 10 solar_panels, 8.7ms\n",
      "Speed: 1.3ms preprocess, 8.7ms inference, 5.0ms postprocess per image at shape (1, 3, 416, 416)\n"
     ]
    },
    {
     "name": "stderr",
     "output_type": "stream",
     "text": [
      "Processing Images:  50%|████▉     | 252/506 [00:20<00:15, 16.81it/s]"
     ]
    },
    {
     "name": "stdout",
     "output_type": "stream",
     "text": [
      "\n",
      "image 1/1 /fab3/btech/2022/snehanshu.pal22b/SolarPanel/yolo_dataset/images/test/solarpanels_native_1__x0_1154_y0_6251_dxdy_416.tif: 416x416 21 solar_panels, 24.7ms\n",
      "Speed: 4.6ms preprocess, 24.7ms inference, 2.3ms postprocess per image at shape (1, 3, 416, 416)\n",
      "\n",
      "image 1/1 /fab3/btech/2022/snehanshu.pal22b/SolarPanel/yolo_dataset/images/test/solarpanels_native_3__x0_9914_y0_14225_dxdy_416.tif: 416x416 7 solar_panels, 11.1ms\n",
      "Speed: 3.1ms preprocess, 11.1ms inference, 1.8ms postprocess per image at shape (1, 3, 416, 416)\n"
     ]
    },
    {
     "name": "stderr",
     "output_type": "stream",
     "text": [
      "Processing Images:  50%|█████     | 254/506 [00:20<00:14, 17.22it/s]"
     ]
    },
    {
     "name": "stdout",
     "output_type": "stream",
     "text": [
      "\n",
      "image 1/1 /fab3/btech/2022/snehanshu.pal22b/SolarPanel/yolo_dataset/images/test/solarpanels_native_1__x0_8414_y0_10290_dxdy_416.tif: 416x416 5 solar_panels, 16.0ms\n",
      "Speed: 2.6ms preprocess, 16.0ms inference, 1.7ms postprocess per image at shape (1, 3, 416, 416)\n",
      "\n",
      "image 1/1 /fab3/btech/2022/snehanshu.pal22b/SolarPanel/yolo_dataset/images/test/solarpanels_native_1__x0_4688_y0_6126_dxdy_416.tif: 416x416 9 solar_panels, 17.1ms\n",
      "Speed: 1.1ms preprocess, 17.1ms inference, 1.6ms postprocess per image at shape (1, 3, 416, 416)\n",
      "\n",
      "image 1/1 /fab3/btech/2022/snehanshu.pal22b/SolarPanel/yolo_dataset/images/test/solarpanels_native_2__x0_8590_y0_2900_dxdy_416.tif: 416x416 6 solar_panels, 58.8ms\n",
      "Speed: 3.6ms preprocess, 58.8ms inference, 1.9ms postprocess per image at shape (1, 3, 416, 416)\n"
     ]
    },
    {
     "name": "stderr",
     "output_type": "stream",
     "text": [
      "Processing Images:  51%|█████     | 257/506 [00:21<00:15, 15.72it/s]"
     ]
    },
    {
     "name": "stdout",
     "output_type": "stream",
     "text": [
      "\n",
      "image 1/1 /fab3/btech/2022/snehanshu.pal22b/SolarPanel/yolo_dataset/images/test/solarpanels_native_2__x0_950_y0_10598_dxdy_416.tif: 416x416 54 solar_panels, 14.1ms\n",
      "Speed: 2.3ms preprocess, 14.1ms inference, 3.0ms postprocess per image at shape (1, 3, 416, 416)\n",
      "\n",
      "image 1/1 /fab3/btech/2022/snehanshu.pal22b/SolarPanel/yolo_dataset/images/test/solarpanels_native_1__x0_8327_y0_7745_dxdy_416.tif: 416x416 9 solar_panels, 22.5ms\n",
      "Speed: 1.5ms preprocess, 22.5ms inference, 2.3ms postprocess per image at shape (1, 3, 416, 416)\n",
      "\n",
      "image 1/1 /fab3/btech/2022/snehanshu.pal22b/SolarPanel/yolo_dataset/images/test/solarpanels_native_3__x0_9056_y0_4753_dxdy_416.tif: 416x416 4 solar_panels, 12.8ms\n",
      "Speed: 1.9ms preprocess, 12.8ms inference, 2.5ms postprocess per image at shape (1, 3, 416, 416)\n"
     ]
    },
    {
     "name": "stderr",
     "output_type": "stream",
     "text": [
      "Processing Images:  51%|█████▏    | 260/506 [00:21<00:13, 17.66it/s]"
     ]
    },
    {
     "name": "stdout",
     "output_type": "stream",
     "text": [
      "\n",
      "image 1/1 /fab3/btech/2022/snehanshu.pal22b/SolarPanel/yolo_dataset/images/test/solarpanels_native_1__x0_7832_y0_8347_dxdy_416.tif: 416x416 20 solar_panels, 36.0ms\n",
      "Speed: 2.3ms preprocess, 36.0ms inference, 6.6ms postprocess per image at shape (1, 3, 416, 416)\n",
      "\n",
      "image 1/1 /fab3/btech/2022/snehanshu.pal22b/SolarPanel/yolo_dataset/images/test/solarpanels_native_3__x0_10919_y0_9937_dxdy_416.tif: 416x416 13 solar_panels, 11.0ms\n",
      "Speed: 1.7ms preprocess, 11.0ms inference, 1.9ms postprocess per image at shape (1, 3, 416, 416)\n"
     ]
    },
    {
     "name": "stderr",
     "output_type": "stream",
     "text": [
      "Processing Images:  52%|█████▏    | 262/506 [00:21<00:14, 16.28it/s]"
     ]
    },
    {
     "name": "stdout",
     "output_type": "stream",
     "text": [
      "\n",
      "image 1/1 /fab3/btech/2022/snehanshu.pal22b/SolarPanel/yolo_dataset/images/test/solarpanels_native_1__x0_5382_y0_11947_dxdy_416.tif: 416x416 2 solar_panels, 17.2ms\n",
      "Speed: 2.1ms preprocess, 17.2ms inference, 2.4ms postprocess per image at shape (1, 3, 416, 416)\n",
      "\n",
      "image 1/1 /fab3/btech/2022/snehanshu.pal22b/SolarPanel/yolo_dataset/images/test/solarpanels_native_3__x0_5395_y0_12908_dxdy_416.tif: 416x416 19 solar_panels, 12.5ms\n",
      "Speed: 1.5ms preprocess, 12.5ms inference, 2.2ms postprocess per image at shape (1, 3, 416, 416)\n"
     ]
    },
    {
     "name": "stderr",
     "output_type": "stream",
     "text": [
      "Processing Images:  52%|█████▏    | 264/506 [00:21<00:18, 12.86it/s]"
     ]
    },
    {
     "name": "stdout",
     "output_type": "stream",
     "text": [
      "\n",
      "image 1/1 /fab3/btech/2022/snehanshu.pal22b/SolarPanel/yolo_dataset/images/test/solarpanels_native_1__x0_3674_y0_12943_dxdy_416.tif: 416x416 8 solar_panels, 12.1ms\n",
      "Speed: 1.6ms preprocess, 12.1ms inference, 2.2ms postprocess per image at shape (1, 3, 416, 416)\n",
      "\n",
      "image 1/1 /fab3/btech/2022/snehanshu.pal22b/SolarPanel/yolo_dataset/images/test/solarpanels_native_3__x0_8632_y0_12454_dxdy_416.tif: 416x416 7 solar_panels, 11.8ms\n",
      "Speed: 1.4ms preprocess, 11.8ms inference, 2.6ms postprocess per image at shape (1, 3, 416, 416)\n",
      "\n",
      "image 1/1 /fab3/btech/2022/snehanshu.pal22b/SolarPanel/yolo_dataset/images/test/solarpanels_native_3__x0_5298_y0_1214_dxdy_416.tif: 416x416 10 solar_panels, 20.9ms\n",
      "Speed: 3.2ms preprocess, 20.9ms inference, 73.1ms postprocess per image at shape (1, 3, 416, 416)\n"
     ]
    },
    {
     "name": "stderr",
     "output_type": "stream",
     "text": [
      "Processing Images:  53%|█████▎    | 267/506 [00:21<00:18, 12.86it/s]"
     ]
    },
    {
     "name": "stdout",
     "output_type": "stream",
     "text": [
      "\n",
      "image 1/1 /fab3/btech/2022/snehanshu.pal22b/SolarPanel/yolo_dataset/images/test/solarpanels_native_1__x0_4427_y0_12896_dxdy_416.tif: 416x416 3 solar_panels, 15.0ms\n",
      "Speed: 2.3ms preprocess, 15.0ms inference, 2.3ms postprocess per image at shape (1, 3, 416, 416)\n",
      "\n",
      "image 1/1 /fab3/btech/2022/snehanshu.pal22b/SolarPanel/yolo_dataset/images/test/solarpanels_native_2__x0_2775_y0_5061_dxdy_416.tif: 416x416 37 solar_panels, 32.2ms\n",
      "Speed: 1.7ms preprocess, 32.2ms inference, 1.8ms postprocess per image at shape (1, 3, 416, 416)\n"
     ]
    },
    {
     "name": "stderr",
     "output_type": "stream",
     "text": [
      "Processing Images:  53%|█████▎    | 269/506 [00:22<00:20, 11.78it/s]"
     ]
    },
    {
     "name": "stdout",
     "output_type": "stream",
     "text": [
      "\n",
      "image 1/1 /fab3/btech/2022/snehanshu.pal22b/SolarPanel/yolo_dataset/images/test/solarpanels_native_3__x0_4265_y0_15497_dxdy_416.tif: 416x416 9 solar_panels, 11.3ms\n",
      "Speed: 2.2ms preprocess, 11.3ms inference, 1.9ms postprocess per image at shape (1, 3, 416, 416)\n",
      "\n",
      "image 1/1 /fab3/btech/2022/snehanshu.pal22b/SolarPanel/yolo_dataset/images/test/solarpanels_native_2__x0_0_y0_14256_dxdy_416.tif: 416x416 7 solar_panels, 11.4ms\n",
      "Speed: 1.4ms preprocess, 11.4ms inference, 2.3ms postprocess per image at shape (1, 3, 416, 416)\n",
      "\n",
      "image 1/1 /fab3/btech/2022/snehanshu.pal22b/SolarPanel/yolo_dataset/images/test/solarpanels_native_3__x0_11282_y0_13300_dxdy_416.tif: 416x416 1 solar_panel, 14.2ms\n",
      "Speed: 1.6ms preprocess, 14.2ms inference, 2.7ms postprocess per image at shape (1, 3, 416, 416)\n",
      "\n",
      "image 1/1 /fab3/btech/2022/snehanshu.pal22b/SolarPanel/yolo_dataset/images/test/solarpanels_native_1__x0_7929_y0_9710_dxdy_416.tif: 416x416 8 solar_panels, 10.6ms\n",
      "Speed: 1.5ms preprocess, 10.6ms inference, 2.1ms postprocess per image at shape (1, 3, 416, 416)\n"
     ]
    },
    {
     "name": "stderr",
     "output_type": "stream",
     "text": [
      "Processing Images:  54%|█████▍    | 273/506 [00:22<00:14, 15.59it/s]"
     ]
    },
    {
     "name": "stdout",
     "output_type": "stream",
     "text": [
      "\n",
      "image 1/1 /fab3/btech/2022/snehanshu.pal22b/SolarPanel/yolo_dataset/images/test/solarpanels_native_2__x0_686_y0_10698_dxdy_416.tif: 416x416 63 solar_panels, 9.8ms\n",
      "Speed: 2.5ms preprocess, 9.8ms inference, 2.1ms postprocess per image at shape (1, 3, 416, 416)\n",
      "\n",
      "image 1/1 /fab3/btech/2022/snehanshu.pal22b/SolarPanel/yolo_dataset/images/test/solarpanels_native_2__x0_10069_y0_3331_dxdy_416.tif: 416x416 9 solar_panels, 11.5ms\n",
      "Speed: 1.6ms preprocess, 11.5ms inference, 2.0ms postprocess per image at shape (1, 3, 416, 416)\n",
      "\n",
      "image 1/1 /fab3/btech/2022/snehanshu.pal22b/SolarPanel/yolo_dataset/images/test/solarpanels_native_2__x0_11265_y0_0_dxdy_416.tif: 416x416 3 solar_panels, 46.4ms\n",
      "Speed: 2.0ms preprocess, 46.4ms inference, 2.7ms postprocess per image at shape (1, 3, 416, 416)\n"
     ]
    },
    {
     "name": "stderr",
     "output_type": "stream",
     "text": [
      "Processing Images:  55%|█████▍    | 276/506 [00:22<00:16, 14.22it/s]"
     ]
    },
    {
     "name": "stdout",
     "output_type": "stream",
     "text": [
      "\n",
      "image 1/1 /fab3/btech/2022/snehanshu.pal22b/SolarPanel/yolo_dataset/images/test/solarpanels_native_3__x0_14244_y0_8567_dxdy_416.tif: 416x416 3 solar_panels, 13.0ms\n",
      "Speed: 2.0ms preprocess, 13.0ms inference, 2.4ms postprocess per image at shape (1, 3, 416, 416)\n",
      "\n",
      "image 1/1 /fab3/btech/2022/snehanshu.pal22b/SolarPanel/yolo_dataset/images/test/solarpanels_native_1__x0_4074_y0_13144_dxdy_416.tif: 416x416 13 solar_panels, 25.7ms\n",
      "Speed: 3.0ms preprocess, 25.7ms inference, 2.8ms postprocess per image at shape (1, 3, 416, 416)\n"
     ]
    },
    {
     "name": "stderr",
     "output_type": "stream",
     "text": [
      "Processing Images:  55%|█████▍    | 278/506 [00:22<00:15, 15.07it/s]"
     ]
    },
    {
     "name": "stdout",
     "output_type": "stream",
     "text": [
      "\n",
      "image 1/1 /fab3/btech/2022/snehanshu.pal22b/SolarPanel/yolo_dataset/images/test/solarpanels_native_1__x0_9804_y0_11203_dxdy_416.tif: 416x416 10 solar_panels, 30.8ms\n",
      "Speed: 2.8ms preprocess, 30.8ms inference, 3.9ms postprocess per image at shape (1, 3, 416, 416)\n",
      "\n",
      "image 1/1 /fab3/btech/2022/snehanshu.pal22b/SolarPanel/yolo_dataset/images/test/solarpanels_native_3__x0_6129_y0_8840_dxdy_416.tif: 416x416 4 solar_panels, 9.0ms\n",
      "Speed: 1.5ms preprocess, 9.0ms inference, 1.8ms postprocess per image at shape (1, 3, 416, 416)\n"
     ]
    },
    {
     "name": "stderr",
     "output_type": "stream",
     "text": [
      "Processing Images:  55%|█████▌    | 280/506 [00:22<00:16, 13.40it/s]"
     ]
    },
    {
     "name": "stdout",
     "output_type": "stream",
     "text": [
      "\n",
      "image 1/1 /fab3/btech/2022/snehanshu.pal22b/SolarPanel/yolo_dataset/images/test/solarpanels_native_3__x0_10854_y0_9255_dxdy_416.tif: 416x416 8 solar_panels, 14.3ms\n",
      "Speed: 1.8ms preprocess, 14.3ms inference, 2.4ms postprocess per image at shape (1, 3, 416, 416)\n",
      "\n",
      "image 1/1 /fab3/btech/2022/snehanshu.pal22b/SolarPanel/yolo_dataset/images/test/solarpanels_native_1__x0_4272_y0_10805_dxdy_416.tif: 416x416 3 solar_panels, 96.7ms\n",
      "Speed: 1.5ms preprocess, 96.7ms inference, 2.7ms postprocess per image at shape (1, 3, 416, 416)\n"
     ]
    },
    {
     "name": "stderr",
     "output_type": "stream",
     "text": [
      "Processing Images:  56%|█████▌    | 282/506 [00:22<00:17, 12.62it/s]"
     ]
    },
    {
     "name": "stdout",
     "output_type": "stream",
     "text": [
      "\n",
      "image 1/1 /fab3/btech/2022/snehanshu.pal22b/SolarPanel/yolo_dataset/images/test/solarpanels_native_2__x0_0_y0_13730_dxdy_416.tif: 416x416 3 solar_panels, 10.1ms\n",
      "Speed: 1.4ms preprocess, 10.1ms inference, 1.8ms postprocess per image at shape (1, 3, 416, 416)\n",
      "\n",
      "image 1/1 /fab3/btech/2022/snehanshu.pal22b/SolarPanel/yolo_dataset/images/test/solarpanels_native_1__x0_5989_y0_12270_dxdy_416.tif: 416x416 11 solar_panels, 11.0ms\n",
      "Speed: 1.3ms preprocess, 11.0ms inference, 2.8ms postprocess per image at shape (1, 3, 416, 416)\n",
      "\n",
      "image 1/1 /fab3/btech/2022/snehanshu.pal22b/SolarPanel/yolo_dataset/images/test/solarpanels_native_2__x0_13285_y0_5468_dxdy_416.tif: 416x416 7 solar_panels, 27.3ms\n",
      "Speed: 2.3ms preprocess, 27.3ms inference, 3.3ms postprocess per image at shape (1, 3, 416, 416)\n"
     ]
    },
    {
     "name": "stderr",
     "output_type": "stream",
     "text": [
      "Processing Images:  56%|█████▋    | 285/506 [00:23<00:13, 15.80it/s]"
     ]
    },
    {
     "name": "stdout",
     "output_type": "stream",
     "text": [
      "\n",
      "image 1/1 /fab3/btech/2022/snehanshu.pal22b/SolarPanel/yolo_dataset/images/test/solarpanels_native_3__x0_11833_y0_9152_dxdy_416.tif: 416x416 52 solar_panels, 31.3ms\n",
      "Speed: 2.1ms preprocess, 31.3ms inference, 3.5ms postprocess per image at shape (1, 3, 416, 416)\n",
      "\n",
      "image 1/1 /fab3/btech/2022/snehanshu.pal22b/SolarPanel/yolo_dataset/images/test/solarpanels_native_3__x0_9123_y0_4518_dxdy_416.tif: 416x416 4 solar_panels, 17.0ms\n",
      "Speed: 2.0ms preprocess, 17.0ms inference, 2.1ms postprocess per image at shape (1, 3, 416, 416)\n",
      "\n",
      "image 1/1 /fab3/btech/2022/snehanshu.pal22b/SolarPanel/yolo_dataset/images/test/solarpanels_native_2__x0_9261_y0_2834_dxdy_416.tif: 416x416 4 solar_panels, 11.2ms\n",
      "Speed: 1.5ms preprocess, 11.2ms inference, 2.2ms postprocess per image at shape (1, 3, 416, 416)\n"
     ]
    },
    {
     "name": "stderr",
     "output_type": "stream",
     "text": [
      "Processing Images:  57%|█████▋    | 288/506 [00:23<00:12, 17.95it/s]"
     ]
    },
    {
     "name": "stdout",
     "output_type": "stream",
     "text": [
      "\n",
      "image 1/1 /fab3/btech/2022/snehanshu.pal22b/SolarPanel/yolo_dataset/images/test/solarpanels_native_2__x0_4344_y0_13478_dxdy_416.tif: 416x416 4 solar_panels, 12.6ms\n",
      "Speed: 1.5ms preprocess, 12.6ms inference, 2.6ms postprocess per image at shape (1, 3, 416, 416)\n",
      "\n",
      "image 1/1 /fab3/btech/2022/snehanshu.pal22b/SolarPanel/yolo_dataset/images/test/solarpanels_native_2__x0_9770_y0_7171_dxdy_416.tif: 416x416 5 solar_panels, 37.8ms\n",
      "Speed: 2.3ms preprocess, 37.8ms inference, 3.5ms postprocess per image at shape (1, 3, 416, 416)\n",
      "\n",
      "image 1/1 /fab3/btech/2022/snehanshu.pal22b/SolarPanel/yolo_dataset/images/test/solarpanels_native_1__x0_7184_y0_9624_dxdy_416.tif: 416x416 12 solar_panels, 30.2ms\n",
      "Speed: 2.4ms preprocess, 30.2ms inference, 5.6ms postprocess per image at shape (1, 3, 416, 416)\n"
     ]
    },
    {
     "name": "stderr",
     "output_type": "stream",
     "text": [
      "Processing Images:  58%|█████▊    | 291/506 [00:23<00:13, 16.36it/s]"
     ]
    },
    {
     "name": "stdout",
     "output_type": "stream",
     "text": [
      "\n",
      "image 1/1 /fab3/btech/2022/snehanshu.pal22b/SolarPanel/yolo_dataset/images/test/solarpanels_native_3__x0_5852_y0_12549_dxdy_416.tif: 416x416 2 solar_panels, 48.8ms\n",
      "Speed: 1.8ms preprocess, 48.8ms inference, 2.7ms postprocess per image at shape (1, 3, 416, 416)\n",
      "\n",
      "image 1/1 /fab3/btech/2022/snehanshu.pal22b/SolarPanel/yolo_dataset/images/test/solarpanels_native_2__x0_5588_y0_6163_dxdy_416.tif: 416x416 5 solar_panels, 8.0ms\n",
      "Speed: 1.2ms preprocess, 8.0ms inference, 1.7ms postprocess per image at shape (1, 3, 416, 416)\n"
     ]
    },
    {
     "name": "stderr",
     "output_type": "stream",
     "text": [
      "Processing Images:  58%|█████▊    | 293/506 [00:23<00:13, 15.41it/s]"
     ]
    },
    {
     "name": "stdout",
     "output_type": "stream",
     "text": [
      "\n",
      "image 1/1 /fab3/btech/2022/snehanshu.pal22b/SolarPanel/yolo_dataset/images/test/solarpanels_native_3__x0_10163_y0_9832_dxdy_416.tif: 416x416 45 solar_panels, 32.3ms\n",
      "Speed: 2.0ms preprocess, 32.3ms inference, 4.3ms postprocess per image at shape (1, 3, 416, 416)\n",
      "\n",
      "image 1/1 /fab3/btech/2022/snehanshu.pal22b/SolarPanel/yolo_dataset/images/test/solarpanels_native_1__x0_1309_y0_8401_dxdy_416.tif: 416x416 4 solar_panels, 12.7ms\n",
      "Speed: 1.4ms preprocess, 12.7ms inference, 2.8ms postprocess per image at shape (1, 3, 416, 416)\n"
     ]
    },
    {
     "name": "stderr",
     "output_type": "stream",
     "text": [
      "Processing Images:  58%|█████▊    | 295/506 [00:23<00:13, 16.13it/s]"
     ]
    },
    {
     "name": "stdout",
     "output_type": "stream",
     "text": [
      "\n",
      "image 1/1 /fab3/btech/2022/snehanshu.pal22b/SolarPanel/yolo_dataset/images/test/solarpanels_native_2__x0_334_y0_10838_dxdy_416.tif: 416x416 34 solar_panels, 28.4ms\n",
      "Speed: 1.2ms preprocess, 28.4ms inference, 3.2ms postprocess per image at shape (1, 3, 416, 416)\n",
      "\n",
      "image 1/1 /fab3/btech/2022/snehanshu.pal22b/SolarPanel/yolo_dataset/images/test/solarpanels_native_1__x0_1576_y0_6428_dxdy_416.tif: 416x416 10 solar_panels, 18.1ms\n",
      "Speed: 2.2ms preprocess, 18.1ms inference, 4.5ms postprocess per image at shape (1, 3, 416, 416)\n"
     ]
    },
    {
     "name": "stderr",
     "output_type": "stream",
     "text": [
      "Processing Images:  59%|█████▊    | 297/506 [00:23<00:12, 16.64it/s]"
     ]
    },
    {
     "name": "stdout",
     "output_type": "stream",
     "text": [
      "\n",
      "image 1/1 /fab3/btech/2022/snehanshu.pal22b/SolarPanel/yolo_dataset/images/test/solarpanels_native_3__x0_13393_y0_9948_dxdy_416.tif: 416x416 3 solar_panels, 43.2ms\n",
      "Speed: 1.2ms preprocess, 43.2ms inference, 2.9ms postprocess per image at shape (1, 3, 416, 416)\n",
      "\n",
      "image 1/1 /fab3/btech/2022/snehanshu.pal22b/SolarPanel/yolo_dataset/images/test/solarpanels_native_3__x0_8352_y0_11302_dxdy_416.tif: 416x416 5 solar_panels, 41.5ms\n",
      "Speed: 4.2ms preprocess, 41.5ms inference, 2.1ms postprocess per image at shape (1, 3, 416, 416)\n"
     ]
    },
    {
     "name": "stderr",
     "output_type": "stream",
     "text": [
      "Processing Images:  59%|█████▉    | 299/506 [00:24<00:16, 12.24it/s]"
     ]
    },
    {
     "name": "stdout",
     "output_type": "stream",
     "text": [
      "\n",
      "image 1/1 /fab3/btech/2022/snehanshu.pal22b/SolarPanel/yolo_dataset/images/test/solarpanels_native_1__x0_10625_y0_646_dxdy_416.tif: 416x416 4 solar_panels, 10.9ms\n",
      "Speed: 2.1ms preprocess, 10.9ms inference, 2.5ms postprocess per image at shape (1, 3, 416, 416)\n",
      "\n",
      "image 1/1 /fab3/btech/2022/snehanshu.pal22b/SolarPanel/yolo_dataset/images/test/solarpanels_native_3__x0_9514_y0_13838_dxdy_416.tif: 416x416 9 solar_panels, 11.1ms\n",
      "Speed: 1.6ms preprocess, 11.1ms inference, 2.9ms postprocess per image at shape (1, 3, 416, 416)\n",
      "\n",
      "image 1/1 /fab3/btech/2022/snehanshu.pal22b/SolarPanel/yolo_dataset/images/test/solarpanels_native_3__x0_6512_y0_10661_dxdy_416.tif: 416x416 14 solar_panels, 64.9ms\n",
      "Speed: 2.0ms preprocess, 64.9ms inference, 12.6ms postprocess per image at shape (1, 3, 416, 416)\n"
     ]
    },
    {
     "name": "stderr",
     "output_type": "stream",
     "text": [
      "Processing Images:  60%|█████▉    | 302/506 [00:24<00:15, 13.07it/s]"
     ]
    },
    {
     "name": "stdout",
     "output_type": "stream",
     "text": [
      "\n",
      "image 1/1 /fab3/btech/2022/snehanshu.pal22b/SolarPanel/yolo_dataset/images/test/solarpanels_native_2__x0_976_y0_10385_dxdy_416.tif: 416x416 43 solar_panels, 18.6ms\n",
      "Speed: 1.4ms preprocess, 18.6ms inference, 5.1ms postprocess per image at shape (1, 3, 416, 416)\n",
      "\n",
      "image 1/1 /fab3/btech/2022/snehanshu.pal22b/SolarPanel/yolo_dataset/images/test/solarpanels_native_3__x0_3794_y0_7793_dxdy_416.tif: 416x416 3 solar_panels, 10.8ms\n",
      "Speed: 2.3ms preprocess, 10.8ms inference, 2.6ms postprocess per image at shape (1, 3, 416, 416)\n"
     ]
    },
    {
     "name": "stderr",
     "output_type": "stream",
     "text": [
      "Processing Images:  60%|██████    | 304/506 [00:24<00:15, 12.67it/s]"
     ]
    },
    {
     "name": "stdout",
     "output_type": "stream",
     "text": [
      "\n",
      "image 1/1 /fab3/btech/2022/snehanshu.pal22b/SolarPanel/yolo_dataset/images/test/solarpanels_native_1__x0_1920_y0_6546_dxdy_416.tif: 416x416 9 solar_panels, 44.5ms\n",
      "Speed: 2.7ms preprocess, 44.5ms inference, 4.7ms postprocess per image at shape (1, 3, 416, 416)\n",
      "\n",
      "image 1/1 /fab3/btech/2022/snehanshu.pal22b/SolarPanel/yolo_dataset/images/test/solarpanels_native_1__x0_10070_y0_10947_dxdy_416.tif: 416x416 8 solar_panels, 12.0ms\n",
      "Speed: 1.6ms preprocess, 12.0ms inference, 2.8ms postprocess per image at shape (1, 3, 416, 416)\n"
     ]
    },
    {
     "name": "stderr",
     "output_type": "stream",
     "text": [
      "Processing Images:  60%|██████    | 306/506 [00:24<00:19, 10.04it/s]"
     ]
    },
    {
     "name": "stdout",
     "output_type": "stream",
     "text": [
      "\n",
      "image 1/1 /fab3/btech/2022/snehanshu.pal22b/SolarPanel/yolo_dataset/images/test/solarpanels_native_3__x0_9234_y0_14558_dxdy_416.tif: 416x416 4 solar_panels, 15.5ms\n",
      "Speed: 2.0ms preprocess, 15.5ms inference, 2.4ms postprocess per image at shape (1, 3, 416, 416)\n",
      "\n",
      "image 1/1 /fab3/btech/2022/snehanshu.pal22b/SolarPanel/yolo_dataset/images/test/solarpanels_native_1__x0_392_y0_6994_dxdy_416.tif: 416x416 12 solar_panels, 15.9ms\n",
      "Speed: 2.1ms preprocess, 15.9ms inference, 2.3ms postprocess per image at shape (1, 3, 416, 416)\n",
      "\n",
      "image 1/1 /fab3/btech/2022/snehanshu.pal22b/SolarPanel/yolo_dataset/images/test/solarpanels_native_3__x0_12356_y0_6355_dxdy_416.tif: 416x416 3 solar_panels, 13.3ms\n",
      "Speed: 1.5ms preprocess, 13.3ms inference, 2.4ms postprocess per image at shape (1, 3, 416, 416)\n"
     ]
    },
    {
     "name": "stderr",
     "output_type": "stream",
     "text": [
      "Processing Images:  61%|██████    | 309/506 [00:24<00:15, 12.69it/s]"
     ]
    },
    {
     "name": "stdout",
     "output_type": "stream",
     "text": [
      "\n",
      "image 1/1 /fab3/btech/2022/snehanshu.pal22b/SolarPanel/yolo_dataset/images/test/solarpanels_native_1__x0_6670_y0_8983_dxdy_416.tif: 416x416 12 solar_panels, 31.6ms\n",
      "Speed: 1.9ms preprocess, 31.6ms inference, 2.6ms postprocess per image at shape (1, 3, 416, 416)\n",
      "\n",
      "image 1/1 /fab3/btech/2022/snehanshu.pal22b/SolarPanel/yolo_dataset/images/test/solarpanels_native_2__x0_739_y0_10553_dxdy_416.tif: 416x416 74 solar_panels, 14.6ms\n",
      "Speed: 2.6ms preprocess, 14.6ms inference, 3.5ms postprocess per image at shape (1, 3, 416, 416)\n"
     ]
    },
    {
     "name": "stderr",
     "output_type": "stream",
     "text": [
      "Processing Images:  61%|██████▏   | 311/506 [00:25<00:16, 11.90it/s]"
     ]
    },
    {
     "name": "stdout",
     "output_type": "stream",
     "text": [
      "\n",
      "image 1/1 /fab3/btech/2022/snehanshu.pal22b/SolarPanel/yolo_dataset/images/test/solarpanels_native_2__x0_9497_y0_7482_dxdy_416.tif: 416x416 4 solar_panels, 17.4ms\n",
      "Speed: 2.5ms preprocess, 17.4ms inference, 31.3ms postprocess per image at shape (1, 3, 416, 416)\n",
      "\n",
      "image 1/1 /fab3/btech/2022/snehanshu.pal22b/SolarPanel/yolo_dataset/images/test/solarpanels_native_2__x0_9606_y0_2546_dxdy_416.tif: 416x416 5 solar_panels, 14.1ms\n",
      "Speed: 1.5ms preprocess, 14.1ms inference, 2.8ms postprocess per image at shape (1, 3, 416, 416)\n"
     ]
    },
    {
     "name": "stderr",
     "output_type": "stream",
     "text": [
      "Processing Images:  62%|██████▏   | 313/506 [00:25<00:15, 12.16it/s]"
     ]
    },
    {
     "name": "stdout",
     "output_type": "stream",
     "text": [
      "\n",
      "image 1/1 /fab3/btech/2022/snehanshu.pal22b/SolarPanel/yolo_dataset/images/test/solarpanels_native_3__x0_11017_y0_14443_dxdy_416.tif: 416x416 (no detections), 96.8ms\n",
      "Speed: 6.5ms preprocess, 96.8ms inference, 1.0ms postprocess per image at shape (1, 3, 416, 416)\n",
      "\n",
      "image 1/1 /fab3/btech/2022/snehanshu.pal22b/SolarPanel/yolo_dataset/images/test/solarpanels_native_1__x0_4118_y0_13278_dxdy_416.tif: 416x416 13 solar_panels, 18.3ms\n",
      "Speed: 2.1ms preprocess, 18.3ms inference, 2.6ms postprocess per image at shape (1, 3, 416, 416)\n"
     ]
    },
    {
     "name": "stderr",
     "output_type": "stream",
     "text": [
      "Processing Images:  62%|██████▏   | 315/506 [00:25<00:16, 11.82it/s]"
     ]
    },
    {
     "name": "stdout",
     "output_type": "stream",
     "text": [
      "\n",
      "image 1/1 /fab3/btech/2022/snehanshu.pal22b/SolarPanel/yolo_dataset/images/test/solarpanels_native_3__x0_12702_y0_10937_dxdy_416.tif: 416x416 5 solar_panels, 10.5ms\n",
      "Speed: 1.6ms preprocess, 10.5ms inference, 57.0ms postprocess per image at shape (1, 3, 416, 416)\n",
      "\n",
      "image 1/1 /fab3/btech/2022/snehanshu.pal22b/SolarPanel/yolo_dataset/images/test/solarpanels_native_1__x0_8081_y0_10617_dxdy_416.tif: 416x416 8 solar_panels, 10.2ms\n",
      "Speed: 1.6ms preprocess, 10.2ms inference, 2.9ms postprocess per image at shape (1, 3, 416, 416)\n"
     ]
    },
    {
     "name": "stderr",
     "output_type": "stream",
     "text": [
      "Processing Images:  63%|██████▎   | 317/506 [00:25<00:16, 11.76it/s]"
     ]
    },
    {
     "name": "stdout",
     "output_type": "stream",
     "text": [
      "\n",
      "image 1/1 /fab3/btech/2022/snehanshu.pal22b/SolarPanel/yolo_dataset/images/test/solarpanels_native_2__x0_9456_y0_2798_dxdy_416.tif: 416x416 3 solar_panels, 18.2ms\n",
      "Speed: 1.9ms preprocess, 18.2ms inference, 1.9ms postprocess per image at shape (1, 3, 416, 416)\n",
      "\n",
      "image 1/1 /fab3/btech/2022/snehanshu.pal22b/SolarPanel/yolo_dataset/images/test/solarpanels_native_3__x0_11762_y0_9109_dxdy_416.tif: 416x416 52 solar_panels, 38.9ms\n",
      "Speed: 1.6ms preprocess, 38.9ms inference, 2.2ms postprocess per image at shape (1, 3, 416, 416)\n",
      "\n",
      "image 1/1 /fab3/btech/2022/snehanshu.pal22b/SolarPanel/yolo_dataset/images/test/solarpanels_native_2__x0_7062_y0_9845_dxdy_416.tif: 416x416 8 solar_panels, 73.8ms\n",
      "Speed: 1.6ms preprocess, 73.8ms inference, 2.1ms postprocess per image at shape (1, 3, 416, 416)\n"
     ]
    },
    {
     "name": "stderr",
     "output_type": "stream",
     "text": [
      "Processing Images:  63%|██████▎   | 320/506 [00:25<00:15, 12.34it/s]"
     ]
    },
    {
     "name": "stdout",
     "output_type": "stream",
     "text": [
      "\n",
      "image 1/1 /fab3/btech/2022/snehanshu.pal22b/SolarPanel/yolo_dataset/images/test/solarpanels_native_3__x0_6405_y0_10688_dxdy_416.tif: 416x416 17 solar_panels, 31.1ms\n",
      "Speed: 1.3ms preprocess, 31.1ms inference, 2.1ms postprocess per image at shape (1, 3, 416, 416)\n",
      "\n",
      "image 1/1 /fab3/btech/2022/snehanshu.pal22b/SolarPanel/yolo_dataset/images/test/solarpanels_native_3__x0_7593_y0_12947_dxdy_416.tif: 416x416 3 solar_panels, 12.6ms\n",
      "Speed: 1.8ms preprocess, 12.6ms inference, 7.8ms postprocess per image at shape (1, 3, 416, 416)\n"
     ]
    },
    {
     "name": "stderr",
     "output_type": "stream",
     "text": [
      "Processing Images:  64%|██████▎   | 322/506 [00:25<00:14, 12.51it/s]"
     ]
    },
    {
     "name": "stdout",
     "output_type": "stream",
     "text": [
      "\n",
      "image 1/1 /fab3/btech/2022/snehanshu.pal22b/SolarPanel/yolo_dataset/images/test/solarpanels_native_2__x0_8053_y0_2441_dxdy_416.tif: 416x416 15 solar_panels, 13.5ms\n",
      "Speed: 1.5ms preprocess, 13.5ms inference, 2.2ms postprocess per image at shape (1, 3, 416, 416)\n",
      "\n",
      "image 1/1 /fab3/btech/2022/snehanshu.pal22b/SolarPanel/yolo_dataset/images/test/solarpanels_native_2__x0_2562_y0_5007_dxdy_416.tif: 416x416 19 solar_panels, 9.0ms\n",
      "Speed: 17.8ms preprocess, 9.0ms inference, 1.9ms postprocess per image at shape (1, 3, 416, 416)\n"
     ]
    },
    {
     "name": "stderr",
     "output_type": "stream",
     "text": [
      "Processing Images:  64%|██████▍   | 324/506 [00:26<00:15, 11.57it/s]"
     ]
    },
    {
     "name": "stdout",
     "output_type": "stream",
     "text": [
      "\n",
      "image 1/1 /fab3/btech/2022/snehanshu.pal22b/SolarPanel/yolo_dataset/images/test/solarpanels_native_1__x0_2474_y0_8126_dxdy_416.tif: 416x416 9 solar_panels, 13.2ms\n",
      "Speed: 2.1ms preprocess, 13.2ms inference, 3.1ms postprocess per image at shape (1, 3, 416, 416)\n",
      "\n",
      "image 1/1 /fab3/btech/2022/snehanshu.pal22b/SolarPanel/yolo_dataset/images/test/solarpanels_native_1__x0_0_y0_7950_dxdy_416.tif: 416x416 9 solar_panels, 12.1ms\n",
      "Speed: 2.1ms preprocess, 12.1ms inference, 1.9ms postprocess per image at shape (1, 3, 416, 416)\n"
     ]
    },
    {
     "name": "stderr",
     "output_type": "stream",
     "text": [
      "Processing Images:  64%|██████▍   | 326/506 [00:26<00:16, 11.17it/s]"
     ]
    },
    {
     "name": "stdout",
     "output_type": "stream",
     "text": [
      "\n",
      "image 1/1 /fab3/btech/2022/snehanshu.pal22b/SolarPanel/yolo_dataset/images/test/solarpanels_native_2__x0_5736_y0_5488_dxdy_416.tif: 416x416 14 solar_panels, 68.2ms\n",
      "Speed: 1.7ms preprocess, 68.2ms inference, 2.0ms postprocess per image at shape (1, 3, 416, 416)\n",
      "\n",
      "image 1/1 /fab3/btech/2022/snehanshu.pal22b/SolarPanel/yolo_dataset/images/test/solarpanels_native_2__x0_836_y0_10320_dxdy_416.tif: 416x416 37 solar_panels, 9.8ms\n",
      "Speed: 1.4ms preprocess, 9.8ms inference, 6.2ms postprocess per image at shape (1, 3, 416, 416)\n"
     ]
    },
    {
     "name": "stderr",
     "output_type": "stream",
     "text": [
      "Processing Images:  65%|██████▍   | 328/506 [00:26<00:14, 11.97it/s]"
     ]
    },
    {
     "name": "stdout",
     "output_type": "stream",
     "text": [
      "\n",
      "image 1/1 /fab3/btech/2022/snehanshu.pal22b/SolarPanel/yolo_dataset/images/test/solarpanels_native_2__x0_10085_y0_3245_dxdy_416.tif: 416x416 8 solar_panels, 13.0ms\n",
      "Speed: 1.5ms preprocess, 13.0ms inference, 1.9ms postprocess per image at shape (1, 3, 416, 416)\n",
      "\n",
      "image 1/1 /fab3/btech/2022/snehanshu.pal22b/SolarPanel/yolo_dataset/images/test/solarpanels_native_1__x0_9331_y0_11009_dxdy_416.tif: 416x416 18 solar_panels, 16.3ms\n",
      "Speed: 2.1ms preprocess, 16.3ms inference, 2.9ms postprocess per image at shape (1, 3, 416, 416)\n"
     ]
    },
    {
     "name": "stderr",
     "output_type": "stream",
     "text": [
      "Processing Images:  65%|██████▌   | 330/506 [00:26<00:15, 11.29it/s]"
     ]
    },
    {
     "name": "stdout",
     "output_type": "stream",
     "text": [
      "\n",
      "image 1/1 /fab3/btech/2022/snehanshu.pal22b/SolarPanel/yolo_dataset/images/test/solarpanels_native_1__x0_8414_y0_8045_dxdy_416.tif: 416x416 7 solar_panels, 36.7ms\n",
      "Speed: 2.5ms preprocess, 36.7ms inference, 3.1ms postprocess per image at shape (1, 3, 416, 416)\n",
      "\n",
      "image 1/1 /fab3/btech/2022/snehanshu.pal22b/SolarPanel/yolo_dataset/images/test/solarpanels_native_1__x0_2099_y0_9497_dxdy_416.tif: 416x416 6 solar_panels, 52.1ms\n",
      "Speed: 33.7ms preprocess, 52.1ms inference, 2.7ms postprocess per image at shape (1, 3, 416, 416)\n"
     ]
    },
    {
     "name": "stderr",
     "output_type": "stream",
     "text": [
      "Processing Images:  66%|██████▌   | 332/506 [00:26<00:16, 10.31it/s]"
     ]
    },
    {
     "name": "stdout",
     "output_type": "stream",
     "text": [
      "\n",
      "image 1/1 /fab3/btech/2022/snehanshu.pal22b/SolarPanel/yolo_dataset/images/test/solarpanels_native_1__x0_1283_y0_7097_dxdy_416.tif: 416x416 6 solar_panels, 20.1ms\n",
      "Speed: 2.4ms preprocess, 20.1ms inference, 3.5ms postprocess per image at shape (1, 3, 416, 416)\n",
      "\n",
      "image 1/1 /fab3/btech/2022/snehanshu.pal22b/SolarPanel/yolo_dataset/images/test/solarpanels_native_2__x0_757_y0_10543_dxdy_416.tif: 416x416 72 solar_panels, 18.1ms\n",
      "Speed: 1.6ms preprocess, 18.1ms inference, 2.4ms postprocess per image at shape (1, 3, 416, 416)\n"
     ]
    },
    {
     "name": "stderr",
     "output_type": "stream",
     "text": [
      "Processing Images:  66%|██████▌   | 334/506 [00:27<00:15, 11.22it/s]"
     ]
    },
    {
     "name": "stdout",
     "output_type": "stream",
     "text": [
      "\n",
      "image 1/1 /fab3/btech/2022/snehanshu.pal22b/SolarPanel/yolo_dataset/images/test/solarpanels_native_2__x0_9358_y0_3629_dxdy_416.tif: 416x416 9 solar_panels, 28.0ms\n",
      "Speed: 2.1ms preprocess, 28.0ms inference, 2.9ms postprocess per image at shape (1, 3, 416, 416)\n",
      "\n",
      "image 1/1 /fab3/btech/2022/snehanshu.pal22b/SolarPanel/yolo_dataset/images/test/solarpanels_native_2__x0_8269_y0_2290_dxdy_416.tif: 416x416 6 solar_panels, 14.6ms\n",
      "Speed: 1.9ms preprocess, 14.6ms inference, 2.8ms postprocess per image at shape (1, 3, 416, 416)\n"
     ]
    },
    {
     "name": "stderr",
     "output_type": "stream",
     "text": [
      "Processing Images:  66%|██████▋   | 336/506 [00:27<00:14, 11.84it/s]"
     ]
    },
    {
     "name": "stdout",
     "output_type": "stream",
     "text": [
      "\n",
      "image 1/1 /fab3/btech/2022/snehanshu.pal22b/SolarPanel/yolo_dataset/images/test/solarpanels_native_2__x0_14369_y0_8759_dxdy_416.tif: 416x416 5 solar_panels, 14.4ms\n",
      "Speed: 2.3ms preprocess, 14.4ms inference, 2.7ms postprocess per image at shape (1, 3, 416, 416)\n",
      "\n",
      "image 1/1 /fab3/btech/2022/snehanshu.pal22b/SolarPanel/yolo_dataset/images/test/solarpanels_native_3__x0_10527_y0_1093_dxdy_416.tif: 416x416 9 solar_panels, 19.0ms\n",
      "Speed: 1.9ms preprocess, 19.0ms inference, 2.6ms postprocess per image at shape (1, 3, 416, 416)\n"
     ]
    },
    {
     "name": "stderr",
     "output_type": "stream",
     "text": [
      "Processing Images:  67%|██████▋   | 338/506 [00:27<00:12, 13.42it/s]"
     ]
    },
    {
     "name": "stdout",
     "output_type": "stream",
     "text": [
      "\n",
      "image 1/1 /fab3/btech/2022/snehanshu.pal22b/SolarPanel/yolo_dataset/images/test/solarpanels_native_2__x0_835_y0_10290_dxdy_416.tif: 416x416 31 solar_panels, 32.6ms\n",
      "Speed: 25.9ms preprocess, 32.6ms inference, 43.8ms postprocess per image at shape (1, 3, 416, 416)\n",
      "\n",
      "image 1/1 /fab3/btech/2022/snehanshu.pal22b/SolarPanel/yolo_dataset/images/test/solarpanels_native_1__x0_4056_y0_13100_dxdy_416.tif: 416x416 14 solar_panels, 12.8ms\n",
      "Speed: 1.9ms preprocess, 12.8ms inference, 2.5ms postprocess per image at shape (1, 3, 416, 416)\n"
     ]
    },
    {
     "name": "stderr",
     "output_type": "stream",
     "text": [
      "Processing Images:  67%|██████▋   | 340/506 [00:27<00:17,  9.61it/s]"
     ]
    },
    {
     "name": "stdout",
     "output_type": "stream",
     "text": [
      "\n",
      "image 1/1 /fab3/btech/2022/snehanshu.pal22b/SolarPanel/yolo_dataset/images/test/solarpanels_native_1__x0_8233_y0_9890_dxdy_416.tif: 416x416 7 solar_panels, 15.3ms\n",
      "Speed: 2.1ms preprocess, 15.3ms inference, 2.8ms postprocess per image at shape (1, 3, 416, 416)\n",
      "\n",
      "image 1/1 /fab3/btech/2022/snehanshu.pal22b/SolarPanel/yolo_dataset/images/test/solarpanels_native_3__x0_5970_y0_3607_dxdy_416.tif: 416x416 10 solar_panels, 145.6ms\n",
      "Speed: 24.6ms preprocess, 145.6ms inference, 2.7ms postprocess per image at shape (1, 3, 416, 416)\n"
     ]
    },
    {
     "name": "stderr",
     "output_type": "stream",
     "text": [
      "Processing Images:  68%|██████▊   | 342/506 [00:27<00:19,  8.56it/s]"
     ]
    },
    {
     "name": "stdout",
     "output_type": "stream",
     "text": [
      "\n",
      "image 1/1 /fab3/btech/2022/snehanshu.pal22b/SolarPanel/yolo_dataset/images/test/solarpanels_native_3__x0_6639_y0_11120_dxdy_416.tif: 416x416 6 solar_panels, 36.1ms\n",
      "Speed: 1.9ms preprocess, 36.1ms inference, 2.4ms postprocess per image at shape (1, 3, 416, 416)\n",
      "\n",
      "image 1/1 /fab3/btech/2022/snehanshu.pal22b/SolarPanel/yolo_dataset/images/test/solarpanels_native_1__x0_8694_y0_12097_dxdy_416.tif: 416x416 9 solar_panels, 61.3ms\n",
      "Speed: 1.7ms preprocess, 61.3ms inference, 2.7ms postprocess per image at shape (1, 3, 416, 416)\n"
     ]
    },
    {
     "name": "stderr",
     "output_type": "stream",
     "text": [
      "Processing Images:  68%|██████▊   | 344/506 [00:28<00:17,  9.24it/s]"
     ]
    },
    {
     "name": "stdout",
     "output_type": "stream",
     "text": [
      "\n",
      "image 1/1 /fab3/btech/2022/snehanshu.pal22b/SolarPanel/yolo_dataset/images/test/solarpanels_native_3__x0_5967_y0_10527_dxdy_416.tif: 416x416 1 solar_panel, 158.8ms\n",
      "Speed: 3.3ms preprocess, 158.8ms inference, 3.5ms postprocess per image at shape (1, 3, 416, 416)\n",
      "\n",
      "image 1/1 /fab3/btech/2022/snehanshu.pal22b/SolarPanel/yolo_dataset/images/test/solarpanels_native_1__x0_13014_y0_14042_dxdy_416.tif: 416x416 6 solar_panels, 40.1ms\n",
      "Speed: 2.5ms preprocess, 40.1ms inference, 3.5ms postprocess per image at shape (1, 3, 416, 416)\n"
     ]
    },
    {
     "name": "stderr",
     "output_type": "stream",
     "text": [
      "Processing Images:  68%|██████▊   | 346/506 [00:28<00:19,  8.08it/s]"
     ]
    },
    {
     "name": "stdout",
     "output_type": "stream",
     "text": [
      "\n",
      "image 1/1 /fab3/btech/2022/snehanshu.pal22b/SolarPanel/yolo_dataset/images/test/solarpanels_native_3__x0_7615_y0_12751_dxdy_416.tif: 416x416 3 solar_panels, 17.4ms\n",
      "Speed: 1.6ms preprocess, 17.4ms inference, 2.0ms postprocess per image at shape (1, 3, 416, 416)\n"
     ]
    },
    {
     "name": "stderr",
     "output_type": "stream",
     "text": [
      "Processing Images:  69%|██████▊   | 347/506 [00:28<00:21,  7.27it/s]"
     ]
    },
    {
     "name": "stdout",
     "output_type": "stream",
     "text": [
      "\n",
      "image 1/1 /fab3/btech/2022/snehanshu.pal22b/SolarPanel/yolo_dataset/images/test/solarpanels_native_1__x0_23_y0_7094_dxdy_416.tif: 416x416 15 solar_panels, 24.2ms\n",
      "Speed: 30.0ms preprocess, 24.2ms inference, 24.9ms postprocess per image at shape (1, 3, 416, 416)\n"
     ]
    },
    {
     "name": "stderr",
     "output_type": "stream",
     "text": [
      "Processing Images:  69%|██████▉   | 348/506 [00:28<00:22,  7.15it/s]"
     ]
    },
    {
     "name": "stdout",
     "output_type": "stream",
     "text": [
      "\n",
      "image 1/1 /fab3/btech/2022/snehanshu.pal22b/SolarPanel/yolo_dataset/images/test/solarpanels_native_2__x0_6082_y0_5660_dxdy_416.tif: 416x416 3 solar_panels, 11.6ms\n",
      "Speed: 4.0ms preprocess, 11.6ms inference, 2.1ms postprocess per image at shape (1, 3, 416, 416)\n",
      "\n",
      "image 1/1 /fab3/btech/2022/snehanshu.pal22b/SolarPanel/yolo_dataset/images/test/solarpanels_native_1__x0_6803_y0_9754_dxdy_416.tif: 416x416 8 solar_panels, 10.4ms\n",
      "Speed: 1.8ms preprocess, 10.4ms inference, 2.3ms postprocess per image at shape (1, 3, 416, 416)\n",
      "\n",
      "image 1/1 /fab3/btech/2022/snehanshu.pal22b/SolarPanel/yolo_dataset/images/test/solarpanels_native_1__x0_82_y0_7377_dxdy_416.tif: 416x416 5 solar_panels, 73.9ms\n",
      "Speed: 1.4ms preprocess, 73.9ms inference, 1.7ms postprocess per image at shape (1, 3, 416, 416)\n"
     ]
    },
    {
     "name": "stderr",
     "output_type": "stream",
     "text": [
      "Processing Images:  69%|██████▉   | 351/506 [00:28<00:15,  9.83it/s]"
     ]
    },
    {
     "name": "stdout",
     "output_type": "stream",
     "text": [
      "\n",
      "image 1/1 /fab3/btech/2022/snehanshu.pal22b/SolarPanel/yolo_dataset/images/test/solarpanels_native_3__x0_10902_y0_9352_dxdy_416.tif: 416x416 17 solar_panels, 11.8ms\n",
      "Speed: 1.6ms preprocess, 11.8ms inference, 2.1ms postprocess per image at shape (1, 3, 416, 416)\n",
      "\n",
      "image 1/1 /fab3/btech/2022/snehanshu.pal22b/SolarPanel/yolo_dataset/images/test/solarpanels_native_3__x0_5968_y0_8934_dxdy_416.tif: 416x416 4 solar_panels, 11.9ms\n",
      "Speed: 1.4ms preprocess, 11.9ms inference, 2.4ms postprocess per image at shape (1, 3, 416, 416)\n",
      "\n",
      "image 1/1 /fab3/btech/2022/snehanshu.pal22b/SolarPanel/yolo_dataset/images/test/solarpanels_native_1__x0_5880_y0_13362_dxdy_416.tif: 416x416 9 solar_panels, 10.3ms\n",
      "Speed: 1.7ms preprocess, 10.3ms inference, 2.0ms postprocess per image at shape (1, 3, 416, 416)\n"
     ]
    },
    {
     "name": "stderr",
     "output_type": "stream",
     "text": [
      "Processing Images:  70%|██████▉   | 354/506 [00:29<00:14, 10.33it/s]"
     ]
    },
    {
     "name": "stdout",
     "output_type": "stream",
     "text": [
      "\n",
      "image 1/1 /fab3/btech/2022/snehanshu.pal22b/SolarPanel/yolo_dataset/images/test/solarpanels_native_1__x0_1595_y0_6373_dxdy_416.tif: 416x416 5 solar_panels, 15.4ms\n",
      "Speed: 1.9ms preprocess, 15.4ms inference, 10.8ms postprocess per image at shape (1, 3, 416, 416)\n",
      "\n",
      "image 1/1 /fab3/btech/2022/snehanshu.pal22b/SolarPanel/yolo_dataset/images/test/solarpanels_native_2__x0_494_y0_10999_dxdy_416.tif: 416x416 48 solar_panels, 16.5ms\n",
      "Speed: 2.6ms preprocess, 16.5ms inference, 9.8ms postprocess per image at shape (1, 3, 416, 416)\n",
      "\n",
      "image 1/1 /fab3/btech/2022/snehanshu.pal22b/SolarPanel/yolo_dataset/images/test/solarpanels_native_1__x0_9797_y0_10609_dxdy_416.tif: 416x416 12 solar_panels, 18.9ms\n",
      "Speed: 2.9ms preprocess, 18.9ms inference, 2.2ms postprocess per image at shape (1, 3, 416, 416)\n"
     ]
    },
    {
     "name": "stderr",
     "output_type": "stream",
     "text": [
      "Processing Images:  71%|███████   | 357/506 [00:29<00:13, 10.91it/s]"
     ]
    },
    {
     "name": "stdout",
     "output_type": "stream",
     "text": [
      "\n",
      "image 1/1 /fab3/btech/2022/snehanshu.pal22b/SolarPanel/yolo_dataset/images/test/solarpanels_native_1__x0_1057_y0_7326_dxdy_416.tif: 416x416 13 solar_panels, 12.9ms\n",
      "Speed: 1.4ms preprocess, 12.9ms inference, 3.1ms postprocess per image at shape (1, 3, 416, 416)\n",
      "\n",
      "image 1/1 /fab3/btech/2022/snehanshu.pal22b/SolarPanel/yolo_dataset/images/test/solarpanels_native_3__x0_6759_y0_13340_dxdy_416.tif: 416x416 5 solar_panels, 14.8ms\n",
      "Speed: 1.8ms preprocess, 14.8ms inference, 2.0ms postprocess per image at shape (1, 3, 416, 416)\n",
      "\n",
      "image 1/1 /fab3/btech/2022/snehanshu.pal22b/SolarPanel/yolo_dataset/images/test/solarpanels_native_3__x0_4757_y0_12412_dxdy_416.tif: 416x416 15 solar_panels, 11.3ms\n",
      "Speed: 1.7ms preprocess, 11.3ms inference, 2.6ms postprocess per image at shape (1, 3, 416, 416)\n"
     ]
    },
    {
     "name": "stderr",
     "output_type": "stream",
     "text": [
      "Processing Images:  71%|███████   | 360/506 [00:29<00:10, 13.93it/s]"
     ]
    },
    {
     "name": "stdout",
     "output_type": "stream",
     "text": [
      "\n",
      "image 1/1 /fab3/btech/2022/snehanshu.pal22b/SolarPanel/yolo_dataset/images/test/solarpanels_native_3__x0_8458_y0_11464_dxdy_416.tif: 416x416 4 solar_panels, 16.3ms\n",
      "Speed: 2.6ms preprocess, 16.3ms inference, 2.8ms postprocess per image at shape (1, 3, 416, 416)\n",
      "\n",
      "image 1/1 /fab3/btech/2022/snehanshu.pal22b/SolarPanel/yolo_dataset/images/test/solarpanels_native_1__x0_8405_y0_13882_dxdy_416.tif: 416x416 5 solar_panels, 51.8ms\n",
      "Speed: 2.1ms preprocess, 51.8ms inference, 2.2ms postprocess per image at shape (1, 3, 416, 416)\n"
     ]
    },
    {
     "name": "stderr",
     "output_type": "stream",
     "text": [
      "Processing Images:  72%|███████▏  | 362/506 [00:29<00:10, 14.17it/s]"
     ]
    },
    {
     "name": "stdout",
     "output_type": "stream",
     "text": [
      "\n",
      "image 1/1 /fab3/btech/2022/snehanshu.pal22b/SolarPanel/yolo_dataset/images/test/solarpanels_native_3__x0_5710_y0_9560_dxdy_416.tif: 416x416 3 solar_panels, 9.8ms\n",
      "Speed: 2.0ms preprocess, 9.8ms inference, 1.8ms postprocess per image at shape (1, 3, 416, 416)\n",
      "\n",
      "image 1/1 /fab3/btech/2022/snehanshu.pal22b/SolarPanel/yolo_dataset/images/test/solarpanels_native_3__x0_1033_y0_7977_dxdy_416.tif: 416x416 10 solar_panels, 9.1ms\n",
      "Speed: 2.1ms preprocess, 9.1ms inference, 1.8ms postprocess per image at shape (1, 3, 416, 416)\n",
      "\n",
      "image 1/1 /fab3/btech/2022/snehanshu.pal22b/SolarPanel/yolo_dataset/images/test/solarpanels_native_2__x0_0_y0_11421_dxdy_416.tif: 416x416 40 solar_panels, 10.5ms\n",
      "Speed: 2.5ms preprocess, 10.5ms inference, 2.2ms postprocess per image at shape (1, 3, 416, 416)\n",
      "\n",
      "image 1/1 /fab3/btech/2022/snehanshu.pal22b/SolarPanel/yolo_dataset/images/test/solarpanels_native_2__x0_783_y0_10573_dxdy_416.tif: 416x416 75 solar_panels, 8.7ms\n",
      "Speed: 2.4ms preprocess, 8.7ms inference, 1.9ms postprocess per image at shape (1, 3, 416, 416)\n"
     ]
    },
    {
     "name": "stderr",
     "output_type": "stream",
     "text": [
      "Processing Images:  72%|███████▏  | 366/506 [00:29<00:07, 19.23it/s]"
     ]
    },
    {
     "name": "stdout",
     "output_type": "stream",
     "text": [
      "\n",
      "image 1/1 /fab3/btech/2022/snehanshu.pal22b/SolarPanel/yolo_dataset/images/test/solarpanels_native_3__x0_12698_y0_15759_dxdy_416.tif: 416x416 3 solar_panels, 8.7ms\n",
      "Speed: 1.6ms preprocess, 8.7ms inference, 1.8ms postprocess per image at shape (1, 3, 416, 416)\n",
      "\n",
      "image 1/1 /fab3/btech/2022/snehanshu.pal22b/SolarPanel/yolo_dataset/images/test/solarpanels_native_3__x0_6165_y0_13495_dxdy_416.tif: 416x416 4 solar_panels, 14.1ms\n",
      "Speed: 2.0ms preprocess, 14.1ms inference, 2.5ms postprocess per image at shape (1, 3, 416, 416)\n",
      "\n",
      "image 1/1 /fab3/btech/2022/snehanshu.pal22b/SolarPanel/yolo_dataset/images/test/solarpanels_native_3__x0_11094_y0_9747_dxdy_416.tif: 416x416 21 solar_panels, 9.7ms\n",
      "Speed: 1.7ms preprocess, 9.7ms inference, 1.8ms postprocess per image at shape (1, 3, 416, 416)\n",
      "\n",
      "image 1/1 /fab3/btech/2022/snehanshu.pal22b/SolarPanel/yolo_dataset/images/test/solarpanels_native_1__x0_6724_y0_12292_dxdy_416.tif: 416x416 40 solar_panels, 9.6ms\n",
      "Speed: 1.7ms preprocess, 9.6ms inference, 2.0ms postprocess per image at shape (1, 3, 416, 416)\n"
     ]
    },
    {
     "name": "stderr",
     "output_type": "stream",
     "text": [
      "Processing Images:  73%|███████▎  | 370/506 [00:29<00:05, 23.25it/s]"
     ]
    },
    {
     "name": "stdout",
     "output_type": "stream",
     "text": [
      "\n",
      "image 1/1 /fab3/btech/2022/snehanshu.pal22b/SolarPanel/yolo_dataset/images/test/solarpanels_native_2__x0_0_y0_14471_dxdy_416.tif: 416x416 8 solar_panels, 18.7ms\n",
      "Speed: 2.0ms preprocess, 18.7ms inference, 2.2ms postprocess per image at shape (1, 3, 416, 416)\n",
      "\n",
      "image 1/1 /fab3/btech/2022/snehanshu.pal22b/SolarPanel/yolo_dataset/images/test/solarpanels_native_3__x0_5564_y0_13389_dxdy_416.tif: 416x416 2 solar_panels, 13.2ms\n",
      "Speed: 3.2ms preprocess, 13.2ms inference, 2.2ms postprocess per image at shape (1, 3, 416, 416)\n",
      "\n",
      "image 1/1 /fab3/btech/2022/snehanshu.pal22b/SolarPanel/yolo_dataset/images/test/solarpanels_native_3__x0_8385_y0_11394_dxdy_416.tif: 416x416 4 solar_panels, 12.2ms\n",
      "Speed: 2.9ms preprocess, 12.2ms inference, 27.3ms postprocess per image at shape (1, 3, 416, 416)\n"
     ]
    },
    {
     "name": "stderr",
     "output_type": "stream",
     "text": [
      "Processing Images:  74%|███████▎  | 373/506 [00:30<00:06, 20.02it/s]"
     ]
    },
    {
     "name": "stdout",
     "output_type": "stream",
     "text": [
      "\n",
      "image 1/1 /fab3/btech/2022/snehanshu.pal22b/SolarPanel/yolo_dataset/images/test/solarpanels_native_3__x0_12010_y0_11569_dxdy_416.tif: 416x416 11 solar_panels, 14.4ms\n",
      "Speed: 1.9ms preprocess, 14.4ms inference, 4.0ms postprocess per image at shape (1, 3, 416, 416)\n",
      "\n",
      "image 1/1 /fab3/btech/2022/snehanshu.pal22b/SolarPanel/yolo_dataset/images/test/solarpanels_native_3__x0_12025_y0_11428_dxdy_416.tif: 416x416 17 solar_panels, 89.6ms\n",
      "Speed: 3.3ms preprocess, 89.6ms inference, 1.9ms postprocess per image at shape (1, 3, 416, 416)\n",
      "\n",
      "image 1/1 /fab3/btech/2022/snehanshu.pal22b/SolarPanel/yolo_dataset/images/test/solarpanels_native_3__x0_9853_y0_14052_dxdy_416.tif: 416x416 4 solar_panels, 13.1ms\n",
      "Speed: 1.5ms preprocess, 13.1ms inference, 2.0ms postprocess per image at shape (1, 3, 416, 416)\n"
     ]
    },
    {
     "name": "stderr",
     "output_type": "stream",
     "text": [
      "Processing Images:  74%|███████▍  | 376/506 [00:30<00:06, 18.76it/s]"
     ]
    },
    {
     "name": "stdout",
     "output_type": "stream",
     "text": [
      "\n",
      "image 1/1 /fab3/btech/2022/snehanshu.pal22b/SolarPanel/yolo_dataset/images/test/solarpanels_native_1__x0_1530_y0_7108_dxdy_416.tif: 416x416 4 solar_panels, 40.7ms\n",
      "Speed: 1.7ms preprocess, 40.7ms inference, 1.7ms postprocess per image at shape (1, 3, 416, 416)\n",
      "\n",
      "image 1/1 /fab3/btech/2022/snehanshu.pal22b/SolarPanel/yolo_dataset/images/test/solarpanels_native_3__x0_3466_y0_0_dxdy_416.tif: 416x416 5 solar_panels, 14.2ms\n",
      "Speed: 1.8ms preprocess, 14.2ms inference, 3.0ms postprocess per image at shape (1, 3, 416, 416)\n",
      "\n",
      "image 1/1 /fab3/btech/2022/snehanshu.pal22b/SolarPanel/yolo_dataset/images/test/solarpanels_native_1__x0_4944_y0_12770_dxdy_416.tif: 416x416 2 solar_panels, 10.7ms\n",
      "Speed: 1.9ms preprocess, 10.7ms inference, 2.5ms postprocess per image at shape (1, 3, 416, 416)\n"
     ]
    },
    {
     "name": "stderr",
     "output_type": "stream",
     "text": [
      "Processing Images:  75%|███████▍  | 379/506 [00:30<00:06, 19.34it/s]"
     ]
    },
    {
     "name": "stdout",
     "output_type": "stream",
     "text": [
      "\n",
      "image 1/1 /fab3/btech/2022/snehanshu.pal22b/SolarPanel/yolo_dataset/images/test/solarpanels_native_2__x0_1222_y0_8777_dxdy_416.tif: 416x416 2 solar_panels, 41.6ms\n",
      "Speed: 2.2ms preprocess, 41.6ms inference, 4.7ms postprocess per image at shape (1, 3, 416, 416)\n",
      "\n",
      "image 1/1 /fab3/btech/2022/snehanshu.pal22b/SolarPanel/yolo_dataset/images/test/solarpanels_native_1__x0_7005_y0_9128_dxdy_416.tif: 416x416 8 solar_panels, 9.1ms\n",
      "Speed: 1.3ms preprocess, 9.1ms inference, 1.8ms postprocess per image at shape (1, 3, 416, 416)\n",
      "\n",
      "image 1/1 /fab3/btech/2022/snehanshu.pal22b/SolarPanel/yolo_dataset/images/test/solarpanels_native_3__x0_4330_y0_15437_dxdy_416.tif: 416x416 9 solar_panels, 9.5ms\n",
      "Speed: 1.3ms preprocess, 9.5ms inference, 1.8ms postprocess per image at shape (1, 3, 416, 416)\n"
     ]
    },
    {
     "name": "stderr",
     "output_type": "stream",
     "text": [
      "Processing Images:  75%|███████▌  | 382/506 [00:30<00:06, 19.63it/s]"
     ]
    },
    {
     "name": "stdout",
     "output_type": "stream",
     "text": [
      "\n",
      "image 1/1 /fab3/btech/2022/snehanshu.pal22b/SolarPanel/yolo_dataset/images/test/solarpanels_native_3__x0_2935_y0_8455_dxdy_416.tif: 416x416 2 solar_panels, 8.7ms\n",
      "Speed: 1.3ms preprocess, 8.7ms inference, 1.8ms postprocess per image at shape (1, 3, 416, 416)\n",
      "\n",
      "image 1/1 /fab3/btech/2022/snehanshu.pal22b/SolarPanel/yolo_dataset/images/test/solarpanels_native_2__x0_554_y0_10795_dxdy_416.tif: 416x416 49 solar_panels, 55.5ms\n",
      "Speed: 15.1ms preprocess, 55.5ms inference, 4.2ms postprocess per image at shape (1, 3, 416, 416)\n",
      "\n",
      "image 1/1 /fab3/btech/2022/snehanshu.pal22b/SolarPanel/yolo_dataset/images/test/solarpanels_native_3__x0_7455_y0_9661_dxdy_416.tif: 416x416 18 solar_panels, 23.9ms\n",
      "Speed: 3.5ms preprocess, 23.9ms inference, 4.6ms postprocess per image at shape (1, 3, 416, 416)\n"
     ]
    },
    {
     "name": "stderr",
     "output_type": "stream",
     "text": [
      "Processing Images:  76%|███████▌  | 385/506 [00:30<00:07, 16.61it/s]"
     ]
    },
    {
     "name": "stdout",
     "output_type": "stream",
     "text": [
      "\n",
      "image 1/1 /fab3/btech/2022/snehanshu.pal22b/SolarPanel/yolo_dataset/images/test/solarpanels_native_2__x0_6880_y0_9736_dxdy_416.tif: 416x416 4 solar_panels, 11.0ms\n",
      "Speed: 1.4ms preprocess, 11.0ms inference, 2.4ms postprocess per image at shape (1, 3, 416, 416)\n",
      "\n",
      "image 1/1 /fab3/btech/2022/snehanshu.pal22b/SolarPanel/yolo_dataset/images/test/solarpanels_native_3__x0_8489_y0_9347_dxdy_416.tif: 416x416 6 solar_panels, 10.5ms\n",
      "Speed: 1.5ms preprocess, 10.5ms inference, 2.6ms postprocess per image at shape (1, 3, 416, 416)\n",
      "\n",
      "image 1/1 /fab3/btech/2022/snehanshu.pal22b/SolarPanel/yolo_dataset/images/test/solarpanels_native_1__x0_7915_y0_8357_dxdy_416.tif: 416x416 20 solar_panels, 62.1ms\n",
      "Speed: 1.5ms preprocess, 62.1ms inference, 3.4ms postprocess per image at shape (1, 3, 416, 416)\n"
     ]
    },
    {
     "name": "stderr",
     "output_type": "stream",
     "text": [
      "Processing Images:  77%|███████▋  | 388/506 [00:31<00:06, 16.95it/s]"
     ]
    },
    {
     "name": "stdout",
     "output_type": "stream",
     "text": [
      "\n",
      "image 1/1 /fab3/btech/2022/snehanshu.pal22b/SolarPanel/yolo_dataset/images/test/solarpanels_native_2__x0_3768_y0_12575_dxdy_416.tif: 416x416 2 solar_panels, 20.6ms\n",
      "Speed: 1.1ms preprocess, 20.6ms inference, 2.0ms postprocess per image at shape (1, 3, 416, 416)\n",
      "\n",
      "image 1/1 /fab3/btech/2022/snehanshu.pal22b/SolarPanel/yolo_dataset/images/test/solarpanels_native_1__x0_4195_y0_13199_dxdy_416.tif: 416x416 11 solar_panels, 14.3ms\n",
      "Speed: 1.6ms preprocess, 14.3ms inference, 31.5ms postprocess per image at shape (1, 3, 416, 416)\n",
      "\n",
      "image 1/1 /fab3/btech/2022/snehanshu.pal22b/SolarPanel/yolo_dataset/images/test/solarpanels_native_3__x0_11036_y0_2409_dxdy_416.tif: 416x416 5 solar_panels, 24.4ms\n",
      "Speed: 1.9ms preprocess, 24.4ms inference, 1.9ms postprocess per image at shape (1, 3, 416, 416)\n"
     ]
    },
    {
     "name": "stderr",
     "output_type": "stream",
     "text": [
      "Processing Images:  77%|███████▋  | 391/506 [00:31<00:06, 16.83it/s]"
     ]
    },
    {
     "name": "stdout",
     "output_type": "stream",
     "text": [
      "\n",
      "image 1/1 /fab3/btech/2022/snehanshu.pal22b/SolarPanel/yolo_dataset/images/test/solarpanels_native_3__x0_8741_y0_13767_dxdy_416.tif: 416x416 7 solar_panels, 9.4ms\n",
      "Speed: 1.3ms preprocess, 9.4ms inference, 1.9ms postprocess per image at shape (1, 3, 416, 416)\n",
      "\n",
      "image 1/1 /fab3/btech/2022/snehanshu.pal22b/SolarPanel/yolo_dataset/images/test/solarpanels_native_2__x0_764_y0_10437_dxdy_416.tif: 416x416 64 solar_panels, 10.7ms\n",
      "Speed: 1.6ms preprocess, 10.7ms inference, 2.0ms postprocess per image at shape (1, 3, 416, 416)\n",
      "\n",
      "image 1/1 /fab3/btech/2022/snehanshu.pal22b/SolarPanel/yolo_dataset/images/test/solarpanels_native_2__x0_5828_y0_5677_dxdy_416.tif: 416x416 9 solar_panels, 32.0ms\n",
      "Speed: 2.4ms preprocess, 32.0ms inference, 3.5ms postprocess per image at shape (1, 3, 416, 416)\n"
     ]
    },
    {
     "name": "stderr",
     "output_type": "stream",
     "text": [
      "Processing Images:  78%|███████▊  | 394/506 [00:31<00:06, 18.03it/s]"
     ]
    },
    {
     "name": "stdout",
     "output_type": "stream",
     "text": [
      "\n",
      "image 1/1 /fab3/btech/2022/snehanshu.pal22b/SolarPanel/yolo_dataset/images/test/solarpanels_native_1__x0_2399_y0_9885_dxdy_416.tif: 416x416 1 solar_panel, 61.1ms\n",
      "Speed: 2.9ms preprocess, 61.1ms inference, 2.0ms postprocess per image at shape (1, 3, 416, 416)\n",
      "\n",
      "image 1/1 /fab3/btech/2022/snehanshu.pal22b/SolarPanel/yolo_dataset/images/test/solarpanels_native_1__x0_10056_y0_10656_dxdy_416.tif: 416x416 8 solar_panels, 15.7ms\n",
      "Speed: 2.1ms preprocess, 15.7ms inference, 3.2ms postprocess per image at shape (1, 3, 416, 416)\n"
     ]
    },
    {
     "name": "stderr",
     "output_type": "stream",
     "text": [
      "Processing Images:  78%|███████▊  | 396/506 [00:31<00:06, 16.83it/s]"
     ]
    },
    {
     "name": "stdout",
     "output_type": "stream",
     "text": [
      "\n",
      "image 1/1 /fab3/btech/2022/snehanshu.pal22b/SolarPanel/yolo_dataset/images/test/solarpanels_native_1__x0_4917_y0_5865_dxdy_416.tif: 416x416 10 solar_panels, 17.3ms\n",
      "Speed: 1.8ms preprocess, 17.3ms inference, 3.5ms postprocess per image at shape (1, 3, 416, 416)\n",
      "\n",
      "image 1/1 /fab3/btech/2022/snehanshu.pal22b/SolarPanel/yolo_dataset/images/test/solarpanels_native_3__x0_1301_y0_7523_dxdy_416.tif: 416x416 4 solar_panels, 24.2ms\n",
      "Speed: 2.5ms preprocess, 24.2ms inference, 3.4ms postprocess per image at shape (1, 3, 416, 416)\n"
     ]
    },
    {
     "name": "stderr",
     "output_type": "stream",
     "text": [
      "Processing Images:  79%|███████▊  | 398/506 [00:31<00:06, 16.01it/s]"
     ]
    },
    {
     "name": "stdout",
     "output_type": "stream",
     "text": [
      "\n",
      "image 1/1 /fab3/btech/2022/snehanshu.pal22b/SolarPanel/yolo_dataset/images/test/solarpanels_native_3__x0_5893_y0_10899_dxdy_416.tif: 416x416 10 solar_panels, 12.7ms\n",
      "Speed: 2.4ms preprocess, 12.7ms inference, 2.7ms postprocess per image at shape (1, 3, 416, 416)\n",
      "\n",
      "image 1/1 /fab3/btech/2022/snehanshu.pal22b/SolarPanel/yolo_dataset/images/test/solarpanels_native_1__x0_8356_y0_9984_dxdy_416.tif: 416x416 8 solar_panels, 22.6ms\n",
      "Speed: 2.2ms preprocess, 22.6ms inference, 3.2ms postprocess per image at shape (1, 3, 416, 416)\n"
     ]
    },
    {
     "name": "stderr",
     "output_type": "stream",
     "text": [
      "Processing Images:  79%|███████▉  | 400/506 [00:31<00:07, 13.63it/s]"
     ]
    },
    {
     "name": "stdout",
     "output_type": "stream",
     "text": [
      "\n",
      "image 1/1 /fab3/btech/2022/snehanshu.pal22b/SolarPanel/yolo_dataset/images/test/solarpanels_native_1__x0_1633_y0_6609_dxdy_416.tif: 416x416 13 solar_panels, 38.1ms\n",
      "Speed: 1.5ms preprocess, 38.1ms inference, 2.3ms postprocess per image at shape (1, 3, 416, 416)\n",
      "\n",
      "image 1/1 /fab3/btech/2022/snehanshu.pal22b/SolarPanel/yolo_dataset/images/test/solarpanels_native_1__x0_5004_y0_11451_dxdy_416.tif: 416x416 6 solar_panels, 50.8ms\n",
      "Speed: 2.0ms preprocess, 50.8ms inference, 3.2ms postprocess per image at shape (1, 3, 416, 416)\n"
     ]
    },
    {
     "name": "stderr",
     "output_type": "stream",
     "text": [
      "Processing Images:  79%|███████▉  | 402/506 [00:32<00:08, 12.35it/s]"
     ]
    },
    {
     "name": "stdout",
     "output_type": "stream",
     "text": [
      "\n",
      "image 1/1 /fab3/btech/2022/snehanshu.pal22b/SolarPanel/yolo_dataset/images/test/solarpanels_native_1__x0_8335_y0_7902_dxdy_416.tif: 416x416 12 solar_panels, 18.9ms\n",
      "Speed: 5.2ms preprocess, 18.9ms inference, 3.4ms postprocess per image at shape (1, 3, 416, 416)\n",
      "\n",
      "image 1/1 /fab3/btech/2022/snehanshu.pal22b/SolarPanel/yolo_dataset/images/test/solarpanels_native_1__x0_7842_y0_11212_dxdy_416.tif: 416x416 4 solar_panels, 73.6ms\n",
      "Speed: 3.8ms preprocess, 73.6ms inference, 3.5ms postprocess per image at shape (1, 3, 416, 416)\n"
     ]
    },
    {
     "name": "stderr",
     "output_type": "stream",
     "text": [
      "Processing Images:  80%|███████▉  | 404/506 [00:32<00:08, 11.48it/s]"
     ]
    },
    {
     "name": "stdout",
     "output_type": "stream",
     "text": [
      "\n",
      "image 1/1 /fab3/btech/2022/snehanshu.pal22b/SolarPanel/yolo_dataset/images/test/solarpanels_native_3__x0_9353_y0_0_dxdy_416.tif: 416x416 6 solar_panels, 19.3ms\n",
      "Speed: 2.2ms preprocess, 19.3ms inference, 11.3ms postprocess per image at shape (1, 3, 416, 416)\n",
      "\n",
      "image 1/1 /fab3/btech/2022/snehanshu.pal22b/SolarPanel/yolo_dataset/images/test/solarpanels_native_1__x0_8039_y0_8735_dxdy_416.tif: 416x416 9 solar_panels, 15.8ms\n",
      "Speed: 3.3ms preprocess, 15.8ms inference, 2.3ms postprocess per image at shape (1, 3, 416, 416)\n"
     ]
    },
    {
     "name": "stderr",
     "output_type": "stream",
     "text": [
      "Processing Images:  80%|████████  | 406/506 [00:32<00:09, 10.31it/s]"
     ]
    },
    {
     "name": "stdout",
     "output_type": "stream",
     "text": [
      "\n",
      "image 1/1 /fab3/btech/2022/snehanshu.pal22b/SolarPanel/yolo_dataset/images/test/solarpanels_native_1__x0_8467_y0_8566_dxdy_416.tif: 416x416 14 solar_panels, 13.7ms\n",
      "Speed: 1.8ms preprocess, 13.7ms inference, 3.0ms postprocess per image at shape (1, 3, 416, 416)\n",
      "\n",
      "image 1/1 /fab3/btech/2022/snehanshu.pal22b/SolarPanel/yolo_dataset/images/test/solarpanels_native_1__x0_10055_y0_11061_dxdy_416.tif: 416x416 7 solar_panels, 56.6ms\n",
      "Speed: 3.1ms preprocess, 56.6ms inference, 3.4ms postprocess per image at shape (1, 3, 416, 416)\n"
     ]
    },
    {
     "name": "stderr",
     "output_type": "stream",
     "text": [
      "Processing Images:  81%|████████  | 408/506 [00:32<00:09,  9.97it/s]"
     ]
    },
    {
     "name": "stdout",
     "output_type": "stream",
     "text": [
      "\n",
      "image 1/1 /fab3/btech/2022/snehanshu.pal22b/SolarPanel/yolo_dataset/images/test/solarpanels_native_1__x0_2472_y0_10223_dxdy_416.tif: 416x416 5 solar_panels, 27.9ms\n",
      "Speed: 6.5ms preprocess, 27.9ms inference, 1.7ms postprocess per image at shape (1, 3, 416, 416)\n",
      "\n",
      "image 1/1 /fab3/btech/2022/snehanshu.pal22b/SolarPanel/yolo_dataset/images/test/solarpanels_native_1__x0_6526_y0_9142_dxdy_416.tif: 416x416 14 solar_panels, 58.4ms\n",
      "Speed: 1.2ms preprocess, 58.4ms inference, 2.6ms postprocess per image at shape (1, 3, 416, 416)\n"
     ]
    },
    {
     "name": "stderr",
     "output_type": "stream",
     "text": [
      "Processing Images:  81%|████████  | 410/506 [00:32<00:09,  9.62it/s]"
     ]
    },
    {
     "name": "stdout",
     "output_type": "stream",
     "text": [
      "\n",
      "image 1/1 /fab3/btech/2022/snehanshu.pal22b/SolarPanel/yolo_dataset/images/test/solarpanels_native_1__x0_9730_y0_11495_dxdy_416.tif: 416x416 3 solar_panels, 15.1ms\n",
      "Speed: 2.0ms preprocess, 15.1ms inference, 2.9ms postprocess per image at shape (1, 3, 416, 416)\n"
     ]
    },
    {
     "name": "stderr",
     "output_type": "stream",
     "text": [
      "Processing Images:  81%|████████  | 411/506 [00:33<00:09,  9.59it/s]"
     ]
    },
    {
     "name": "stdout",
     "output_type": "stream",
     "text": [
      "\n",
      "image 1/1 /fab3/btech/2022/snehanshu.pal22b/SolarPanel/yolo_dataset/images/test/solarpanels_native_2__x0_9979_y0_7115_dxdy_416.tif: 416x416 4 solar_panels, 15.0ms\n",
      "Speed: 2.2ms preprocess, 15.0ms inference, 10.1ms postprocess per image at shape (1, 3, 416, 416)\n",
      "\n",
      "image 1/1 /fab3/btech/2022/snehanshu.pal22b/SolarPanel/yolo_dataset/images/test/solarpanels_native_3__x0_6712_y0_12875_dxdy_416.tif: 416x416 4 solar_panels, 47.1ms\n",
      "Speed: 2.3ms preprocess, 47.1ms inference, 1.7ms postprocess per image at shape (1, 3, 416, 416)\n"
     ]
    },
    {
     "name": "stderr",
     "output_type": "stream",
     "text": [
      "Processing Images:  82%|████████▏ | 413/506 [00:33<00:09, 10.18it/s]"
     ]
    },
    {
     "name": "stdout",
     "output_type": "stream",
     "text": [
      "\n",
      "image 1/1 /fab3/btech/2022/snehanshu.pal22b/SolarPanel/yolo_dataset/images/test/solarpanels_native_3__x0_8745_y0_11784_dxdy_416.tif: 416x416 2 solar_panels, 22.9ms\n",
      "Speed: 2.2ms preprocess, 22.9ms inference, 3.0ms postprocess per image at shape (1, 3, 416, 416)\n",
      "\n",
      "image 1/1 /fab3/btech/2022/snehanshu.pal22b/SolarPanel/yolo_dataset/images/test/solarpanels_native_1__x0_1604_y0_9392_dxdy_416.tif: 416x416 10 solar_panels, 17.2ms\n",
      "Speed: 2.2ms preprocess, 17.2ms inference, 1.9ms postprocess per image at shape (1, 3, 416, 416)\n",
      "\n",
      "image 1/1 /fab3/btech/2022/snehanshu.pal22b/SolarPanel/yolo_dataset/images/test/solarpanels_native_2__x0_10056_y0_3259_dxdy_416.tif: 416x416 10 solar_panels, 20.5ms\n",
      "Speed: 4.0ms preprocess, 20.5ms inference, 3.6ms postprocess per image at shape (1, 3, 416, 416)\n"
     ]
    },
    {
     "name": "stderr",
     "output_type": "stream",
     "text": [
      "Processing Images:  82%|████████▏ | 416/506 [00:33<00:06, 13.47it/s]"
     ]
    },
    {
     "name": "stdout",
     "output_type": "stream",
     "text": [
      "\n",
      "image 1/1 /fab3/btech/2022/snehanshu.pal22b/SolarPanel/yolo_dataset/images/test/solarpanels_native_3__x0_11706_y0_9146_dxdy_416.tif: 416x416 52 solar_panels, 49.8ms\n",
      "Speed: 1.5ms preprocess, 49.8ms inference, 3.1ms postprocess per image at shape (1, 3, 416, 416)\n",
      "\n",
      "image 1/1 /fab3/btech/2022/snehanshu.pal22b/SolarPanel/yolo_dataset/images/test/solarpanels_native_3__x0_12065_y0_11189_dxdy_416.tif: 416x416 10 solar_panels, 17.9ms\n",
      "Speed: 2.2ms preprocess, 17.9ms inference, 4.6ms postprocess per image at shape (1, 3, 416, 416)\n"
     ]
    },
    {
     "name": "stderr",
     "output_type": "stream",
     "text": [
      "Processing Images:  83%|████████▎ | 418/506 [00:33<00:08, 10.82it/s]"
     ]
    },
    {
     "name": "stdout",
     "output_type": "stream",
     "text": [
      "\n",
      "image 1/1 /fab3/btech/2022/snehanshu.pal22b/SolarPanel/yolo_dataset/images/test/solarpanels_native_3__x0_8516_y0_14283_dxdy_416.tif: 416x416 14 solar_panels, 15.4ms\n",
      "Speed: 1.3ms preprocess, 15.4ms inference, 1.7ms postprocess per image at shape (1, 3, 416, 416)\n",
      "\n",
      "image 1/1 /fab3/btech/2022/snehanshu.pal22b/SolarPanel/yolo_dataset/images/test/solarpanels_native_2__x0_9973_y0_3113_dxdy_416.tif: 416x416 11 solar_panels, 31.0ms\n",
      "Speed: 3.4ms preprocess, 31.0ms inference, 1.6ms postprocess per image at shape (1, 3, 416, 416)\n"
     ]
    },
    {
     "name": "stderr",
     "output_type": "stream",
     "text": [
      "Processing Images:  83%|████████▎ | 420/506 [00:33<00:07, 12.05it/s]"
     ]
    },
    {
     "name": "stdout",
     "output_type": "stream",
     "text": [
      "\n",
      "image 1/1 /fab3/btech/2022/snehanshu.pal22b/SolarPanel/yolo_dataset/images/test/solarpanels_native_3__x0_5913_y0_12334_dxdy_416.tif: 416x416 6 solar_panels, 70.4ms\n",
      "Speed: 35.5ms preprocess, 70.4ms inference, 2.1ms postprocess per image at shape (1, 3, 416, 416)\n",
      "\n",
      "image 1/1 /fab3/btech/2022/snehanshu.pal22b/SolarPanel/yolo_dataset/images/test/solarpanels_native_3__x0_11097_y0_9536_dxdy_416.tif: 416x416 27 solar_panels, 16.3ms\n",
      "Speed: 2.5ms preprocess, 16.3ms inference, 3.2ms postprocess per image at shape (1, 3, 416, 416)\n"
     ]
    },
    {
     "name": "stderr",
     "output_type": "stream",
     "text": [
      "Processing Images:  83%|████████▎ | 422/506 [00:34<00:07, 10.65it/s]"
     ]
    },
    {
     "name": "stdout",
     "output_type": "stream",
     "text": [
      "\n",
      "image 1/1 /fab3/btech/2022/snehanshu.pal22b/SolarPanel/yolo_dataset/images/test/solarpanels_native_3__x0_11777_y0_9195_dxdy_416.tif: 416x416 51 solar_panels, 18.4ms\n",
      "Speed: 3.1ms preprocess, 18.4ms inference, 3.9ms postprocess per image at shape (1, 3, 416, 416)\n",
      "\n",
      "image 1/1 /fab3/btech/2022/snehanshu.pal22b/SolarPanel/yolo_dataset/images/test/solarpanels_native_3__x0_1083_y0_6568_dxdy_416.tif: 416x416 4 solar_panels, 21.1ms\n",
      "Speed: 10.4ms preprocess, 21.1ms inference, 2.3ms postprocess per image at shape (1, 3, 416, 416)\n"
     ]
    },
    {
     "name": "stderr",
     "output_type": "stream",
     "text": [
      "Processing Images:  84%|████████▍ | 424/506 [00:34<00:06, 12.07it/s]"
     ]
    },
    {
     "name": "stdout",
     "output_type": "stream",
     "text": [
      "\n",
      "image 1/1 /fab3/btech/2022/snehanshu.pal22b/SolarPanel/yolo_dataset/images/test/solarpanels_native_3__x0_4028_y0_12682_dxdy_416.tif: 416x416 7 solar_panels, 12.4ms\n",
      "Speed: 2.0ms preprocess, 12.4ms inference, 3.2ms postprocess per image at shape (1, 3, 416, 416)\n",
      "\n",
      "image 1/1 /fab3/btech/2022/snehanshu.pal22b/SolarPanel/yolo_dataset/images/test/solarpanels_native_1__x0_9783_y0_10933_dxdy_416.tif: 416x416 10 solar_panels, 15.4ms\n",
      "Speed: 1.9ms preprocess, 15.4ms inference, 19.4ms postprocess per image at shape (1, 3, 416, 416)\n"
     ]
    },
    {
     "name": "stderr",
     "output_type": "stream",
     "text": [
      "Processing Images:  84%|████████▍ | 426/506 [00:34<00:06, 12.25it/s]"
     ]
    },
    {
     "name": "stdout",
     "output_type": "stream",
     "text": [
      "\n",
      "image 1/1 /fab3/btech/2022/snehanshu.pal22b/SolarPanel/yolo_dataset/images/test/solarpanels_native_1__x0_9250_y0_10525_dxdy_416.tif: 416x416 5 solar_panels, 14.9ms\n",
      "Speed: 1.9ms preprocess, 14.9ms inference, 8.0ms postprocess per image at shape (1, 3, 416, 416)\n",
      "\n",
      "image 1/1 /fab3/btech/2022/snehanshu.pal22b/SolarPanel/yolo_dataset/images/test/solarpanels_native_1__x0_4706_y0_11755_dxdy_416.tif: 416x416 13 solar_panels, 58.9ms\n",
      "Speed: 1.8ms preprocess, 58.9ms inference, 2.8ms postprocess per image at shape (1, 3, 416, 416)\n"
     ]
    },
    {
     "name": "stderr",
     "output_type": "stream",
     "text": [
      "Processing Images:  85%|████████▍ | 428/506 [00:34<00:06, 12.49it/s]"
     ]
    },
    {
     "name": "stdout",
     "output_type": "stream",
     "text": [
      "\n",
      "image 1/1 /fab3/btech/2022/snehanshu.pal22b/SolarPanel/yolo_dataset/images/test/solarpanels_native_3__x0_4842_y0_12852_dxdy_416.tif: 416x416 10 solar_panels, 53.2ms\n",
      "Speed: 2.6ms preprocess, 53.2ms inference, 40.5ms postprocess per image at shape (1, 3, 416, 416)\n",
      "\n",
      "image 1/1 /fab3/btech/2022/snehanshu.pal22b/SolarPanel/yolo_dataset/images/test/solarpanels_native_3__x0_12082_y0_11609_dxdy_416.tif: 416x416 11 solar_panels, 47.0ms\n",
      "Speed: 1.8ms preprocess, 47.0ms inference, 3.1ms postprocess per image at shape (1, 3, 416, 416)\n"
     ]
    },
    {
     "name": "stderr",
     "output_type": "stream",
     "text": [
      "Processing Images:  85%|████████▍ | 430/506 [00:34<00:06, 11.53it/s]"
     ]
    },
    {
     "name": "stdout",
     "output_type": "stream",
     "text": [
      "\n",
      "image 1/1 /fab3/btech/2022/snehanshu.pal22b/SolarPanel/yolo_dataset/images/test/solarpanels_native_2__x0_5175_y0_5766_dxdy_416.tif: 416x416 19 solar_panels, 11.4ms\n",
      "Speed: 1.7ms preprocess, 11.4ms inference, 2.6ms postprocess per image at shape (1, 3, 416, 416)\n",
      "\n",
      "image 1/1 /fab3/btech/2022/snehanshu.pal22b/SolarPanel/yolo_dataset/images/test/solarpanels_native_3__x0_4438_y0_3806_dxdy_416.tif: 416x416 9 solar_panels, 40.4ms\n",
      "Speed: 1.6ms preprocess, 40.4ms inference, 1.7ms postprocess per image at shape (1, 3, 416, 416)\n"
     ]
    },
    {
     "name": "stderr",
     "output_type": "stream",
     "text": [
      "Processing Images:  85%|████████▌ | 432/506 [00:34<00:05, 12.61it/s]"
     ]
    },
    {
     "name": "stdout",
     "output_type": "stream",
     "text": [
      "\n",
      "image 1/1 /fab3/btech/2022/snehanshu.pal22b/SolarPanel/yolo_dataset/images/test/solarpanels_native_3__x0_7208_y0_12603_dxdy_416.tif: 416x416 3 solar_panels, 8.8ms\n",
      "Speed: 1.2ms preprocess, 8.8ms inference, 1.7ms postprocess per image at shape (1, 3, 416, 416)\n",
      "\n",
      "image 1/1 /fab3/btech/2022/snehanshu.pal22b/SolarPanel/yolo_dataset/images/test/solarpanels_native_1__x0_1611_y0_9874_dxdy_416.tif: 416x416 7 solar_panels, 11.3ms\n",
      "Speed: 1.1ms preprocess, 11.3ms inference, 3.6ms postprocess per image at shape (1, 3, 416, 416)\n",
      "\n",
      "image 1/1 /fab3/btech/2022/snehanshu.pal22b/SolarPanel/yolo_dataset/images/test/solarpanels_native_3__x0_4350_y0_3556_dxdy_416.tif: 416x416 9 solar_panels, 11.3ms\n",
      "Speed: 1.5ms preprocess, 11.3ms inference, 6.9ms postprocess per image at shape (1, 3, 416, 416)\n"
     ]
    },
    {
     "name": "stderr",
     "output_type": "stream",
     "text": [
      "Processing Images:  86%|████████▌ | 435/506 [00:34<00:04, 14.63it/s]"
     ]
    },
    {
     "name": "stdout",
     "output_type": "stream",
     "text": [
      "\n",
      "image 1/1 /fab3/btech/2022/snehanshu.pal22b/SolarPanel/yolo_dataset/images/test/solarpanels_native_2__x0_885_y0_10446_dxdy_416.tif: 416x416 60 solar_panels, 11.4ms\n",
      "Speed: 1.3ms preprocess, 11.4ms inference, 2.7ms postprocess per image at shape (1, 3, 416, 416)\n",
      "\n",
      "image 1/1 /fab3/btech/2022/snehanshu.pal22b/SolarPanel/yolo_dataset/images/test/solarpanels_native_3__x0_5786_y0_11730_dxdy_416.tif: 416x416 3 solar_panels, 27.3ms\n",
      "Speed: 1.7ms preprocess, 27.3ms inference, 3.9ms postprocess per image at shape (1, 3, 416, 416)\n",
      "\n",
      "image 1/1 /fab3/btech/2022/snehanshu.pal22b/SolarPanel/yolo_dataset/images/test/solarpanels_native_1__x0_1892_y0_8473_dxdy_416.tif: 416x416 3 solar_panels, 10.5ms\n",
      "Speed: 1.7ms preprocess, 10.5ms inference, 2.8ms postprocess per image at shape (1, 3, 416, 416)\n"
     ]
    },
    {
     "name": "stderr",
     "output_type": "stream",
     "text": [
      "Processing Images:  87%|████████▋ | 438/506 [00:35<00:03, 17.37it/s]"
     ]
    },
    {
     "name": "stdout",
     "output_type": "stream",
     "text": [
      "\n",
      "image 1/1 /fab3/btech/2022/snehanshu.pal22b/SolarPanel/yolo_dataset/images/test/solarpanels_native_2__x0_838_y0_10659_dxdy_416.tif: 416x416 54 solar_panels, 26.4ms\n",
      "Speed: 1.9ms preprocess, 26.4ms inference, 2.4ms postprocess per image at shape (1, 3, 416, 416)\n",
      "\n",
      "image 1/1 /fab3/btech/2022/snehanshu.pal22b/SolarPanel/yolo_dataset/images/test/solarpanels_native_3__x0_11802_y0_9198_dxdy_416.tif: 416x416 51 solar_panels, 9.3ms\n",
      "Speed: 1.4ms preprocess, 9.3ms inference, 1.6ms postprocess per image at shape (1, 3, 416, 416)\n"
     ]
    },
    {
     "name": "stderr",
     "output_type": "stream",
     "text": [
      "Processing Images:  87%|████████▋ | 440/506 [00:35<00:04, 16.48it/s]"
     ]
    },
    {
     "name": "stdout",
     "output_type": "stream",
     "text": [
      "\n",
      "image 1/1 /fab3/btech/2022/snehanshu.pal22b/SolarPanel/yolo_dataset/images/test/solarpanels_native_1__x0_4225_y0_6594_dxdy_416.tif: 416x416 4 solar_panels, 18.3ms\n",
      "Speed: 1.9ms preprocess, 18.3ms inference, 2.5ms postprocess per image at shape (1, 3, 416, 416)\n",
      "\n",
      "image 1/1 /fab3/btech/2022/snehanshu.pal22b/SolarPanel/yolo_dataset/images/test/solarpanels_native_2__x0_404_y0_10965_dxdy_416.tif: 416x416 51 solar_panels, 8.3ms\n",
      "Speed: 1.5ms preprocess, 8.3ms inference, 1.7ms postprocess per image at shape (1, 3, 416, 416)\n",
      "\n",
      "image 1/1 /fab3/btech/2022/snehanshu.pal22b/SolarPanel/yolo_dataset/images/test/solarpanels_native_1__x0_1981_y0_9632_dxdy_416.tif: 416x416 5 solar_panels, 9.2ms\n",
      "Speed: 1.2ms preprocess, 9.2ms inference, 3.0ms postprocess per image at shape (1, 3, 416, 416)\n"
     ]
    },
    {
     "name": "stderr",
     "output_type": "stream",
     "text": [
      "Processing Images:  88%|████████▊ | 443/506 [00:35<00:03, 18.21it/s]"
     ]
    },
    {
     "name": "stdout",
     "output_type": "stream",
     "text": [
      "\n",
      "image 1/1 /fab3/btech/2022/snehanshu.pal22b/SolarPanel/yolo_dataset/images/test/solarpanels_native_3__x0_5728_y0_3548_dxdy_416.tif: 416x416 9 solar_panels, 26.6ms\n",
      "Speed: 1.2ms preprocess, 26.6ms inference, 1.8ms postprocess per image at shape (1, 3, 416, 416)\n",
      "\n",
      "image 1/1 /fab3/btech/2022/snehanshu.pal22b/SolarPanel/yolo_dataset/images/test/solarpanels_native_2__x0_1082_y0_8819_dxdy_416.tif: 416x416 7 solar_panels, 28.0ms\n",
      "Speed: 1.5ms preprocess, 28.0ms inference, 4.6ms postprocess per image at shape (1, 3, 416, 416)\n",
      "\n",
      "image 1/1 /fab3/btech/2022/snehanshu.pal22b/SolarPanel/yolo_dataset/images/test/solarpanels_native_1__x0_0_y0_7513_dxdy_416.tif: 416x416 4 solar_panels, 15.2ms\n",
      "Speed: 5.0ms preprocess, 15.2ms inference, 2.0ms postprocess per image at shape (1, 3, 416, 416)\n"
     ]
    },
    {
     "name": "stderr",
     "output_type": "stream",
     "text": [
      "Processing Images:  88%|████████▊ | 446/506 [00:35<00:03, 19.87it/s]"
     ]
    },
    {
     "name": "stdout",
     "output_type": "stream",
     "text": [
      "\n",
      "image 1/1 /fab3/btech/2022/snehanshu.pal22b/SolarPanel/yolo_dataset/images/test/solarpanels_native_2__x0_0_y0_11645_dxdy_416.tif: 416x416 42 solar_panels, 29.0ms\n",
      "Speed: 2.4ms preprocess, 29.0ms inference, 2.5ms postprocess per image at shape (1, 3, 416, 416)\n",
      "\n",
      "image 1/1 /fab3/btech/2022/snehanshu.pal22b/SolarPanel/yolo_dataset/images/test/solarpanels_native_3__x0_7860_y0_9084_dxdy_416.tif: 416x416 3 solar_panels, 25.5ms\n",
      "Speed: 1.9ms preprocess, 25.5ms inference, 2.9ms postprocess per image at shape (1, 3, 416, 416)\n",
      "\n",
      "image 1/1 /fab3/btech/2022/snehanshu.pal22b/SolarPanel/yolo_dataset/images/test/solarpanels_native_2__x0_2765_y0_4789_dxdy_416.tif: 416x416 10 solar_panels, 38.9ms\n",
      "Speed: 2.8ms preprocess, 38.9ms inference, 15.4ms postprocess per image at shape (1, 3, 416, 416)\n"
     ]
    },
    {
     "name": "stderr",
     "output_type": "stream",
     "text": [
      "Processing Images:  89%|████████▊ | 449/506 [00:35<00:03, 16.64it/s]"
     ]
    },
    {
     "name": "stdout",
     "output_type": "stream",
     "text": [
      "\n",
      "image 1/1 /fab3/btech/2022/snehanshu.pal22b/SolarPanel/yolo_dataset/images/test/solarpanels_native_1__x0_6625_y0_12006_dxdy_416.tif: 416x416 15 solar_panels, 17.8ms\n",
      "Speed: 2.1ms preprocess, 17.8ms inference, 2.2ms postprocess per image at shape (1, 3, 416, 416)\n",
      "\n",
      "image 1/1 /fab3/btech/2022/snehanshu.pal22b/SolarPanel/yolo_dataset/images/test/solarpanels_native_3__x0_8867_y0_9613_dxdy_416.tif: 416x416 3 solar_panels, 10.5ms\n",
      "Speed: 2.2ms preprocess, 10.5ms inference, 2.1ms postprocess per image at shape (1, 3, 416, 416)\n",
      "\n",
      "image 1/1 /fab3/btech/2022/snehanshu.pal22b/SolarPanel/yolo_dataset/images/test/solarpanels_native_1__x0_4487_y0_11052_dxdy_416.tif: 416x416 2 solar_panels, 39.7ms\n",
      "Speed: 2.2ms preprocess, 39.7ms inference, 1.9ms postprocess per image at shape (1, 3, 416, 416)\n"
     ]
    },
    {
     "name": "stderr",
     "output_type": "stream",
     "text": [
      "Processing Images:  89%|████████▉ | 452/506 [00:35<00:03, 17.08it/s]"
     ]
    },
    {
     "name": "stdout",
     "output_type": "stream",
     "text": [
      "\n",
      "image 1/1 /fab3/btech/2022/snehanshu.pal22b/SolarPanel/yolo_dataset/images/test/solarpanels_native_2__x0_13258_y0_5405_dxdy_416.tif: 416x416 6 solar_panels, 10.3ms\n",
      "Speed: 2.5ms preprocess, 10.3ms inference, 2.2ms postprocess per image at shape (1, 3, 416, 416)\n",
      "\n",
      "image 1/1 /fab3/btech/2022/snehanshu.pal22b/SolarPanel/yolo_dataset/images/test/solarpanels_native_1__x0_439_y0_6944_dxdy_416.tif: 416x416 10 solar_panels, 70.9ms\n",
      "Speed: 4.0ms preprocess, 70.9ms inference, 2.3ms postprocess per image at shape (1, 3, 416, 416)\n"
     ]
    },
    {
     "name": "stderr",
     "output_type": "stream",
     "text": [
      "Processing Images:  90%|████████▉ | 454/506 [00:35<00:03, 15.82it/s]"
     ]
    },
    {
     "name": "stdout",
     "output_type": "stream",
     "text": [
      "\n",
      "image 1/1 /fab3/btech/2022/snehanshu.pal22b/SolarPanel/yolo_dataset/images/test/solarpanels_native_1__x0_2180_y0_8557_dxdy_416.tif: 416x416 2 solar_panels, 17.3ms\n",
      "Speed: 2.3ms preprocess, 17.3ms inference, 12.8ms postprocess per image at shape (1, 3, 416, 416)\n",
      "\n",
      "image 1/1 /fab3/btech/2022/snehanshu.pal22b/SolarPanel/yolo_dataset/images/test/solarpanels_native_3__x0_5978_y0_3582_dxdy_416.tif: 416x416 10 solar_panels, 8.5ms\n",
      "Speed: 1.3ms preprocess, 8.5ms inference, 1.9ms postprocess per image at shape (1, 3, 416, 416)\n",
      "\n",
      "image 1/1 /fab3/btech/2022/snehanshu.pal22b/SolarPanel/yolo_dataset/images/test/solarpanels_native_2__x0_0_y0_894_dxdy_416.tif: 416x416 7 solar_panels, 56.8ms\n",
      "Speed: 2.1ms preprocess, 56.8ms inference, 2.2ms postprocess per image at shape (1, 3, 416, 416)\n"
     ]
    },
    {
     "name": "stderr",
     "output_type": "stream",
     "text": [
      "Processing Images:  90%|█████████ | 457/506 [00:36<00:03, 15.20it/s]"
     ]
    },
    {
     "name": "stdout",
     "output_type": "stream",
     "text": [
      "\n",
      "image 1/1 /fab3/btech/2022/snehanshu.pal22b/SolarPanel/yolo_dataset/images/test/solarpanels_native_2__x0_472_y0_11254_dxdy_416.tif: 416x416 22 solar_panels, 9.9ms\n",
      "Speed: 1.7ms preprocess, 9.9ms inference, 1.9ms postprocess per image at shape (1, 3, 416, 416)\n",
      "\n",
      "image 1/1 /fab3/btech/2022/snehanshu.pal22b/SolarPanel/yolo_dataset/images/test/solarpanels_native_1__x0_3867_y0_11840_dxdy_416.tif: 416x416 10 solar_panels, 10.6ms\n",
      "Speed: 1.4ms preprocess, 10.6ms inference, 1.9ms postprocess per image at shape (1, 3, 416, 416)\n"
     ]
    },
    {
     "name": "stderr",
     "output_type": "stream",
     "text": [
      "Processing Images:  91%|█████████ | 459/506 [00:36<00:03, 15.18it/s]"
     ]
    },
    {
     "name": "stdout",
     "output_type": "stream",
     "text": [
      "\n",
      "image 1/1 /fab3/btech/2022/snehanshu.pal22b/SolarPanel/yolo_dataset/images/test/solarpanels_native_1__x0_6641_y0_11250_dxdy_416.tif: 416x416 2 solar_panels, 76.8ms\n",
      "Speed: 1.3ms preprocess, 76.8ms inference, 2.1ms postprocess per image at shape (1, 3, 416, 416)\n",
      "\n",
      "image 1/1 /fab3/btech/2022/snehanshu.pal22b/SolarPanel/yolo_dataset/images/test/solarpanels_native_2__x0_7958_y0_2409_dxdy_416.tif: 416x416 13 solar_panels, 11.0ms\n",
      "Speed: 1.9ms preprocess, 11.0ms inference, 2.3ms postprocess per image at shape (1, 3, 416, 416)\n"
     ]
    },
    {
     "name": "stderr",
     "output_type": "stream",
     "text": [
      "Processing Images:  91%|█████████ | 461/506 [00:36<00:02, 15.15it/s]"
     ]
    },
    {
     "name": "stdout",
     "output_type": "stream",
     "text": [
      "\n",
      "image 1/1 /fab3/btech/2022/snehanshu.pal22b/SolarPanel/yolo_dataset/images/test/solarpanels_native_3__x0_11708_y0_9087_dxdy_416.tif: 416x416 52 solar_panels, 22.9ms\n",
      "Speed: 1.9ms preprocess, 22.9ms inference, 2.3ms postprocess per image at shape (1, 3, 416, 416)\n",
      "\n",
      "image 1/1 /fab3/btech/2022/snehanshu.pal22b/SolarPanel/yolo_dataset/images/test/solarpanels_native_1__x0_1663_y0_7088_dxdy_416.tif: 416x416 12 solar_panels, 49.3ms\n",
      "Speed: 1.9ms preprocess, 49.3ms inference, 2.2ms postprocess per image at shape (1, 3, 416, 416)\n"
     ]
    },
    {
     "name": "stderr",
     "output_type": "stream",
     "text": [
      "Processing Images:  92%|█████████▏| 463/506 [00:36<00:03, 13.87it/s]"
     ]
    },
    {
     "name": "stdout",
     "output_type": "stream",
     "text": [
      "\n",
      "image 1/1 /fab3/btech/2022/snehanshu.pal22b/SolarPanel/yolo_dataset/images/test/solarpanels_native_1__x0_1296_y0_6610_dxdy_416.tif: 416x416 10 solar_panels, 14.9ms\n",
      "Speed: 1.8ms preprocess, 14.9ms inference, 18.8ms postprocess per image at shape (1, 3, 416, 416)\n",
      "\n",
      "image 1/1 /fab3/btech/2022/snehanshu.pal22b/SolarPanel/yolo_dataset/images/test/solarpanels_native_3__x0_1044_y0_7709_dxdy_416.tif: 416x416 5 solar_panels, 13.6ms\n",
      "Speed: 1.3ms preprocess, 13.6ms inference, 2.1ms postprocess per image at shape (1, 3, 416, 416)\n"
     ]
    },
    {
     "name": "stderr",
     "output_type": "stream",
     "text": [
      "Processing Images:  92%|█████████▏| 465/506 [00:36<00:02, 14.22it/s]"
     ]
    },
    {
     "name": "stdout",
     "output_type": "stream",
     "text": [
      "\n",
      "image 1/1 /fab3/btech/2022/snehanshu.pal22b/SolarPanel/yolo_dataset/images/test/solarpanels_native_3__x0_5349_y0_12997_dxdy_416.tif: 416x416 16 solar_panels, 13.9ms\n",
      "Speed: 1.5ms preprocess, 13.9ms inference, 2.2ms postprocess per image at shape (1, 3, 416, 416)\n",
      "\n",
      "image 1/1 /fab3/btech/2022/snehanshu.pal22b/SolarPanel/yolo_dataset/images/test/solarpanels_native_3__x0_11684_y0_9078_dxdy_416.tif: 416x416 52 solar_panels, 15.3ms\n",
      "Speed: 1.7ms preprocess, 15.3ms inference, 2.7ms postprocess per image at shape (1, 3, 416, 416)\n",
      "\n",
      "image 1/1 /fab3/btech/2022/snehanshu.pal22b/SolarPanel/yolo_dataset/images/test/solarpanels_native_3__x0_2187_y0_13474_dxdy_416.tif: 416x416 6 solar_panels, 66.4ms\n",
      "Speed: 1.8ms preprocess, 66.4ms inference, 3.0ms postprocess per image at shape (1, 3, 416, 416)\n"
     ]
    },
    {
     "name": "stderr",
     "output_type": "stream",
     "text": [
      "Processing Images:  92%|█████████▏| 468/506 [00:36<00:02, 14.53it/s]"
     ]
    },
    {
     "name": "stdout",
     "output_type": "stream",
     "text": [
      "\n",
      "image 1/1 /fab3/btech/2022/snehanshu.pal22b/SolarPanel/yolo_dataset/images/test/solarpanels_native_1__x0_0_y0_6845_dxdy_416.tif: 416x416 9 solar_panels, 12.1ms\n",
      "Speed: 2.0ms preprocess, 12.1ms inference, 2.2ms postprocess per image at shape (1, 3, 416, 416)\n",
      "\n",
      "image 1/1 /fab3/btech/2022/snehanshu.pal22b/SolarPanel/yolo_dataset/images/test/solarpanels_native_1__x0_3919_y0_10836_dxdy_416.tif: 416x416 3 solar_panels, 46.9ms\n",
      "Speed: 29.0ms preprocess, 46.9ms inference, 15.6ms postprocess per image at shape (1, 3, 416, 416)\n"
     ]
    },
    {
     "name": "stderr",
     "output_type": "stream",
     "text": [
      "Processing Images:  93%|█████████▎| 470/506 [00:37<00:02, 14.24it/s]"
     ]
    },
    {
     "name": "stdout",
     "output_type": "stream",
     "text": [
      "\n",
      "image 1/1 /fab3/btech/2022/snehanshu.pal22b/SolarPanel/yolo_dataset/images/test/solarpanels_native_1__x0_6650_y0_12095_dxdy_416.tif: 416x416 36 solar_panels, 41.2ms\n",
      "Speed: 2.1ms preprocess, 41.2ms inference, 2.7ms postprocess per image at shape (1, 3, 416, 416)\n",
      "\n",
      "image 1/1 /fab3/btech/2022/snehanshu.pal22b/SolarPanel/yolo_dataset/images/test/solarpanels_native_1__x0_13725_y0_14849_dxdy_416.tif: 416x416 4 solar_panels, 23.3ms\n",
      "Speed: 1.5ms preprocess, 23.3ms inference, 1.8ms postprocess per image at shape (1, 3, 416, 416)\n"
     ]
    },
    {
     "name": "stderr",
     "output_type": "stream",
     "text": [
      "Processing Images:  93%|█████████▎| 472/506 [00:37<00:02, 12.27it/s]"
     ]
    },
    {
     "name": "stdout",
     "output_type": "stream",
     "text": [
      "\n",
      "image 1/1 /fab3/btech/2022/snehanshu.pal22b/SolarPanel/yolo_dataset/images/test/solarpanels_native_2__x0_15666_y0_13900_dxdy_416.tif: 416x416 7 solar_panels, 74.5ms\n",
      "Speed: 1.7ms preprocess, 74.5ms inference, 3.9ms postprocess per image at shape (1, 3, 416, 416)\n",
      "\n",
      "image 1/1 /fab3/btech/2022/snehanshu.pal22b/SolarPanel/yolo_dataset/images/test/solarpanels_native_1__x0_8096_y0_12164_dxdy_416.tif: 416x416 20 solar_panels, 9.0ms\n",
      "Speed: 11.6ms preprocess, 9.0ms inference, 3.0ms postprocess per image at shape (1, 3, 416, 416)\n"
     ]
    },
    {
     "name": "stderr",
     "output_type": "stream",
     "text": [
      "Processing Images:  94%|█████████▎| 474/506 [00:37<00:02, 11.57it/s]"
     ]
    },
    {
     "name": "stdout",
     "output_type": "stream",
     "text": [
      "\n",
      "image 1/1 /fab3/btech/2022/snehanshu.pal22b/SolarPanel/yolo_dataset/images/test/solarpanels_native_1__x0_4944_y0_5896_dxdy_416.tif: 416x416 8 solar_panels, 11.7ms\n",
      "Speed: 1.8ms preprocess, 11.7ms inference, 2.2ms postprocess per image at shape (1, 3, 416, 416)\n",
      "\n",
      "image 1/1 /fab3/btech/2022/snehanshu.pal22b/SolarPanel/yolo_dataset/images/test/solarpanels_native_1__x0_7813_y0_8383_dxdy_416.tif: 416x416 31 solar_panels, 17.5ms\n",
      "Speed: 1.6ms preprocess, 17.5ms inference, 1.8ms postprocess per image at shape (1, 3, 416, 416)\n",
      "\n",
      "image 1/1 /fab3/btech/2022/snehanshu.pal22b/SolarPanel/yolo_dataset/images/test/solarpanels_native_3__x0_5911_y0_11096_dxdy_416.tif: 416x416 13 solar_panels, 9.7ms\n",
      "Speed: 1.1ms preprocess, 9.7ms inference, 1.8ms postprocess per image at shape (1, 3, 416, 416)\n"
     ]
    },
    {
     "name": "stderr",
     "output_type": "stream",
     "text": [
      "Processing Images:  94%|█████████▍| 477/506 [00:37<00:02, 14.34it/s]"
     ]
    },
    {
     "name": "stdout",
     "output_type": "stream",
     "text": [
      "\n",
      "image 1/1 /fab3/btech/2022/snehanshu.pal22b/SolarPanel/yolo_dataset/images/test/solarpanels_native_3__x0_11974_y0_11547_dxdy_416.tif: 416x416 11 solar_panels, 63.6ms\n",
      "Speed: 1.3ms preprocess, 63.6ms inference, 18.1ms postprocess per image at shape (1, 3, 416, 416)\n",
      "\n",
      "image 1/1 /fab3/btech/2022/snehanshu.pal22b/SolarPanel/yolo_dataset/images/test/solarpanels_native_1__x0_7_y0_6959_dxdy_416.tif: 416x416 13 solar_panels, 15.2ms\n",
      "Speed: 1.8ms preprocess, 15.2ms inference, 56.7ms postprocess per image at shape (1, 3, 416, 416)\n"
     ]
    },
    {
     "name": "stderr",
     "output_type": "stream",
     "text": [
      "Processing Images:  95%|█████████▍| 479/506 [00:37<00:02, 11.40it/s]"
     ]
    },
    {
     "name": "stdout",
     "output_type": "stream",
     "text": [
      "\n",
      "image 1/1 /fab3/btech/2022/snehanshu.pal22b/SolarPanel/yolo_dataset/images/test/solarpanels_native_3__x0_10456_y0_10114_dxdy_416.tif: 416x416 13 solar_panels, 15.3ms\n",
      "Speed: 2.7ms preprocess, 15.3ms inference, 7.2ms postprocess per image at shape (1, 3, 416, 416)\n",
      "\n",
      "image 1/1 /fab3/btech/2022/snehanshu.pal22b/SolarPanel/yolo_dataset/images/test/solarpanels_native_1__x0_3784_y0_11665_dxdy_416.tif: 416x416 30 solar_panels, 12.9ms\n",
      "Speed: 2.6ms preprocess, 12.9ms inference, 2.2ms postprocess per image at shape (1, 3, 416, 416)\n",
      "\n",
      "image 1/1 /fab3/btech/2022/snehanshu.pal22b/SolarPanel/yolo_dataset/images/test/solarpanels_native_2__x0_1167_y0_8430_dxdy_416.tif: 416x416 6 solar_panels, 16.2ms\n",
      "Speed: 2.2ms preprocess, 16.2ms inference, 24.2ms postprocess per image at shape (1, 3, 416, 416)\n"
     ]
    },
    {
     "name": "stderr",
     "output_type": "stream",
     "text": [
      "Processing Images:  95%|█████████▌| 482/506 [00:38<00:01, 13.03it/s]"
     ]
    },
    {
     "name": "stdout",
     "output_type": "stream",
     "text": [
      "\n",
      "image 1/1 /fab3/btech/2022/snehanshu.pal22b/SolarPanel/yolo_dataset/images/test/solarpanels_native_3__x0_8603_y0_14515_dxdy_416.tif: 416x416 10 solar_panels, 17.6ms\n",
      "Speed: 1.3ms preprocess, 17.6ms inference, 2.2ms postprocess per image at shape (1, 3, 416, 416)\n",
      "\n",
      "image 1/1 /fab3/btech/2022/snehanshu.pal22b/SolarPanel/yolo_dataset/images/test/solarpanels_native_3__x0_5141_y0_14663_dxdy_416.tif: 416x416 9 solar_panels, 112.7ms\n",
      "Speed: 1.3ms preprocess, 112.7ms inference, 2.5ms postprocess per image at shape (1, 3, 416, 416)\n"
     ]
    },
    {
     "name": "stderr",
     "output_type": "stream",
     "text": [
      "Processing Images:  96%|█████████▌| 484/506 [00:38<00:01, 12.77it/s]"
     ]
    },
    {
     "name": "stdout",
     "output_type": "stream",
     "text": [
      "\n",
      "image 1/1 /fab3/btech/2022/snehanshu.pal22b/SolarPanel/yolo_dataset/images/test/solarpanels_native_2__x0_286_y0_14590_dxdy_416.tif: 416x416 3 solar_panels, 9.3ms\n",
      "Speed: 1.5ms preprocess, 9.3ms inference, 2.1ms postprocess per image at shape (1, 3, 416, 416)\n",
      "\n",
      "image 1/1 /fab3/btech/2022/snehanshu.pal22b/SolarPanel/yolo_dataset/images/test/solarpanels_native_1__x0_5679_y0_13003_dxdy_416.tif: 416x416 8 solar_panels, 9.1ms\n",
      "Speed: 1.2ms preprocess, 9.1ms inference, 1.7ms postprocess per image at shape (1, 3, 416, 416)\n",
      "\n",
      "image 1/1 /fab3/btech/2022/snehanshu.pal22b/SolarPanel/yolo_dataset/images/test/solarpanels_native_3__x0_5635_y0_868_dxdy_416.tif: 416x416 10 solar_panels, 22.0ms\n",
      "Speed: 1.3ms preprocess, 22.0ms inference, 2.1ms postprocess per image at shape (1, 3, 416, 416)\n"
     ]
    },
    {
     "name": "stderr",
     "output_type": "stream",
     "text": [
      "Processing Images:  96%|█████████▌| 487/506 [00:38<00:01, 14.92it/s]"
     ]
    },
    {
     "name": "stdout",
     "output_type": "stream",
     "text": [
      "\n",
      "image 1/1 /fab3/btech/2022/snehanshu.pal22b/SolarPanel/yolo_dataset/images/test/solarpanels_native_1__x0_769_y0_8559_dxdy_416.tif: 416x416 15 solar_panels, 12.0ms\n",
      "Speed: 1.8ms preprocess, 12.0ms inference, 2.3ms postprocess per image at shape (1, 3, 416, 416)\n",
      "\n",
      "image 1/1 /fab3/btech/2022/snehanshu.pal22b/SolarPanel/yolo_dataset/images/test/solarpanels_native_2__x0_1940_y0_10164_dxdy_416.tif: 416x416 3 solar_panels, 12.6ms\n",
      "Speed: 1.9ms preprocess, 12.6ms inference, 2.3ms postprocess per image at shape (1, 3, 416, 416)\n"
     ]
    },
    {
     "name": "stderr",
     "output_type": "stream",
     "text": [
      "Processing Images:  97%|█████████▋| 489/506 [00:38<00:01, 14.85it/s]"
     ]
    },
    {
     "name": "stdout",
     "output_type": "stream",
     "text": [
      "\n",
      "image 1/1 /fab3/btech/2022/snehanshu.pal22b/SolarPanel/yolo_dataset/images/test/solarpanels_native_1__x0_7212_y0_11228_dxdy_416.tif: 416x416 4 solar_panels, 8.8ms\n",
      "Speed: 1.3ms preprocess, 8.8ms inference, 1.7ms postprocess per image at shape (1, 3, 416, 416)\n",
      "\n",
      "image 1/1 /fab3/btech/2022/snehanshu.pal22b/SolarPanel/yolo_dataset/images/test/solarpanels_native_1__x0_9860_y0_10581_dxdy_416.tif: 416x416 13 solar_panels, 9.9ms\n",
      "Speed: 1.3ms preprocess, 9.9ms inference, 1.8ms postprocess per image at shape (1, 3, 416, 416)\n",
      "\n",
      "image 1/1 /fab3/btech/2022/snehanshu.pal22b/SolarPanel/yolo_dataset/images/test/solarpanels_native_1__x0_6430_y0_12092_dxdy_416.tif: 416x416 15 solar_panels, 8.1ms\n",
      "Speed: 1.1ms preprocess, 8.1ms inference, 3.6ms postprocess per image at shape (1, 3, 416, 416)\n",
      "\n",
      "image 1/1 /fab3/btech/2022/snehanshu.pal22b/SolarPanel/yolo_dataset/images/test/solarpanels_native_3__x0_9549_y0_13803_dxdy_416.tif: 416x416 8 solar_panels, 8.7ms\n",
      "Speed: 1.2ms preprocess, 8.7ms inference, 2.7ms postprocess per image at shape (1, 3, 416, 416)\n",
      "\n",
      "image 1/1 /fab3/btech/2022/snehanshu.pal22b/SolarPanel/yolo_dataset/images/test/solarpanels_native_3__x0_10236_y0_9820_dxdy_416.tif: 416x416 43 solar_panels, 8.9ms\n",
      "Speed: 1.5ms preprocess, 8.9ms inference, 1.7ms postprocess per image at shape (1, 3, 416, 416)\n"
     ]
    },
    {
     "name": "stderr",
     "output_type": "stream",
     "text": [
      "Processing Images:  98%|█████████▊| 494/506 [00:38<00:00, 20.43it/s]"
     ]
    },
    {
     "name": "stdout",
     "output_type": "stream",
     "text": [
      "\n",
      "image 1/1 /fab3/btech/2022/snehanshu.pal22b/SolarPanel/yolo_dataset/images/test/solarpanels_native_2__x0_960_y0_10570_dxdy_416.tif: 416x416 54 solar_panels, 9.3ms\n",
      "Speed: 1.6ms preprocess, 9.3ms inference, 2.0ms postprocess per image at shape (1, 3, 416, 416)\n",
      "\n",
      "image 1/1 /fab3/btech/2022/snehanshu.pal22b/SolarPanel/yolo_dataset/images/test/solarpanels_native_2__x0_527_y0_10846_dxdy_416.tif: 416x416 53 solar_panels, 48.3ms\n",
      "Speed: 1.6ms preprocess, 48.3ms inference, 2.0ms postprocess per image at shape (1, 3, 416, 416)\n",
      "\n",
      "image 1/1 /fab3/btech/2022/snehanshu.pal22b/SolarPanel/yolo_dataset/images/test/solarpanels_native_2__x0_1716_y0_9633_dxdy_416.tif: 416x416 4 solar_panels, 21.9ms\n",
      "Speed: 1.7ms preprocess, 21.9ms inference, 2.1ms postprocess per image at shape (1, 3, 416, 416)\n"
     ]
    },
    {
     "name": "stderr",
     "output_type": "stream",
     "text": [
      "Processing Images:  98%|█████████▊| 497/506 [00:38<00:00, 18.13it/s]"
     ]
    },
    {
     "name": "stdout",
     "output_type": "stream",
     "text": [
      "\n",
      "image 1/1 /fab3/btech/2022/snehanshu.pal22b/SolarPanel/yolo_dataset/images/test/solarpanels_native_2__x0_2252_y0_4398_dxdy_416.tif: 416x416 12 solar_panels, 23.6ms\n",
      "Speed: 1.2ms preprocess, 23.6ms inference, 5.1ms postprocess per image at shape (1, 3, 416, 416)\n",
      "\n",
      "image 1/1 /fab3/btech/2022/snehanshu.pal22b/SolarPanel/yolo_dataset/images/test/solarpanels_native_2__x0_1098_y0_8475_dxdy_416.tif: 416x416 8 solar_panels, 10.1ms\n",
      "Speed: 1.4ms preprocess, 10.1ms inference, 54.7ms postprocess per image at shape (1, 3, 416, 416)\n"
     ]
    },
    {
     "name": "stderr",
     "output_type": "stream",
     "text": [
      "Processing Images:  99%|█████████▊| 499/506 [00:39<00:00, 17.44it/s]"
     ]
    },
    {
     "name": "stdout",
     "output_type": "stream",
     "text": [
      "\n",
      "image 1/1 /fab3/btech/2022/snehanshu.pal22b/SolarPanel/yolo_dataset/images/test/solarpanels_native_2__x0_851_y0_10593_dxdy_416.tif: 416x416 66 solar_panels, 10.0ms\n",
      "Speed: 1.5ms preprocess, 10.0ms inference, 2.1ms postprocess per image at shape (1, 3, 416, 416)\n",
      "\n",
      "image 1/1 /fab3/btech/2022/snehanshu.pal22b/SolarPanel/yolo_dataset/images/test/solarpanels_native_1__x0_1073_y0_8078_dxdy_416.tif: 416x416 8 solar_panels, 9.8ms\n",
      "Speed: 1.4ms preprocess, 9.8ms inference, 2.0ms postprocess per image at shape (1, 3, 416, 416)\n"
     ]
    },
    {
     "name": "stderr",
     "output_type": "stream",
     "text": [
      "Processing Images:  99%|█████████▉| 501/506 [00:39<00:00, 17.93it/s]"
     ]
    },
    {
     "name": "stdout",
     "output_type": "stream",
     "text": [
      "\n",
      "image 1/1 /fab3/btech/2022/snehanshu.pal22b/SolarPanel/yolo_dataset/images/test/solarpanels_native_2__x0_11077_y0_12298_dxdy_416.tif: 416x416 9 solar_panels, 9.2ms\n",
      "Speed: 1.3ms preprocess, 9.2ms inference, 1.9ms postprocess per image at shape (1, 3, 416, 416)\n",
      "\n",
      "image 1/1 /fab3/btech/2022/snehanshu.pal22b/SolarPanel/yolo_dataset/images/test/solarpanels_native_1__x0_7786_y0_11517_dxdy_416.tif: 416x416 5 solar_panels, 15.6ms\n",
      "Speed: 1.4ms preprocess, 15.6ms inference, 18.9ms postprocess per image at shape (1, 3, 416, 416)\n"
     ]
    },
    {
     "name": "stderr",
     "output_type": "stream",
     "text": [
      "Processing Images:  99%|█████████▉| 503/506 [00:39<00:00, 15.48it/s]"
     ]
    },
    {
     "name": "stdout",
     "output_type": "stream",
     "text": [
      "\n",
      "image 1/1 /fab3/btech/2022/snehanshu.pal22b/SolarPanel/yolo_dataset/images/test/solarpanels_native_2__x0_3214_y0_1973_dxdy_416.tif: 416x416 2 solar_panels, 9.5ms\n",
      "Speed: 1.3ms preprocess, 9.5ms inference, 1.8ms postprocess per image at shape (1, 3, 416, 416)\n",
      "\n",
      "image 1/1 /fab3/btech/2022/snehanshu.pal22b/SolarPanel/yolo_dataset/images/test/solarpanels_native_3__x0_1516_y0_7807_dxdy_416.tif: 416x416 4 solar_panels, 19.6ms\n",
      "Speed: 16.4ms preprocess, 19.6ms inference, 1.8ms postprocess per image at shape (1, 3, 416, 416)\n"
     ]
    },
    {
     "name": "stderr",
     "output_type": "stream",
     "text": [
      "Processing Images: 100%|█████████▉| 505/506 [00:39<00:00, 15.37it/s]"
     ]
    },
    {
     "name": "stdout",
     "output_type": "stream",
     "text": [
      "\n",
      "image 1/1 /fab3/btech/2022/snehanshu.pal22b/SolarPanel/yolo_dataset/images/test/solarpanels_native_1__x0_934_y0_8791_dxdy_416.tif: 416x416 24 solar_panels, 11.0ms\n",
      "Speed: 1.3ms preprocess, 11.0ms inference, 1.8ms postprocess per image at shape (1, 3, 416, 416)\n"
     ]
    },
    {
     "name": "stderr",
     "output_type": "stream",
     "text": [
      "Processing Images: 100%|██████████| 506/506 [00:39<00:00, 12.81it/s]\n"
     ]
    }
   ],
   "source": [
    "import supervision as sv\n",
    "from supervision.metrics import MeanAveragePrecision\n",
    "\n",
    "def process_image_directory(image_dir):\n",
    "  \n",
    "    image_files = [f for f in os.listdir(image_dir) if f.lower().endswith(\".tif\")]\n",
    "    all_gt_detections = []\n",
    "    all_pred_detections = []\n",
    "\n",
    "    for image_name in tqdm(image_files, desc=\"Processing Images\"):\n",
    "        image_path = os.path.join(image_dir, image_name)\n",
    "        gt_detections, pred_detections = get_detections(image_path)\n",
    "        all_gt_detections.append(gt_detections)\n",
    "        all_pred_detections.append(pred_detections)\n",
    "\n",
    "    return all_gt_detections, all_pred_detections\n",
    "\n",
    "def get_detections(image_path):\n",
    "   \n",
    "    image = cv2.imread(image_path)\n",
    "    img_height, img_width, _ = image.shape\n",
    "\n",
    "    results = model(image_path)\n",
    "    predictions = results[0]\n",
    "\n",
    "    pred_xyxy = predictions.boxes.xyxy.cpu().numpy()\n",
    "    pred_conf = predictions.boxes.conf.cpu().numpy()\n",
    "    pred_cls = predictions.boxes.cls.cpu().numpy().astype(int)\n",
    "\n",
    "    pred_detections = sv.Detections(\n",
    "        xyxy=pred_xyxy,\n",
    "        confidence=pred_conf,\n",
    "        class_id=pred_cls,\n",
    "    )\n",
    "\n",
    "    image_name = os.path.basename(image_path)\n",
    "    base_name = os.path.splitext(image_name)[0]\n",
    "    label_path = os.path.join(\"yolo_dataset/labels/test\", f\"{base_name}.txt\")\n",
    "\n",
    "    gt_xyxy = []\n",
    "    gt_cls = []\n",
    "    if os.path.exists(label_path):\n",
    "        with open(label_path, \"r\") as f:\n",
    "            for line in f:\n",
    "                class_id, x, y, w, h = map(float, line.strip().split())\n",
    "                gt_xyxy.append(yolo_to_xyxy(x, y, w, h, img_width, img_height))\n",
    "                gt_cls.append(int(class_id))\n",
    "\n",
    "    gt_detections = sv.Detections(\n",
    "        xyxy=np.array(gt_xyxy),\n",
    "        class_id=np.array(gt_cls),\n",
    "    )\n",
    "\n",
    "    return gt_detections, pred_detections\n",
    "\n",
    "\n",
    "targets,predictions=process_image_directory(\"yolo_dataset/images/test\")\n",
    "\n",
    "map_metric = MeanAveragePrecision()\n",
    "map_result = map_metric.update(predictions, targets).compute()\n",
    "\n",
    "def print_to_file(f, c): open(f, 'w').write(str(c) + '\\n')\n",
    "\n",
    "print_to_file(\"output.txt\", map_result)"
   ]
  },
  {
   "cell_type": "code",
   "execution_count": 47,
   "metadata": {},
   "outputs": [
    {
     "name": "stdout",
     "output_type": "stream",
     "text": [
      "[[       5596         434]\n",
      " [        242           0]]\n"
     ]
    }
   ],
   "source": [
    "confusion_matrix = sv.ConfusionMatrix.from_detections(\n",
    "    predictions=predictions,\n",
    "    targets=targets,\n",
    "    classes=['solar_panel'],\n",
    "    conf_threshold=0.5,\n",
    "    iou_threshold=0.3\n",
    ")\n",
    "\n",
    "print(confusion_matrix.matrix)"
   ]
  },
  {
   "cell_type": "code",
   "execution_count": 51,
   "metadata": {},
   "outputs": [
    {
     "name": "stdout",
     "output_type": "stream",
     "text": [
      "\n",
      "Precision, Recall, F1-score Table\n",
      "    IoU Threshold  Confidence Threshold  Precision    Recall  F1-Score\n",
      "0             0.1                   0.1   0.848476  0.848476  0.848476\n",
      "1             0.1                   0.3   0.864667  0.864667  0.864667\n",
      "2             0.1                   0.5   0.892521  0.892521  0.892521\n",
      "3             0.1                   0.7   0.764067  0.764067  0.764067\n",
      "4             0.1                   0.9   0.166142  0.166142  0.166142\n",
      "5             0.3                   0.1   0.848476  0.848476  0.848476\n",
      "6             0.3                   0.3   0.864389  0.864389  0.864389\n",
      "7             0.3                   0.5   0.892219  0.892219  0.892219\n",
      "8             0.3                   0.7   0.764067  0.764067  0.764067\n",
      "9             0.3                   0.9   0.166142  0.166142  0.166142\n",
      "10            0.5                   0.1   0.839890  0.839890  0.839890\n",
      "11            0.5                   0.3   0.855255  0.855255  0.855255\n",
      "12            0.5                   0.5   0.885306  0.885306  0.885306\n",
      "13            0.5                   0.7   0.762327  0.762327  0.762327\n",
      "14            0.5                   0.9   0.166142  0.166142  0.166142\n",
      "15            0.7                   0.1   0.776703  0.776703  0.776703\n",
      "16            0.7                   0.3   0.792198  0.792198  0.792198\n",
      "17            0.7                   0.5   0.829787  0.829787  0.829787\n",
      "18            0.7                   0.7   0.745401  0.745401  0.745401\n",
      "19            0.7                   0.9   0.166142  0.166142  0.166142\n",
      "20            0.9                   0.1   0.281468  0.281468  0.281468\n",
      "21            0.9                   0.3   0.286361  0.286361  0.286361\n",
      "22            0.9                   0.5   0.304606  0.304606  0.304606\n",
      "23            0.9                   0.7   0.322561  0.322561  0.322561\n",
      "24            0.9                   0.9   0.156743  0.156743  0.156743\n"
     ]
    }
   ],
   "source": [
    "import numpy as np\n",
    "import supervision as sv\n",
    "import pandas as pd\n",
    "\n",
    "def compute_metrics(tp, fp, fn):\n",
    "    precision = tp / (tp + fp) if (tp + fp) > 0 else 0\n",
    "    recall = tp / (tp + fn) if (tp + fn) > 0 else 0\n",
    "    f1_score = (2 * precision * recall) / (precision + recall) if (precision + recall) > 0 else 0\n",
    "    return precision, recall, f1_score\n",
    "\n",
    "iou_thresholds = [0.1, 0.3, 0.5, 0.7, 0.9]\n",
    "confidence_thresholds = [0.1, 0.3, 0.5, 0.7, 0.9]\n",
    "\n",
    "\n",
    "data = []\n",
    "\n",
    "for iou_thresh in iou_thresholds:\n",
    "    for conf_thresh in confidence_thresholds:\n",
    "        confusion_matrix = sv.ConfusionMatrix.from_detections(\n",
    "            predictions=predictions,\n",
    "            targets=targets,\n",
    "            classes=['solar_panel'],\n",
    "            conf_threshold=conf_thresh,\n",
    "            iou_threshold=iou_thresh\n",
    "        )\n",
    "        \n",
    "        matrix = confusion_matrix.matrix\n",
    "        tp = np.diag(matrix).sum()\n",
    "        fp = matrix.sum(axis=0) - np.diag(matrix)\n",
    "        fn = matrix.sum(axis=1) - np.diag(matrix)\n",
    "        fp, fn = fp.sum(), fn.sum()\n",
    "        \n",
    "        precision, recall, f1_score = compute_metrics(tp, fp, fn)\n",
    "        data.append([iou_thresh, conf_thresh, precision, recall, f1_score])\n",
    "\n",
    "\n",
    "df = pd.DataFrame(data, columns=[\"IoU Threshold\", \"Confidence Threshold\", \"Precision\", \"Recall\", \"F1-Score\"])\n",
    "df.to_csv(\"metrics_results.csv\", index=False)\n",
    "\n",
    "\n",
    "print(\"\\nPrecision, Recall, F1-score Table\")\n",
    "print(df)\n"
   ]
  }
 ],
 "metadata": {
  "kernelspec": {
   "display_name": "iitgn",
   "language": "python",
   "name": "python3"
  },
  "language_info": {
   "codemirror_mode": {
    "name": "ipython",
    "version": 3
   },
   "file_extension": ".py",
   "mimetype": "text/x-python",
   "name": "python",
   "nbconvert_exporter": "python",
   "pygments_lexer": "ipython3",
   "version": "3.8.20"
  }
 },
 "nbformat": 4,
 "nbformat_minor": 2
}
